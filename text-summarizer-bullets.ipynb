{
 "cells": [
  {
   "cell_type": "markdown",
   "metadata": {},
   "source": [
    "# AI Text Summarizer"
   ]
  },
  {
   "cell_type": "markdown",
   "metadata": {},
   "source": [
    "### Import Requirements"
   ]
  },
  {
   "cell_type": "code",
   "execution_count": 35,
   "metadata": {},
   "outputs": [],
   "source": [
    "# python3 -m venv venv\n",
    "# source venv/bin/activate"
   ]
  },
  {
   "cell_type": "code",
   "execution_count": 36,
   "metadata": {},
   "outputs": [
    {
     "name": "stderr",
     "output_type": "stream",
     "text": [
      "huggingface/tokenizers: The current process just got forked, after parallelism has already been used. Disabling parallelism to avoid deadlocks...\n",
      "To disable this warning, you can either:\n",
      "\t- Avoid using `tokenizers` before the fork if possible\n",
      "\t- Explicitly set the environment variable TOKENIZERS_PARALLELISM=(true | false)\n"
     ]
    },
    {
     "name": "stdout",
     "output_type": "stream",
     "text": [
      "Requirement already satisfied: rouge_score in /Users/bshowell/Desktop/school/winter 24-25/480/.venv/lib/python3.12/site-packages (0.1.2)\n",
      "Requirement already satisfied: absl-py in /Users/bshowell/Desktop/school/winter 24-25/480/.venv/lib/python3.12/site-packages (from rouge_score) (2.1.0)\n",
      "Requirement already satisfied: nltk in /Users/bshowell/Desktop/school/winter 24-25/480/.venv/lib/python3.12/site-packages (from rouge_score) (3.9.1)\n",
      "Requirement already satisfied: numpy in /Users/bshowell/Desktop/school/winter 24-25/480/.venv/lib/python3.12/site-packages (from rouge_score) (2.2.1)\n",
      "Requirement already satisfied: six>=1.14.0 in /Users/bshowell/Desktop/school/winter 24-25/480/.venv/lib/python3.12/site-packages (from rouge_score) (1.17.0)\n",
      "Requirement already satisfied: click in /Users/bshowell/Desktop/school/winter 24-25/480/.venv/lib/python3.12/site-packages (from nltk->rouge_score) (8.1.8)\n",
      "Requirement already satisfied: joblib in /Users/bshowell/Desktop/school/winter 24-25/480/.venv/lib/python3.12/site-packages (from nltk->rouge_score) (1.4.2)\n",
      "Requirement already satisfied: regex>=2021.8.3 in /Users/bshowell/Desktop/school/winter 24-25/480/.venv/lib/python3.12/site-packages (from nltk->rouge_score) (2024.11.6)\n",
      "Requirement already satisfied: tqdm in /Users/bshowell/Desktop/school/winter 24-25/480/.venv/lib/python3.12/site-packages (from nltk->rouge_score) (4.67.1)\n",
      "\n",
      "\u001b[1m[\u001b[0m\u001b[34;49mnotice\u001b[0m\u001b[1;39;49m]\u001b[0m\u001b[39;49m A new release of pip is available: \u001b[0m\u001b[31;49m24.3.1\u001b[0m\u001b[39;49m -> \u001b[0m\u001b[32;49m25.0.1\u001b[0m\n",
      "\u001b[1m[\u001b[0m\u001b[34;49mnotice\u001b[0m\u001b[1;39;49m]\u001b[0m\u001b[39;49m To update, run: \u001b[0m\u001b[32;49m/Users/bshowell/Desktop/school/winter 24-25/480/.venv/bin/python -m pip install --upgrade pip\u001b[0m\n",
      "Note: you may need to restart the kernel to use updated packages.\n"
     ]
    },
    {
     "name": "stderr",
     "output_type": "stream",
     "text": [
      "huggingface/tokenizers: The current process just got forked, after parallelism has already been used. Disabling parallelism to avoid deadlocks...\n",
      "To disable this warning, you can either:\n",
      "\t- Avoid using `tokenizers` before the fork if possible\n",
      "\t- Explicitly set the environment variable TOKENIZERS_PARALLELISM=(true | false)\n"
     ]
    },
    {
     "name": "stdout",
     "output_type": "stream",
     "text": [
      "Requirement already satisfied: evaluate in /Users/bshowell/Desktop/school/winter 24-25/480/.venv/lib/python3.12/site-packages (0.4.3)\n",
      "Requirement already satisfied: datasets>=2.0.0 in /Users/bshowell/Desktop/school/winter 24-25/480/.venv/lib/python3.12/site-packages (from evaluate) (3.3.2)\n",
      "Requirement already satisfied: numpy>=1.17 in /Users/bshowell/Desktop/school/winter 24-25/480/.venv/lib/python3.12/site-packages (from evaluate) (2.2.1)\n",
      "Requirement already satisfied: dill in /Users/bshowell/Desktop/school/winter 24-25/480/.venv/lib/python3.12/site-packages (from evaluate) (0.3.8)\n",
      "Requirement already satisfied: pandas in /Users/bshowell/Desktop/school/winter 24-25/480/.venv/lib/python3.12/site-packages (from evaluate) (2.2.3)\n",
      "Requirement already satisfied: requests>=2.19.0 in /Users/bshowell/Desktop/school/winter 24-25/480/.venv/lib/python3.12/site-packages (from evaluate) (2.32.3)\n",
      "Requirement already satisfied: tqdm>=4.62.1 in /Users/bshowell/Desktop/school/winter 24-25/480/.venv/lib/python3.12/site-packages (from evaluate) (4.67.1)\n",
      "Requirement already satisfied: xxhash in /Users/bshowell/Desktop/school/winter 24-25/480/.venv/lib/python3.12/site-packages (from evaluate) (3.5.0)\n",
      "Requirement already satisfied: multiprocess in /Users/bshowell/Desktop/school/winter 24-25/480/.venv/lib/python3.12/site-packages (from evaluate) (0.70.16)\n",
      "Requirement already satisfied: fsspec>=2021.05.0 in /Users/bshowell/Desktop/school/winter 24-25/480/.venv/lib/python3.12/site-packages (from fsspec[http]>=2021.05.0->evaluate) (2024.9.0)\n",
      "Requirement already satisfied: huggingface-hub>=0.7.0 in /Users/bshowell/Desktop/school/winter 24-25/480/.venv/lib/python3.12/site-packages (from evaluate) (0.28.1)\n",
      "Requirement already satisfied: packaging in /Users/bshowell/Desktop/school/winter 24-25/480/.venv/lib/python3.12/site-packages (from evaluate) (24.2)\n",
      "Requirement already satisfied: filelock in /Users/bshowell/Desktop/school/winter 24-25/480/.venv/lib/python3.12/site-packages (from datasets>=2.0.0->evaluate) (3.17.0)\n",
      "Requirement already satisfied: pyarrow>=15.0.0 in /Users/bshowell/Desktop/school/winter 24-25/480/.venv/lib/python3.12/site-packages (from datasets>=2.0.0->evaluate) (19.0.0)\n",
      "Requirement already satisfied: aiohttp in /Users/bshowell/Desktop/school/winter 24-25/480/.venv/lib/python3.12/site-packages (from datasets>=2.0.0->evaluate) (3.11.12)\n",
      "Requirement already satisfied: pyyaml>=5.1 in /Users/bshowell/Desktop/school/winter 24-25/480/.venv/lib/python3.12/site-packages (from datasets>=2.0.0->evaluate) (6.0.2)\n",
      "Requirement already satisfied: typing-extensions>=3.7.4.3 in /Users/bshowell/Desktop/school/winter 24-25/480/.venv/lib/python3.12/site-packages (from huggingface-hub>=0.7.0->evaluate) (4.12.2)\n",
      "Requirement already satisfied: charset-normalizer<4,>=2 in /Users/bshowell/Desktop/school/winter 24-25/480/.venv/lib/python3.12/site-packages (from requests>=2.19.0->evaluate) (3.4.1)\n",
      "Requirement already satisfied: idna<4,>=2.5 in /Users/bshowell/Desktop/school/winter 24-25/480/.venv/lib/python3.12/site-packages (from requests>=2.19.0->evaluate) (3.10)\n",
      "Requirement already satisfied: urllib3<3,>=1.21.1 in /Users/bshowell/Desktop/school/winter 24-25/480/.venv/lib/python3.12/site-packages (from requests>=2.19.0->evaluate) (2.3.0)\n",
      "Requirement already satisfied: certifi>=2017.4.17 in /Users/bshowell/Desktop/school/winter 24-25/480/.venv/lib/python3.12/site-packages (from requests>=2.19.0->evaluate) (2025.1.31)\n",
      "Requirement already satisfied: python-dateutil>=2.8.2 in /Users/bshowell/Desktop/school/winter 24-25/480/.venv/lib/python3.12/site-packages (from pandas->evaluate) (2.9.0.post0)\n",
      "Requirement already satisfied: pytz>=2020.1 in /Users/bshowell/Desktop/school/winter 24-25/480/.venv/lib/python3.12/site-packages (from pandas->evaluate) (2024.2)\n",
      "Requirement already satisfied: tzdata>=2022.7 in /Users/bshowell/Desktop/school/winter 24-25/480/.venv/lib/python3.12/site-packages (from pandas->evaluate) (2024.2)\n",
      "Requirement already satisfied: aiohappyeyeballs>=2.3.0 in /Users/bshowell/Desktop/school/winter 24-25/480/.venv/lib/python3.12/site-packages (from aiohttp->datasets>=2.0.0->evaluate) (2.4.6)\n",
      "Requirement already satisfied: aiosignal>=1.1.2 in /Users/bshowell/Desktop/school/winter 24-25/480/.venv/lib/python3.12/site-packages (from aiohttp->datasets>=2.0.0->evaluate) (1.3.2)\n",
      "Requirement already satisfied: attrs>=17.3.0 in /Users/bshowell/Desktop/school/winter 24-25/480/.venv/lib/python3.12/site-packages (from aiohttp->datasets>=2.0.0->evaluate) (25.1.0)\n",
      "Requirement already satisfied: frozenlist>=1.1.1 in /Users/bshowell/Desktop/school/winter 24-25/480/.venv/lib/python3.12/site-packages (from aiohttp->datasets>=2.0.0->evaluate) (1.5.0)\n",
      "Requirement already satisfied: multidict<7.0,>=4.5 in /Users/bshowell/Desktop/school/winter 24-25/480/.venv/lib/python3.12/site-packages (from aiohttp->datasets>=2.0.0->evaluate) (6.1.0)\n",
      "Requirement already satisfied: propcache>=0.2.0 in /Users/bshowell/Desktop/school/winter 24-25/480/.venv/lib/python3.12/site-packages (from aiohttp->datasets>=2.0.0->evaluate) (0.2.1)\n",
      "Requirement already satisfied: yarl<2.0,>=1.17.0 in /Users/bshowell/Desktop/school/winter 24-25/480/.venv/lib/python3.12/site-packages (from aiohttp->datasets>=2.0.0->evaluate) (1.18.3)\n",
      "Requirement already satisfied: six>=1.5 in /Users/bshowell/Desktop/school/winter 24-25/480/.venv/lib/python3.12/site-packages (from python-dateutil>=2.8.2->pandas->evaluate) (1.17.0)\n",
      "\n",
      "\u001b[1m[\u001b[0m\u001b[34;49mnotice\u001b[0m\u001b[1;39;49m]\u001b[0m\u001b[39;49m A new release of pip is available: \u001b[0m\u001b[31;49m24.3.1\u001b[0m\u001b[39;49m -> \u001b[0m\u001b[32;49m25.0.1\u001b[0m\n",
      "\u001b[1m[\u001b[0m\u001b[34;49mnotice\u001b[0m\u001b[1;39;49m]\u001b[0m\u001b[39;49m To update, run: \u001b[0m\u001b[32;49m/Users/bshowell/Desktop/school/winter 24-25/480/.venv/bin/python -m pip install --upgrade pip\u001b[0m\n",
      "Note: you may need to restart the kernel to use updated packages.\n"
     ]
    },
    {
     "name": "stderr",
     "output_type": "stream",
     "text": [
      "huggingface/tokenizers: The current process just got forked, after parallelism has already been used. Disabling parallelism to avoid deadlocks...\n",
      "To disable this warning, you can either:\n",
      "\t- Avoid using `tokenizers` before the fork if possible\n",
      "\t- Explicitly set the environment variable TOKENIZERS_PARALLELISM=(true | false)\n"
     ]
    },
    {
     "name": "stdout",
     "output_type": "stream",
     "text": [
      "\n",
      "\u001b[1m[\u001b[0m\u001b[34;49mnotice\u001b[0m\u001b[1;39;49m]\u001b[0m\u001b[39;49m A new release of pip is available: \u001b[0m\u001b[31;49m24.3.1\u001b[0m\u001b[39;49m -> \u001b[0m\u001b[32;49m25.0.1\u001b[0m\n",
      "\u001b[1m[\u001b[0m\u001b[34;49mnotice\u001b[0m\u001b[1;39;49m]\u001b[0m\u001b[39;49m To update, run: \u001b[0m\u001b[32;49m/Users/bshowell/Desktop/school/winter 24-25/480/.venv/bin/python -m pip install --upgrade pip\u001b[0m\n",
      "Note: you may need to restart the kernel to use updated packages.\n"
     ]
    },
    {
     "name": "stderr",
     "output_type": "stream",
     "text": [
      "huggingface/tokenizers: The current process just got forked, after parallelism has already been used. Disabling parallelism to avoid deadlocks...\n",
      "To disable this warning, you can either:\n",
      "\t- Avoid using `tokenizers` before the fork if possible\n",
      "\t- Explicitly set the environment variable TOKENIZERS_PARALLELISM=(true | false)\n"
     ]
    },
    {
     "name": "stdout",
     "output_type": "stream",
     "text": [
      "Requirement already satisfied: datasets in /Users/bshowell/Desktop/school/winter 24-25/480/.venv/lib/python3.12/site-packages (3.3.2)\n",
      "Requirement already satisfied: filelock in /Users/bshowell/Desktop/school/winter 24-25/480/.venv/lib/python3.12/site-packages (from datasets) (3.17.0)\n",
      "Requirement already satisfied: numpy>=1.17 in /Users/bshowell/Desktop/school/winter 24-25/480/.venv/lib/python3.12/site-packages (from datasets) (2.2.1)\n",
      "Requirement already satisfied: pyarrow>=15.0.0 in /Users/bshowell/Desktop/school/winter 24-25/480/.venv/lib/python3.12/site-packages (from datasets) (19.0.0)\n",
      "Requirement already satisfied: dill<0.3.9,>=0.3.0 in /Users/bshowell/Desktop/school/winter 24-25/480/.venv/lib/python3.12/site-packages (from datasets) (0.3.8)\n",
      "Requirement already satisfied: pandas in /Users/bshowell/Desktop/school/winter 24-25/480/.venv/lib/python3.12/site-packages (from datasets) (2.2.3)\n",
      "Requirement already satisfied: requests>=2.32.2 in /Users/bshowell/Desktop/school/winter 24-25/480/.venv/lib/python3.12/site-packages (from datasets) (2.32.3)\n",
      "Requirement already satisfied: tqdm>=4.66.3 in /Users/bshowell/Desktop/school/winter 24-25/480/.venv/lib/python3.12/site-packages (from datasets) (4.67.1)\n",
      "Requirement already satisfied: xxhash in /Users/bshowell/Desktop/school/winter 24-25/480/.venv/lib/python3.12/site-packages (from datasets) (3.5.0)\n",
      "Requirement already satisfied: multiprocess<0.70.17 in /Users/bshowell/Desktop/school/winter 24-25/480/.venv/lib/python3.12/site-packages (from datasets) (0.70.16)\n",
      "Requirement already satisfied: fsspec<=2024.12.0,>=2023.1.0 in /Users/bshowell/Desktop/school/winter 24-25/480/.venv/lib/python3.12/site-packages (from fsspec[http]<=2024.12.0,>=2023.1.0->datasets) (2024.9.0)\n",
      "Requirement already satisfied: aiohttp in /Users/bshowell/Desktop/school/winter 24-25/480/.venv/lib/python3.12/site-packages (from datasets) (3.11.12)\n",
      "Requirement already satisfied: huggingface-hub>=0.24.0 in /Users/bshowell/Desktop/school/winter 24-25/480/.venv/lib/python3.12/site-packages (from datasets) (0.28.1)\n",
      "Requirement already satisfied: packaging in /Users/bshowell/Desktop/school/winter 24-25/480/.venv/lib/python3.12/site-packages (from datasets) (24.2)\n",
      "Requirement already satisfied: pyyaml>=5.1 in /Users/bshowell/Desktop/school/winter 24-25/480/.venv/lib/python3.12/site-packages (from datasets) (6.0.2)\n",
      "Requirement already satisfied: aiohappyeyeballs>=2.3.0 in /Users/bshowell/Desktop/school/winter 24-25/480/.venv/lib/python3.12/site-packages (from aiohttp->datasets) (2.4.6)\n",
      "Requirement already satisfied: aiosignal>=1.1.2 in /Users/bshowell/Desktop/school/winter 24-25/480/.venv/lib/python3.12/site-packages (from aiohttp->datasets) (1.3.2)\n",
      "Requirement already satisfied: attrs>=17.3.0 in /Users/bshowell/Desktop/school/winter 24-25/480/.venv/lib/python3.12/site-packages (from aiohttp->datasets) (25.1.0)\n",
      "Requirement already satisfied: frozenlist>=1.1.1 in /Users/bshowell/Desktop/school/winter 24-25/480/.venv/lib/python3.12/site-packages (from aiohttp->datasets) (1.5.0)\n",
      "Requirement already satisfied: multidict<7.0,>=4.5 in /Users/bshowell/Desktop/school/winter 24-25/480/.venv/lib/python3.12/site-packages (from aiohttp->datasets) (6.1.0)\n",
      "Requirement already satisfied: propcache>=0.2.0 in /Users/bshowell/Desktop/school/winter 24-25/480/.venv/lib/python3.12/site-packages (from aiohttp->datasets) (0.2.1)\n",
      "Requirement already satisfied: yarl<2.0,>=1.17.0 in /Users/bshowell/Desktop/school/winter 24-25/480/.venv/lib/python3.12/site-packages (from aiohttp->datasets) (1.18.3)\n",
      "Requirement already satisfied: typing-extensions>=3.7.4.3 in /Users/bshowell/Desktop/school/winter 24-25/480/.venv/lib/python3.12/site-packages (from huggingface-hub>=0.24.0->datasets) (4.12.2)\n",
      "Requirement already satisfied: charset-normalizer<4,>=2 in /Users/bshowell/Desktop/school/winter 24-25/480/.venv/lib/python3.12/site-packages (from requests>=2.32.2->datasets) (3.4.1)\n",
      "Requirement already satisfied: idna<4,>=2.5 in /Users/bshowell/Desktop/school/winter 24-25/480/.venv/lib/python3.12/site-packages (from requests>=2.32.2->datasets) (3.10)\n",
      "Requirement already satisfied: urllib3<3,>=1.21.1 in /Users/bshowell/Desktop/school/winter 24-25/480/.venv/lib/python3.12/site-packages (from requests>=2.32.2->datasets) (2.3.0)\n",
      "Requirement already satisfied: certifi>=2017.4.17 in /Users/bshowell/Desktop/school/winter 24-25/480/.venv/lib/python3.12/site-packages (from requests>=2.32.2->datasets) (2025.1.31)\n",
      "Requirement already satisfied: python-dateutil>=2.8.2 in /Users/bshowell/Desktop/school/winter 24-25/480/.venv/lib/python3.12/site-packages (from pandas->datasets) (2.9.0.post0)\n",
      "Requirement already satisfied: pytz>=2020.1 in /Users/bshowell/Desktop/school/winter 24-25/480/.venv/lib/python3.12/site-packages (from pandas->datasets) (2024.2)\n",
      "Requirement already satisfied: tzdata>=2022.7 in /Users/bshowell/Desktop/school/winter 24-25/480/.venv/lib/python3.12/site-packages (from pandas->datasets) (2024.2)\n",
      "Requirement already satisfied: six>=1.5 in /Users/bshowell/Desktop/school/winter 24-25/480/.venv/lib/python3.12/site-packages (from python-dateutil>=2.8.2->pandas->datasets) (1.17.0)\n",
      "\n",
      "\u001b[1m[\u001b[0m\u001b[34;49mnotice\u001b[0m\u001b[1;39;49m]\u001b[0m\u001b[39;49m A new release of pip is available: \u001b[0m\u001b[31;49m24.3.1\u001b[0m\u001b[39;49m -> \u001b[0m\u001b[32;49m25.0.1\u001b[0m\n",
      "\u001b[1m[\u001b[0m\u001b[34;49mnotice\u001b[0m\u001b[1;39;49m]\u001b[0m\u001b[39;49m To update, run: \u001b[0m\u001b[32;49m/Users/bshowell/Desktop/school/winter 24-25/480/.venv/bin/python -m pip install --upgrade pip\u001b[0m\n",
      "Note: you may need to restart the kernel to use updated packages.\n"
     ]
    },
    {
     "name": "stderr",
     "output_type": "stream",
     "text": [
      "huggingface/tokenizers: The current process just got forked, after parallelism has already been used. Disabling parallelism to avoid deadlocks...\n",
      "To disable this warning, you can either:\n",
      "\t- Avoid using `tokenizers` before the fork if possible\n",
      "\t- Explicitly set the environment variable TOKENIZERS_PARALLELISM=(true | false)\n"
     ]
    },
    {
     "name": "stdout",
     "output_type": "stream",
     "text": [
      "Requirement already satisfied: python-dotenv in /Users/bshowell/Desktop/school/winter 24-25/480/.venv/lib/python3.12/site-packages (1.0.1)\n",
      "\n",
      "\u001b[1m[\u001b[0m\u001b[34;49mnotice\u001b[0m\u001b[1;39;49m]\u001b[0m\u001b[39;49m A new release of pip is available: \u001b[0m\u001b[31;49m24.3.1\u001b[0m\u001b[39;49m -> \u001b[0m\u001b[32;49m25.0.1\u001b[0m\n",
      "\u001b[1m[\u001b[0m\u001b[34;49mnotice\u001b[0m\u001b[1;39;49m]\u001b[0m\u001b[39;49m To update, run: \u001b[0m\u001b[32;49m/Users/bshowell/Desktop/school/winter 24-25/480/.venv/bin/python -m pip install --upgrade pip\u001b[0m\n",
      "Note: you may need to restart the kernel to use updated packages.\n"
     ]
    },
    {
     "name": "stderr",
     "output_type": "stream",
     "text": [
      "huggingface/tokenizers: The current process just got forked, after parallelism has already been used. Disabling parallelism to avoid deadlocks...\n",
      "To disable this warning, you can either:\n",
      "\t- Avoid using `tokenizers` before the fork if possible\n",
      "\t- Explicitly set the environment variable TOKENIZERS_PARALLELISM=(true | false)\n"
     ]
    },
    {
     "name": "stdout",
     "output_type": "stream",
     "text": [
      "Looking in indexes: https://download.pytorch.org/whl/cu121\n",
      "\u001b[31mERROR: Could not find a version that satisfies the requirement torch==2.4.1 (from versions: none)\u001b[0m\u001b[31m\n",
      "\u001b[0m\n",
      "\u001b[1m[\u001b[0m\u001b[34;49mnotice\u001b[0m\u001b[1;39;49m]\u001b[0m\u001b[39;49m A new release of pip is available: \u001b[0m\u001b[31;49m24.3.1\u001b[0m\u001b[39;49m -> \u001b[0m\u001b[32;49m25.0.1\u001b[0m\n",
      "\u001b[1m[\u001b[0m\u001b[34;49mnotice\u001b[0m\u001b[1;39;49m]\u001b[0m\u001b[39;49m To update, run: \u001b[0m\u001b[32;49m/Users/bshowell/Desktop/school/winter 24-25/480/.venv/bin/python -m pip install --upgrade pip\u001b[0m\n",
      "\u001b[31mERROR: No matching distribution found for torch==2.4.1\u001b[0m\u001b[31m\n",
      "\u001b[0mNote: you may need to restart the kernel to use updated packages.\n"
     ]
    },
    {
     "name": "stderr",
     "output_type": "stream",
     "text": [
      "huggingface/tokenizers: The current process just got forked, after parallelism has already been used. Disabling parallelism to avoid deadlocks...\n",
      "To disable this warning, you can either:\n",
      "\t- Avoid using `tokenizers` before the fork if possible\n",
      "\t- Explicitly set the environment variable TOKENIZERS_PARALLELISM=(true | false)\n"
     ]
    },
    {
     "name": "stdout",
     "output_type": "stream",
     "text": [
      "Requirement already satisfied: transformers in /Users/bshowell/Desktop/school/winter 24-25/480/.venv/lib/python3.12/site-packages (4.49.0)\n",
      "Requirement already satisfied: filelock in /Users/bshowell/Desktop/school/winter 24-25/480/.venv/lib/python3.12/site-packages (from transformers) (3.17.0)\n",
      "Requirement already satisfied: huggingface-hub<1.0,>=0.26.0 in /Users/bshowell/Desktop/school/winter 24-25/480/.venv/lib/python3.12/site-packages (from transformers) (0.28.1)\n",
      "Requirement already satisfied: numpy>=1.17 in /Users/bshowell/Desktop/school/winter 24-25/480/.venv/lib/python3.12/site-packages (from transformers) (2.2.1)\n",
      "Requirement already satisfied: packaging>=20.0 in /Users/bshowell/Desktop/school/winter 24-25/480/.venv/lib/python3.12/site-packages (from transformers) (24.2)\n",
      "Requirement already satisfied: pyyaml>=5.1 in /Users/bshowell/Desktop/school/winter 24-25/480/.venv/lib/python3.12/site-packages (from transformers) (6.0.2)\n",
      "Requirement already satisfied: regex!=2019.12.17 in /Users/bshowell/Desktop/school/winter 24-25/480/.venv/lib/python3.12/site-packages (from transformers) (2024.11.6)\n",
      "Requirement already satisfied: requests in /Users/bshowell/Desktop/school/winter 24-25/480/.venv/lib/python3.12/site-packages (from transformers) (2.32.3)\n",
      "Requirement already satisfied: tokenizers<0.22,>=0.21 in /Users/bshowell/Desktop/school/winter 24-25/480/.venv/lib/python3.12/site-packages (from transformers) (0.21.0)\n",
      "Requirement already satisfied: safetensors>=0.4.1 in /Users/bshowell/Desktop/school/winter 24-25/480/.venv/lib/python3.12/site-packages (from transformers) (0.5.2)\n",
      "Requirement already satisfied: tqdm>=4.27 in /Users/bshowell/Desktop/school/winter 24-25/480/.venv/lib/python3.12/site-packages (from transformers) (4.67.1)\n",
      "Requirement already satisfied: fsspec>=2023.5.0 in /Users/bshowell/Desktop/school/winter 24-25/480/.venv/lib/python3.12/site-packages (from huggingface-hub<1.0,>=0.26.0->transformers) (2024.9.0)\n",
      "Requirement already satisfied: typing-extensions>=3.7.4.3 in /Users/bshowell/Desktop/school/winter 24-25/480/.venv/lib/python3.12/site-packages (from huggingface-hub<1.0,>=0.26.0->transformers) (4.12.2)\n",
      "Requirement already satisfied: charset-normalizer<4,>=2 in /Users/bshowell/Desktop/school/winter 24-25/480/.venv/lib/python3.12/site-packages (from requests->transformers) (3.4.1)\n",
      "Requirement already satisfied: idna<4,>=2.5 in /Users/bshowell/Desktop/school/winter 24-25/480/.venv/lib/python3.12/site-packages (from requests->transformers) (3.10)\n",
      "Requirement already satisfied: urllib3<3,>=1.21.1 in /Users/bshowell/Desktop/school/winter 24-25/480/.venv/lib/python3.12/site-packages (from requests->transformers) (2.3.0)\n",
      "Requirement already satisfied: certifi>=2017.4.17 in /Users/bshowell/Desktop/school/winter 24-25/480/.venv/lib/python3.12/site-packages (from requests->transformers) (2025.1.31)\n",
      "\n",
      "\u001b[1m[\u001b[0m\u001b[34;49mnotice\u001b[0m\u001b[1;39;49m]\u001b[0m\u001b[39;49m A new release of pip is available: \u001b[0m\u001b[31;49m24.3.1\u001b[0m\u001b[39;49m -> \u001b[0m\u001b[32;49m25.0.1\u001b[0m\n",
      "\u001b[1m[\u001b[0m\u001b[34;49mnotice\u001b[0m\u001b[1;39;49m]\u001b[0m\u001b[39;49m To update, run: \u001b[0m\u001b[32;49m/Users/bshowell/Desktop/school/winter 24-25/480/.venv/bin/python -m pip install --upgrade pip\u001b[0m\n",
      "Note: you may need to restart the kernel to use updated packages.\n"
     ]
    },
    {
     "name": "stderr",
     "output_type": "stream",
     "text": [
      "huggingface/tokenizers: The current process just got forked, after parallelism has already been used. Disabling parallelism to avoid deadlocks...\n",
      "To disable this warning, you can either:\n",
      "\t- Avoid using `tokenizers` before the fork if possible\n",
      "\t- Explicitly set the environment variable TOKENIZERS_PARALLELISM=(true | false)\n"
     ]
    },
    {
     "name": "stdout",
     "output_type": "stream",
     "text": [
      "Requirement already satisfied: transformers[torch] in /Users/bshowell/Desktop/school/winter 24-25/480/.venv/lib/python3.12/site-packages (4.49.0)\n",
      "Requirement already satisfied: filelock in /Users/bshowell/Desktop/school/winter 24-25/480/.venv/lib/python3.12/site-packages (from transformers[torch]) (3.17.0)\n",
      "Requirement already satisfied: huggingface-hub<1.0,>=0.26.0 in /Users/bshowell/Desktop/school/winter 24-25/480/.venv/lib/python3.12/site-packages (from transformers[torch]) (0.28.1)\n",
      "Requirement already satisfied: numpy>=1.17 in /Users/bshowell/Desktop/school/winter 24-25/480/.venv/lib/python3.12/site-packages (from transformers[torch]) (2.2.1)\n",
      "Requirement already satisfied: packaging>=20.0 in /Users/bshowell/Desktop/school/winter 24-25/480/.venv/lib/python3.12/site-packages (from transformers[torch]) (24.2)\n",
      "Requirement already satisfied: pyyaml>=5.1 in /Users/bshowell/Desktop/school/winter 24-25/480/.venv/lib/python3.12/site-packages (from transformers[torch]) (6.0.2)\n",
      "Requirement already satisfied: regex!=2019.12.17 in /Users/bshowell/Desktop/school/winter 24-25/480/.venv/lib/python3.12/site-packages (from transformers[torch]) (2024.11.6)\n",
      "Requirement already satisfied: requests in /Users/bshowell/Desktop/school/winter 24-25/480/.venv/lib/python3.12/site-packages (from transformers[torch]) (2.32.3)\n",
      "Requirement already satisfied: tokenizers<0.22,>=0.21 in /Users/bshowell/Desktop/school/winter 24-25/480/.venv/lib/python3.12/site-packages (from transformers[torch]) (0.21.0)\n",
      "Requirement already satisfied: safetensors>=0.4.1 in /Users/bshowell/Desktop/school/winter 24-25/480/.venv/lib/python3.12/site-packages (from transformers[torch]) (0.5.2)\n",
      "Requirement already satisfied: tqdm>=4.27 in /Users/bshowell/Desktop/school/winter 24-25/480/.venv/lib/python3.12/site-packages (from transformers[torch]) (4.67.1)\n",
      "Requirement already satisfied: torch>=2.0 in /Users/bshowell/Desktop/school/winter 24-25/480/.venv/lib/python3.12/site-packages (from transformers[torch]) (2.6.0)\n",
      "Requirement already satisfied: accelerate>=0.26.0 in /Users/bshowell/Desktop/school/winter 24-25/480/.venv/lib/python3.12/site-packages (from transformers[torch]) (1.3.0)\n",
      "Requirement already satisfied: psutil in /Users/bshowell/Desktop/school/winter 24-25/480/.venv/lib/python3.12/site-packages (from accelerate>=0.26.0->transformers[torch]) (6.1.1)\n",
      "Requirement already satisfied: fsspec>=2023.5.0 in /Users/bshowell/Desktop/school/winter 24-25/480/.venv/lib/python3.12/site-packages (from huggingface-hub<1.0,>=0.26.0->transformers[torch]) (2024.9.0)\n",
      "Requirement already satisfied: typing-extensions>=3.7.4.3 in /Users/bshowell/Desktop/school/winter 24-25/480/.venv/lib/python3.12/site-packages (from huggingface-hub<1.0,>=0.26.0->transformers[torch]) (4.12.2)\n",
      "Requirement already satisfied: networkx in /Users/bshowell/Desktop/school/winter 24-25/480/.venv/lib/python3.12/site-packages (from torch>=2.0->transformers[torch]) (3.4.2)\n",
      "Requirement already satisfied: jinja2 in /Users/bshowell/Desktop/school/winter 24-25/480/.venv/lib/python3.12/site-packages (from torch>=2.0->transformers[torch]) (3.1.5)\n",
      "Requirement already satisfied: setuptools in /Users/bshowell/Desktop/school/winter 24-25/480/.venv/lib/python3.12/site-packages (from torch>=2.0->transformers[torch]) (75.8.0)\n",
      "Requirement already satisfied: sympy==1.13.1 in /Users/bshowell/Desktop/school/winter 24-25/480/.venv/lib/python3.12/site-packages (from torch>=2.0->transformers[torch]) (1.13.1)\n",
      "Requirement already satisfied: mpmath<1.4,>=1.1.0 in /Users/bshowell/Desktop/school/winter 24-25/480/.venv/lib/python3.12/site-packages (from sympy==1.13.1->torch>=2.0->transformers[torch]) (1.3.0)\n",
      "Requirement already satisfied: charset-normalizer<4,>=2 in /Users/bshowell/Desktop/school/winter 24-25/480/.venv/lib/python3.12/site-packages (from requests->transformers[torch]) (3.4.1)\n",
      "Requirement already satisfied: idna<4,>=2.5 in /Users/bshowell/Desktop/school/winter 24-25/480/.venv/lib/python3.12/site-packages (from requests->transformers[torch]) (3.10)\n",
      "Requirement already satisfied: urllib3<3,>=1.21.1 in /Users/bshowell/Desktop/school/winter 24-25/480/.venv/lib/python3.12/site-packages (from requests->transformers[torch]) (2.3.0)\n",
      "Requirement already satisfied: certifi>=2017.4.17 in /Users/bshowell/Desktop/school/winter 24-25/480/.venv/lib/python3.12/site-packages (from requests->transformers[torch]) (2025.1.31)\n",
      "Requirement already satisfied: MarkupSafe>=2.0 in /Users/bshowell/Desktop/school/winter 24-25/480/.venv/lib/python3.12/site-packages (from jinja2->torch>=2.0->transformers[torch]) (3.0.2)\n",
      "\n",
      "\u001b[1m[\u001b[0m\u001b[34;49mnotice\u001b[0m\u001b[1;39;49m]\u001b[0m\u001b[39;49m A new release of pip is available: \u001b[0m\u001b[31;49m24.3.1\u001b[0m\u001b[39;49m -> \u001b[0m\u001b[32;49m25.0.1\u001b[0m\n",
      "\u001b[1m[\u001b[0m\u001b[34;49mnotice\u001b[0m\u001b[1;39;49m]\u001b[0m\u001b[39;49m To update, run: \u001b[0m\u001b[32;49m/Users/bshowell/Desktop/school/winter 24-25/480/.venv/bin/python -m pip install --upgrade pip\u001b[0m\n",
      "Note: you may need to restart the kernel to use updated packages.\n"
     ]
    },
    {
     "name": "stderr",
     "output_type": "stream",
     "text": [
      "huggingface/tokenizers: The current process just got forked, after parallelism has already been used. Disabling parallelism to avoid deadlocks...\n",
      "To disable this warning, you can either:\n",
      "\t- Avoid using `tokenizers` before the fork if possible\n",
      "\t- Explicitly set the environment variable TOKENIZERS_PARALLELISM=(true | false)\n"
     ]
    },
    {
     "name": "stdout",
     "output_type": "stream",
     "text": [
      "Requirement already satisfied: seaborn in /Users/bshowell/Desktop/school/winter 24-25/480/.venv/lib/python3.12/site-packages (0.13.2)\n",
      "Requirement already satisfied: numpy!=1.24.0,>=1.20 in /Users/bshowell/Desktop/school/winter 24-25/480/.venv/lib/python3.12/site-packages (from seaborn) (2.2.1)\n",
      "Requirement already satisfied: pandas>=1.2 in /Users/bshowell/Desktop/school/winter 24-25/480/.venv/lib/python3.12/site-packages (from seaborn) (2.2.3)\n",
      "Requirement already satisfied: matplotlib!=3.6.1,>=3.4 in /Users/bshowell/Desktop/school/winter 24-25/480/.venv/lib/python3.12/site-packages (from seaborn) (3.10.0)\n",
      "Requirement already satisfied: contourpy>=1.0.1 in /Users/bshowell/Desktop/school/winter 24-25/480/.venv/lib/python3.12/site-packages (from matplotlib!=3.6.1,>=3.4->seaborn) (1.3.1)\n",
      "Requirement already satisfied: cycler>=0.10 in /Users/bshowell/Desktop/school/winter 24-25/480/.venv/lib/python3.12/site-packages (from matplotlib!=3.6.1,>=3.4->seaborn) (0.12.1)\n",
      "Requirement already satisfied: fonttools>=4.22.0 in /Users/bshowell/Desktop/school/winter 24-25/480/.venv/lib/python3.12/site-packages (from matplotlib!=3.6.1,>=3.4->seaborn) (4.56.0)\n",
      "Requirement already satisfied: kiwisolver>=1.3.1 in /Users/bshowell/Desktop/school/winter 24-25/480/.venv/lib/python3.12/site-packages (from matplotlib!=3.6.1,>=3.4->seaborn) (1.4.8)\n",
      "Requirement already satisfied: packaging>=20.0 in /Users/bshowell/Desktop/school/winter 24-25/480/.venv/lib/python3.12/site-packages (from matplotlib!=3.6.1,>=3.4->seaborn) (24.2)\n",
      "Requirement already satisfied: pillow>=8 in /Users/bshowell/Desktop/school/winter 24-25/480/.venv/lib/python3.12/site-packages (from matplotlib!=3.6.1,>=3.4->seaborn) (11.1.0)\n",
      "Requirement already satisfied: pyparsing>=2.3.1 in /Users/bshowell/Desktop/school/winter 24-25/480/.venv/lib/python3.12/site-packages (from matplotlib!=3.6.1,>=3.4->seaborn) (3.2.1)\n",
      "Requirement already satisfied: python-dateutil>=2.7 in /Users/bshowell/Desktop/school/winter 24-25/480/.venv/lib/python3.12/site-packages (from matplotlib!=3.6.1,>=3.4->seaborn) (2.9.0.post0)\n",
      "Requirement already satisfied: pytz>=2020.1 in /Users/bshowell/Desktop/school/winter 24-25/480/.venv/lib/python3.12/site-packages (from pandas>=1.2->seaborn) (2024.2)\n",
      "Requirement already satisfied: tzdata>=2022.7 in /Users/bshowell/Desktop/school/winter 24-25/480/.venv/lib/python3.12/site-packages (from pandas>=1.2->seaborn) (2024.2)\n",
      "Requirement already satisfied: six>=1.5 in /Users/bshowell/Desktop/school/winter 24-25/480/.venv/lib/python3.12/site-packages (from python-dateutil>=2.7->matplotlib!=3.6.1,>=3.4->seaborn) (1.17.0)\n",
      "\n",
      "\u001b[1m[\u001b[0m\u001b[34;49mnotice\u001b[0m\u001b[1;39;49m]\u001b[0m\u001b[39;49m A new release of pip is available: \u001b[0m\u001b[31;49m24.3.1\u001b[0m\u001b[39;49m -> \u001b[0m\u001b[32;49m25.0.1\u001b[0m\n",
      "\u001b[1m[\u001b[0m\u001b[34;49mnotice\u001b[0m\u001b[1;39;49m]\u001b[0m\u001b[39;49m To update, run: \u001b[0m\u001b[32;49m/Users/bshowell/Desktop/school/winter 24-25/480/.venv/bin/python -m pip install --upgrade pip\u001b[0m\n",
      "Note: you may need to restart the kernel to use updated packages.\n"
     ]
    },
    {
     "name": "stderr",
     "output_type": "stream",
     "text": [
      "huggingface/tokenizers: The current process just got forked, after parallelism has already been used. Disabling parallelism to avoid deadlocks...\n",
      "To disable this warning, you can either:\n",
      "\t- Avoid using `tokenizers` before the fork if possible\n",
      "\t- Explicitly set the environment variable TOKENIZERS_PARALLELISM=(true | false)\n"
     ]
    },
    {
     "name": "stdout",
     "output_type": "stream",
     "text": [
      "\u001b[31mERROR: Could not find a version that satisfies the requirement torch-directml (from versions: none)\u001b[0m\u001b[31m\n",
      "\u001b[0m\n",
      "\u001b[1m[\u001b[0m\u001b[34;49mnotice\u001b[0m\u001b[1;39;49m]\u001b[0m\u001b[39;49m A new release of pip is available: \u001b[0m\u001b[31;49m24.3.1\u001b[0m\u001b[39;49m -> \u001b[0m\u001b[32;49m25.0.1\u001b[0m\n",
      "\u001b[1m[\u001b[0m\u001b[34;49mnotice\u001b[0m\u001b[1;39;49m]\u001b[0m\u001b[39;49m To update, run: \u001b[0m\u001b[32;49m/Users/bshowell/Desktop/school/winter 24-25/480/.venv/bin/python -m pip install --upgrade pip\u001b[0m\n",
      "\u001b[31mERROR: No matching distribution found for torch-directml\u001b[0m\u001b[31m\n",
      "\u001b[0mNote: you may need to restart the kernel to use updated packages.\n"
     ]
    },
    {
     "name": "stderr",
     "output_type": "stream",
     "text": [
      "huggingface/tokenizers: The current process just got forked, after parallelism has already been used. Disabling parallelism to avoid deadlocks...\n",
      "To disable this warning, you can either:\n",
      "\t- Avoid using `tokenizers` before the fork if possible\n",
      "\t- Explicitly set the environment variable TOKENIZERS_PARALLELISM=(true | false)\n"
     ]
    },
    {
     "name": "stdout",
     "output_type": "stream",
     "text": [
      "Requirement already satisfied: pymupdf in /Users/bshowell/Desktop/school/winter 24-25/480/.venv/lib/python3.12/site-packages (1.25.3)\n",
      "\n",
      "\u001b[1m[\u001b[0m\u001b[34;49mnotice\u001b[0m\u001b[1;39;49m]\u001b[0m\u001b[39;49m A new release of pip is available: \u001b[0m\u001b[31;49m24.3.1\u001b[0m\u001b[39;49m -> \u001b[0m\u001b[32;49m25.0.1\u001b[0m\n",
      "\u001b[1m[\u001b[0m\u001b[34;49mnotice\u001b[0m\u001b[1;39;49m]\u001b[0m\u001b[39;49m To update, run: \u001b[0m\u001b[32;49m/Users/bshowell/Desktop/school/winter 24-25/480/.venv/bin/python -m pip install --upgrade pip\u001b[0m\n",
      "Note: you may need to restart the kernel to use updated packages.\n"
     ]
    }
   ],
   "source": [
    "%pip install rouge_score\n",
    "%pip install evaluate\n",
    "%pip install --upgrade -q wandb\n",
    "%pip install --upgrade datasets\n",
    "%pip install python-dotenv\n",
    "# %pip install torch==2.4.1 torchvision==0.19.1 torchaudio==2.4.1 --index-url https://download.pytorch.org/whl/cpu\n",
    "%pip install torch==2.4.1 torchvision==0.19.1 torchaudio==2.4.1 --index-url https://download.pytorch.org/whl/cu121\n",
    "%pip install --upgrade transformers\n",
    "%pip install --upgrade transformers[torch]\n",
    "%pip install seaborn\n",
    "%pip install torch-directml\n",
    "%pip install pymupdf"
   ]
  },
  {
   "cell_type": "code",
   "execution_count": 37,
   "metadata": {},
   "outputs": [
    {
     "name": "stderr",
     "output_type": "stream",
     "text": [
      "[nltk_data] Downloading package punkt_tab to\n",
      "[nltk_data]     /Users/bshowell/nltk_data...\n",
      "[nltk_data]   Package punkt_tab is already up-to-date!\n"
     ]
    }
   ],
   "source": [
    "import pandas as pd\n",
    "import numpy as np\n",
    "import os\n",
    "from dotenv import load_dotenv\n",
    "\n",
    "import matplotlib.pyplot as plt\n",
    "import seaborn as sns\n",
    "\n",
    "import torch\n",
    "import torch.nn as nn\n",
    "\n",
    "from transformers import AutoModelForSeq2SeqLM, AutoTokenizer, pipeline, set_seed\n",
    "from transformers import DataCollatorForSeq2Seq\n",
    "from transformers import Seq2SeqTrainer\n",
    "from transformers import Seq2SeqTrainingArguments\n",
    "from transformers import AutoTokenizer\n",
    "\n",
    "import datasets\n",
    "from datasets import Dataset\n",
    "from datasets import DatasetDict\n",
    "\n",
    "from evaluate import load\n",
    "\n",
    "from tqdm import tqdm\n",
    "\n",
    "import wandb\n",
    "import huggingface_hub\n",
    "\n",
    "import nltk\n",
    "from nltk.tokenize import sent_tokenize\n",
    "nltk.download(\"punkt_tab\")\n",
    "\n",
    "import warnings\n",
    "warnings.filterwarnings('ignore')\n",
    "\n",
    "import evaluate\n",
    "\n"
   ]
  },
  {
   "cell_type": "code",
   "execution_count": 38,
   "metadata": {},
   "outputs": [
    {
     "name": "stdout",
     "output_type": "stream",
     "text": [
      "Torch Version: 2.6.0\n",
      "CUDA Available: False\n",
      "CUDA Version: None\n",
      "Number of GPUs: 0\n",
      "GPU Name: No GPU detected\n"
     ]
    }
   ],
   "source": [
    "# verifying CUDA is available\n",
    "print(\"Torch Version:\", torch.__version__)\n",
    "print(\"CUDA Available:\", torch.cuda.is_available()) # should be true if your graphics card is captable with NVIDIA CUDA\n",
    "print(\"CUDA Version:\", torch.version.cuda)\n",
    "print(\"Number of GPUs:\", torch.cuda.device_count())\n",
    "print(\"GPU Name:\", torch.cuda.get_device_name(0) if torch.cuda.is_available() else \"No GPU detected\")"
   ]
  },
  {
   "cell_type": "code",
   "execution_count": 39,
   "metadata": {},
   "outputs": [],
   "source": [
    "# Load environment variables from .env file\n",
    "load_dotenv()\n",
    "\n",
    "# Retrieve tokens from environment variables\n",
    "huggingface_token = os.getenv(\"HUGGINGFACE_TOKEN\")\n",
    "wandb_token = os.getenv(\"WANDB_API_KEY\")"
   ]
  },
  {
   "cell_type": "code",
   "execution_count": 40,
   "metadata": {},
   "outputs": [
    {
     "name": "stderr",
     "output_type": "stream",
     "text": [
      "\u001b[34m\u001b[1mwandb\u001b[0m: \u001b[33mWARNING\u001b[0m Calling wandb.login() after wandb.init() has no effect.\n"
     ]
    },
    {
     "data": {
      "text/plain": [
       "True"
      ]
     },
     "execution_count": 40,
     "metadata": {},
     "output_type": "execute_result"
    }
   ],
   "source": [
    "# log in to wandb\n",
    "wandb.login(key=wandb_token)"
   ]
  },
  {
   "cell_type": "code",
   "execution_count": 41,
   "metadata": {},
   "outputs": [
    {
     "data": {
      "text/html": [
       "<button onClick=\"this.nextSibling.style.display='block';this.style.display='none';\">Display W&B run</button><iframe src='https://wandb.ai/ai-text-summarizer/ai-text_summmarizer/runs/1l6vvpvx?jupyter=true' style='border:none;width:100%;height:420px;display:none;'></iframe>"
      ],
      "text/plain": [
       "<wandb.sdk.wandb_run.Run at 0x165e2c260>"
      ]
     },
     "execution_count": 41,
     "metadata": {},
     "output_type": "execute_result"
    }
   ],
   "source": [
    "# initializing/creating wandb project\n",
    "#os.environ[\"WANDB_MODE\"] = \"offline\" # TODO: trouble connecting to wandb due to restricting network, so keeping it offline for now\n",
    "wandb.init(project=\"ai-text_summmarizer\")"
   ]
  },
  {
   "cell_type": "code",
   "execution_count": 42,
   "metadata": {},
   "outputs": [],
   "source": [
    "# log in to Hugging Face Hub\n",
    "huggingface_hub.login(token=huggingface_token)"
   ]
  },
  {
   "cell_type": "code",
   "execution_count": 43,
   "metadata": {},
   "outputs": [
    {
     "name": "stdout",
     "output_type": "stream",
     "text": [
      "Device: mps\n"
     ]
    }
   ],
   "source": [
    "# Check if CUDA or MPS is available and set the device\n",
    "device = \"cuda\" if torch.cuda.is_available() else \"mps\" if torch.backends.mps.is_available() else \"cpu\"\n",
    "print(\"Device:\", device)\n",
    "\n",
    "# Model checkpoint\n",
    "model_ckpt = \"facebook/bart-base\"\n",
    "\n",
    "# Load the tokenizer and model\n",
    "tokenizer = AutoTokenizer.from_pretrained(model_ckpt)\n",
    "model = AutoModelForSeq2SeqLM.from_pretrained(model_ckpt).to(device)"
   ]
  },
  {
   "cell_type": "code",
   "execution_count": 44,
   "metadata": {},
   "outputs": [],
   "source": [
    "# Data Analysis\n",
    "dataset_paths = 'bbc-news-dataset'\n",
    "articles_path = 'news-articles'\n",
    "bullets_path = 'bullets'\n",
    "\n",
    "articles = []\n",
    "bullets = []\n",
    "file_arr = []\n",
    "\n",
    "\n",
    "\n",
    "folders = os.listdir(dataset_paths + '/' + articles_path)\n",
    "\n",
    "for folder in folders:\n",
    "    files = os.listdir(dataset_paths + '/' + articles_path + '/' + folder)\n",
    "    for file in files:\n",
    "        article_file_path = os.path.join(dataset_paths, articles_path, folder, file)\n",
    "        bullets_file_path = os.path.join(dataset_paths, bullets_path, folder, file)\n",
    "\n",
    "        try:\n",
    "            with open (article_file_path,'r') as f:\n",
    "                articles.append('.'.join([line.rstrip() for line in f.readlines()]))\n",
    "            with open (bullets_file_path,'r') as f:\n",
    "                bullets.append(f.read())\n",
    "            file_arr.append(folder + '/' + file)\n",
    "        except Exception as e:\n",
    "            print(f\"Error reading file {folder}/{file} with error `{e}`\")"
   ]
  },
  {
   "cell_type": "code",
   "execution_count": 45,
   "metadata": {},
   "outputs": [
    {
     "data": {
      "text/html": [
       "<div>\n",
       "<style scoped>\n",
       "    .dataframe tbody tr th:only-of-type {\n",
       "        vertical-align: middle;\n",
       "    }\n",
       "\n",
       "    .dataframe tbody tr th {\n",
       "        vertical-align: top;\n",
       "    }\n",
       "\n",
       "    .dataframe thead th {\n",
       "        text-align: right;\n",
       "    }\n",
       "</style>\n",
       "<table border=\"1\" class=\"dataframe\">\n",
       "  <thead>\n",
       "    <tr style=\"text-align: right;\">\n",
       "      <th></th>\n",
       "      <th>path</th>\n",
       "      <th>article</th>\n",
       "      <th>bullets</th>\n",
       "    </tr>\n",
       "  </thead>\n",
       "  <tbody>\n",
       "    <tr>\n",
       "      <th>0</th>\n",
       "      <td>entertainment/289.txt</td>\n",
       "      <td>Musicians to tackle US red tape..Musicians' gr...</td>\n",
       "      <td>- British musicians are reportedly disadvantag...</td>\n",
       "    </tr>\n",
       "    <tr>\n",
       "      <th>1</th>\n",
       "      <td>entertainment/262.txt</td>\n",
       "      <td>U2's desire to be number one..U2, who have won...</td>\n",
       "      <td>- U2 wants to be the biggest band ever.\\n- U2 ...</td>\n",
       "    </tr>\n",
       "    <tr>\n",
       "      <th>2</th>\n",
       "      <td>entertainment/276.txt</td>\n",
       "      <td>Rocker Doherty in on-stage fight..Rock singer ...</td>\n",
       "      <td>- Pete Doherty has been involved in a fight wi...</td>\n",
       "    </tr>\n",
       "    <tr>\n",
       "      <th>3</th>\n",
       "      <td>entertainment/060.txt</td>\n",
       "      <td>Snicket tops US box office chart..The film ada...</td>\n",
       "      <td>- A Series of Unfortunate Events, starring Jim...</td>\n",
       "    </tr>\n",
       "    <tr>\n",
       "      <th>4</th>\n",
       "      <td>entertainment/074.txt</td>\n",
       "      <td>Ocean's Twelve raids box office..Ocean's Twelv...</td>\n",
       "      <td>- Ocean's Twelve has gone straight to number o...</td>\n",
       "    </tr>\n",
       "  </tbody>\n",
       "</table>\n",
       "</div>"
      ],
      "text/plain": [
       "                    path                                            article  \\\n",
       "0  entertainment/289.txt  Musicians to tackle US red tape..Musicians' gr...   \n",
       "1  entertainment/262.txt  U2's desire to be number one..U2, who have won...   \n",
       "2  entertainment/276.txt  Rocker Doherty in on-stage fight..Rock singer ...   \n",
       "3  entertainment/060.txt  Snicket tops US box office chart..The film ada...   \n",
       "4  entertainment/074.txt  Ocean's Twelve raids box office..Ocean's Twelv...   \n",
       "\n",
       "                                             bullets  \n",
       "0  - British musicians are reportedly disadvantag...  \n",
       "1  - U2 wants to be the biggest band ever.\\n- U2 ...  \n",
       "2  - Pete Doherty has been involved in a fight wi...  \n",
       "3  - A Series of Unfortunate Events, starring Jim...  \n",
       "4  - Ocean's Twelve has gone straight to number o...  "
      ]
     },
     "execution_count": 45,
     "metadata": {},
     "output_type": "execute_result"
    }
   ],
   "source": [
    "df = pd.DataFrame({'path':file_arr,'article':articles,'bullets':bullets})\n",
    "df.head()"
   ]
  },
  {
   "cell_type": "code",
   "execution_count": 46,
   "metadata": {},
   "outputs": [
    {
     "name": "stdout",
     "output_type": "stream",
     "text": [
      "Before:\n",
      "path       0\n",
      "article    0\n",
      "bullets    0\n",
      "dtype: int64\n",
      "\n",
      "After:\n",
      "path       0\n",
      "article    0\n",
      "bullets    0\n",
      "dtype: int64\n"
     ]
    }
   ],
   "source": [
    "# removing nans if any\n",
    "\n",
    "print(\"Before:\\n\", df.isnull().sum(), \"\\n\", sep=\"\")\n",
    "df.dropna(inplace=True)\n",
    "print(\"After:\\n\", df.isnull().sum(), sep=\"\")"
   ]
  },
  {
   "cell_type": "code",
   "execution_count": 47,
   "metadata": {},
   "outputs": [],
   "source": [
    "# crating function to count the words in each sample\n",
    "\n",
    "def word_count(sentence):\n",
    "    sentences = sentence.split()\n",
    "    return len(sentences)"
   ]
  },
  {
   "cell_type": "code",
   "execution_count": 48,
   "metadata": {},
   "outputs": [
    {
     "data": {
      "text/html": [
       "<div>\n",
       "<style scoped>\n",
       "    .dataframe tbody tr th:only-of-type {\n",
       "        vertical-align: middle;\n",
       "    }\n",
       "\n",
       "    .dataframe tbody tr th {\n",
       "        vertical-align: top;\n",
       "    }\n",
       "\n",
       "    .dataframe thead th {\n",
       "        text-align: right;\n",
       "    }\n",
       "</style>\n",
       "<table border=\"1\" class=\"dataframe\">\n",
       "  <thead>\n",
       "    <tr style=\"text-align: right;\">\n",
       "      <th></th>\n",
       "      <th>path</th>\n",
       "      <th>article</th>\n",
       "      <th>bullets</th>\n",
       "      <th>num_words_article</th>\n",
       "      <th>num_words_bullets</th>\n",
       "    </tr>\n",
       "  </thead>\n",
       "  <tbody>\n",
       "    <tr>\n",
       "      <th>0</th>\n",
       "      <td>entertainment/289.txt</td>\n",
       "      <td>Musicians to tackle US red tape..Musicians' gr...</td>\n",
       "      <td>- British musicians are reportedly disadvantag...</td>\n",
       "      <td>372</td>\n",
       "      <td>58</td>\n",
       "    </tr>\n",
       "    <tr>\n",
       "      <th>1</th>\n",
       "      <td>entertainment/262.txt</td>\n",
       "      <td>U2's desire to be number one..U2, who have won...</td>\n",
       "      <td>- U2 wants to be the biggest band ever.\\n- U2 ...</td>\n",
       "      <td>829</td>\n",
       "      <td>231</td>\n",
       "    </tr>\n",
       "    <tr>\n",
       "      <th>2</th>\n",
       "      <td>entertainment/276.txt</td>\n",
       "      <td>Rocker Doherty in on-stage fight..Rock singer ...</td>\n",
       "      <td>- Pete Doherty has been involved in a fight wi...</td>\n",
       "      <td>354</td>\n",
       "      <td>109</td>\n",
       "    </tr>\n",
       "    <tr>\n",
       "      <th>3</th>\n",
       "      <td>entertainment/060.txt</td>\n",
       "      <td>Snicket tops US box office chart..The film ada...</td>\n",
       "      <td>- A Series of Unfortunate Events, starring Jim...</td>\n",
       "      <td>174</td>\n",
       "      <td>48</td>\n",
       "    </tr>\n",
       "    <tr>\n",
       "      <th>4</th>\n",
       "      <td>entertainment/074.txt</td>\n",
       "      <td>Ocean's Twelve raids box office..Ocean's Twelv...</td>\n",
       "      <td>- Ocean's Twelve has gone straight to number o...</td>\n",
       "      <td>248</td>\n",
       "      <td>79</td>\n",
       "    </tr>\n",
       "  </tbody>\n",
       "</table>\n",
       "</div>"
      ],
      "text/plain": [
       "                    path                                            article  \\\n",
       "0  entertainment/289.txt  Musicians to tackle US red tape..Musicians' gr...   \n",
       "1  entertainment/262.txt  U2's desire to be number one..U2, who have won...   \n",
       "2  entertainment/276.txt  Rocker Doherty in on-stage fight..Rock singer ...   \n",
       "3  entertainment/060.txt  Snicket tops US box office chart..The film ada...   \n",
       "4  entertainment/074.txt  Ocean's Twelve raids box office..Ocean's Twelv...   \n",
       "\n",
       "                                             bullets  num_words_article  \\\n",
       "0  - British musicians are reportedly disadvantag...                372   \n",
       "1  - U2 wants to be the biggest band ever.\\n- U2 ...                829   \n",
       "2  - Pete Doherty has been involved in a fight wi...                354   \n",
       "3  - A Series of Unfortunate Events, starring Jim...                174   \n",
       "4  - Ocean's Twelve has gone straight to number o...                248   \n",
       "\n",
       "   num_words_bullets  \n",
       "0                 58  \n",
       "1                231  \n",
       "2                109  \n",
       "3                 48  \n",
       "4                 79  "
      ]
     },
     "execution_count": 48,
     "metadata": {},
     "output_type": "execute_result"
    }
   ],
   "source": [
    "# creating new columns of word numbers\n",
    "\n",
    "df['num_words_article'] = df['article'].apply(word_count)\n",
    "df['num_words_bullets'] = df['bullets'].apply(word_count)\n",
    "df.head()"
   ]
  },
  {
   "cell_type": "code",
   "execution_count": 49,
   "metadata": {},
   "outputs": [
    {
     "data": {
      "text/html": [
       "<div>\n",
       "<style scoped>\n",
       "    .dataframe tbody tr th:only-of-type {\n",
       "        vertical-align: middle;\n",
       "    }\n",
       "\n",
       "    .dataframe tbody tr th {\n",
       "        vertical-align: top;\n",
       "    }\n",
       "\n",
       "    .dataframe thead th {\n",
       "        text-align: right;\n",
       "    }\n",
       "</style>\n",
       "<table border=\"1\" class=\"dataframe\">\n",
       "  <thead>\n",
       "    <tr style=\"text-align: right;\">\n",
       "      <th></th>\n",
       "      <th>num_words_article</th>\n",
       "      <th>num_words_bullets</th>\n",
       "    </tr>\n",
       "  </thead>\n",
       "  <tbody>\n",
       "    <tr>\n",
       "      <th>count</th>\n",
       "      <td>2225.000000</td>\n",
       "      <td>2225.000000</td>\n",
       "    </tr>\n",
       "    <tr>\n",
       "      <th>mean</th>\n",
       "      <td>379.314607</td>\n",
       "      <td>81.441798</td>\n",
       "    </tr>\n",
       "    <tr>\n",
       "      <th>std</th>\n",
       "      <td>235.032779</td>\n",
       "      <td>38.648310</td>\n",
       "    </tr>\n",
       "    <tr>\n",
       "      <th>min</th>\n",
       "      <td>87.000000</td>\n",
       "      <td>6.000000</td>\n",
       "    </tr>\n",
       "    <tr>\n",
       "      <th>25%</th>\n",
       "      <td>242.000000</td>\n",
       "      <td>56.000000</td>\n",
       "    </tr>\n",
       "    <tr>\n",
       "      <th>50%</th>\n",
       "      <td>327.000000</td>\n",
       "      <td>74.000000</td>\n",
       "    </tr>\n",
       "    <tr>\n",
       "      <th>75%</th>\n",
       "      <td>465.000000</td>\n",
       "      <td>97.000000</td>\n",
       "    </tr>\n",
       "    <tr>\n",
       "      <th>max</th>\n",
       "      <td>4377.000000</td>\n",
       "      <td>522.000000</td>\n",
       "    </tr>\n",
       "  </tbody>\n",
       "</table>\n",
       "</div>"
      ],
      "text/plain": [
       "       num_words_article  num_words_bullets\n",
       "count        2225.000000        2225.000000\n",
       "mean          379.314607          81.441798\n",
       "std           235.032779          38.648310\n",
       "min            87.000000           6.000000\n",
       "25%           242.000000          56.000000\n",
       "50%           327.000000          74.000000\n",
       "75%           465.000000          97.000000\n",
       "max          4377.000000         522.000000"
      ]
     },
     "execution_count": 49,
     "metadata": {},
     "output_type": "execute_result"
    }
   ],
   "source": [
    "# getting statistical info about the word lenghths\n",
    "\n",
    "df.describe()"
   ]
  },
  {
   "cell_type": "code",
   "execution_count": 50,
   "metadata": {},
   "outputs": [
    {
     "name": "stdout",
     "output_type": "stream",
     "text": [
      "Upper whisker: 799.0\n",
      "Q3: 465.0\n",
      "Q2: 327.0\n",
      "Q1: 242.0\n",
      "Lower whisker: 87.0\n"
     ]
    },
    {
     "data": {
      "image/png": "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",
      "text/plain": [
       "<Figure size 640x480 with 1 Axes>"
      ]
     },
     "metadata": {},
     "output_type": "display_data"
    }
   ],
   "source": [
    "sns.boxplot(df[\"num_words_article\"])\n",
    "plt.ylabel(\"number of words\")\n",
    "plt.title(\"Boxplot of the articles number of words\")\n",
    "\n",
    "lines = plt.gca().lines[:6]\n",
    "all_lines = [lines[i].get_ydata()[0] for i in range(5)]\n",
    "\n",
    "Q1,Q3,article_lower_whisker,article_upper_whisker, Q2 = all_lines\n",
    "\n",
    "print(\"Upper whisker:\", article_upper_whisker)\n",
    "print(\"Q3:\", Q3)\n",
    "print(\"Q2:\", Q2)\n",
    "print(\"Q1:\", Q1)\n",
    "print(\"Lower whisker:\", article_lower_whisker)"
   ]
  },
  {
   "cell_type": "code",
   "execution_count": 51,
   "metadata": {},
   "outputs": [
    {
     "name": "stdout",
     "output_type": "stream",
     "text": [
      "Upper whisker: 158.0\n",
      "Q3: 97.0\n",
      "Q2: 74.0\n",
      "Q1: 56.0\n",
      "Lower whisker: 6.0\n"
     ]
    },
    {
     "data": {
      "image/png": "iVBORw0KGgoAAAANSUhEUgAAAjsAAAGgCAYAAABMn6ZGAAAAOnRFWHRTb2Z0d2FyZQBNYXRwbG90bGliIHZlcnNpb24zLjEwLjAsIGh0dHBzOi8vbWF0cGxvdGxpYi5vcmcvlHJYcgAAAAlwSFlzAAAPYQAAD2EBqD+naQAAOqFJREFUeJzt3Qm8jHX///HPOfZ9X8sRvxJCRESlQiS00N1yC3c/1f1DCqVSIltKi+7K0qJ037TpVt25Eam4u6MkLVSkhLIVWbOb/+P9/d/X3DPHOZw55phzvvN6Ph5jzDXXmfnOnDnXvK/vmhIKhUIGAADgqdREFwAAACAnEXYAAIDXCDsAAMBrhB0AAOA1wg4AAPAaYQcAAHiNsAMAALxG2AEAAF4j7AAAAK8RdoD/SElJsfvvv99yk8WLF1uLFi2sWLFirnyff/55zI9xyimnWMeOHXOkfDn9PBdeeKG7BH788Uf3PkyePDmuz+OTP/3pT1a8eHHLK2bPnm0NGza0woULu9/ttm3bLC/gs5i3EHaQ43Qw0EEh8lKxYkW76KKLbNasWZbXff311y4k6eAXTwcOHLA//OEPtnXrVhs7dqz97W9/s+rVq5/QMviE9yj32bJli1199dVWpEgRGzdunPuMK9gD8ZY/7o8IZGL48OFWo0YN03JsmzZtciHo0ksvtbfffvuE1Dzk5JfosGHDXA2Eajfi5fvvv7c1a9bYs88+azfeeGNCyuAT3qPcRzWXO3futBEjRlibNm0SXRx4jLCDE6Z9+/bWpEmT8O2ePXtapUqV7OWXX87TYSenbN682V2XLl060UUBouiEZe/eva5GxufP+O+//25FixZNdDEQBzRjIWF0gNPBMn/+6My9e/duu/32261atWpWqFAhO/300+2RRx5xB1jZs2eP1a5d2130/4Cae6pUqeL6uBw6dCiq/8IPP/xg7dq1c1XkVatWdbVMweMdzdKlS11IK1mypHuc1q1b26JFi8L3q3ZKTU2iZrmgme6DDz446uO+9957dv7557vy6H24/PLL7Ztvvgnfr3JfcMEF7v96fD1mZN+VSFktw4cffmhNmzZ1fSNq1qxpf/3rX494LPWX6NevX/i9P/XUU+2hhx6yw4cPW1bNmTMn3Aejbt26Nn369Kj71ZSk8mX0OrQ9O81M3377rV111VVWtmxZ97wK1f/4xz+y/B59+umn7vNRvnx595lUDeT//u//Zrmf0rHe21hec/CYKpteh8pTv379cFn1fuq2nqtx48buM5qRrHzm9Xt9/PHH7YwzznCPp5OPP//5z/bbb79l+DrfeeedcJmefvrpo74306ZNc+XTvnpfr7/+evv555/D9+vz3KNHD/f/s88+270P+txn5Msvv3T3R/5OlyxZ4radddZZUfvq77VZs2ZR28aPH+9eoz7Tei/69OlzRN8gladevXrucVu2bOlCzj333OPu074qW6lSpdzfq8qdUd+ijRs32g033GAnn3yyey4dj/S3TdNpLhACctgLL7ygI2zo3XffDf3yyy+hzZs3h5YtWxb685//HEpNTQ3NmTMnvO/hw4dDrVq1CqWkpIRuvPHG0FNPPRXq1KmT+/l+/fqF91u0aFEoX758of79+4e3XXvttaEiRYqEVqxYEd7Wo0ePUOHChUOnnXZaqFu3bu7xOnbs6B7vvvvuiyqntg0dOjR8W2UsVqxYqEqVKqERI0aEHnzwwVCNGjVChQoVcs8v33//fejWW291P3vPPfeE/va3v7nLxo0bM30/5s6dG8qfP3+oVq1aoTFjxoSGDRsWKl++fKhMmTKh1atXu30++ugj93h6XD2+HjPyfYp0rDJUr149dPrpp4cqVark7td7cNZZZ7n3WK8xsHv37lCDBg1C5cqVc/tNnDgx1L17d7ffbbfddszfs55Hr6l06dKhu+++O/TYY4+F6tevf8TvWO9xRoee4HMSvAdywQUXuEtA92kf7Rv5eypVqlSobt26oYceesi9vpYtW7pyT58+/Zjv0aZNm9x7r7I//PDDoWeffTZ07733hurUqZOl15yV9zaW1xw8pj53999/f2js2LGhk046KVS8ePHQlClTQmlpae6zqIte96mnnho6dOhQtj7z+hvTZ/Gmm25yv++77rrLfebPPvvs0P79+6PKpOfR+6TfrfZ9//33M31fgtelx1H59TP62zzllFNCv/32m9tHn4mbb77Z7Td8+HD3+9DnPiN6ffpc3X777eFtelx9tnTZvn17eL+SJUuG7rjjjiPe+zZt2oSefPLJ0C233OKOHelfoz5nlStXDlWoUCHUt2/f0NNPPx1688033TFJnyc9T+/evd1j6Bilv5X0n8UWLVq438ngwYNDzz33XOiBBx4IXXTRRaH58+dn+l7hxCDsIMcFB770F4WGyZMnR+2rg4vuGzlyZNT2q666yn2BrFq1Krxt0KBB7gC0YMGC0LRp09zPPf7441E/pwO/tuvgFdDBq0OHDqGCBQu68JVZ2LniiivcPvqiDKxfvz5UokQJd/ALBM99tIN/pIYNG4YqVqwY2rJlS3jbF1984V6LwkVAj6fH1eMfy9HKoC8q3af3KaDAqfc/8stDgU5fdCtXroz6eX1R6cth7dq1Ry1D8Dx///vfw9v0JaQv7UaNGuVY2GndurULVXv37o36HeuLR1/4x3qP3njjDbd98eLFR319R3vNx3pvYw072hb5xf/OO++4bQoMa9asCW/XF3L615TVz/y//vUvt9/UqVOjyjR79uwjtgdl0n3HogChz3e9evVCe/bsCW+fMWOGe4whQ4Yc8fqz8t6r/E2bNg3f7ty5s7voszlr1iy37bPPPnOP99Zbb4V/F3rNbdu2jQqECoDa7/nnnw9v0+dM2xTkMjom6cQkcPDgwdD5558f9VlUiNNtBWbkPjRj4YTRaIu5c+e6y5QpU1xzgjreRjZzzJw50/Lly2e33npr1M+qWUt5JHL0lpoGVDWtKuXevXu7Zp/0Pxe45ZZbwv9X1bdu79+/3959990M91czmJpjrrjiCtcsEVC19B//+EfXbLFjx46Y34MNGza44eOqEleTS6BBgwZ28cUXu9efE9ScpGazQIUKFVzzoJo6IpsdtE+ZMmXs119/DV/UcVTvx4IFC475PGoiuPLKK8O31fzXvXt319SiKv54U9OlmgQ1okcdXYMya5SPmnC+++67qKaTjAT9RWbMmOFGwOXEe5udx2zevHn4dtAs06pVK0tLSztie0bPdazPvH7fapbR5y7y962mJzXZvv/++1GPp6Y9vafHoiZB9cXR36SaxgIdOnRwTc///Oc/LTv0Hn/22WeumVv0N6gBDmoy/de//uW26Vqv9bzzznO39Vr1mtU0m5r636+7m266yX0205dFTU9qhoqkv0k1tffq1Su8Tceovn37Ru2n5rqCBQu65sb0zYBIPDoo44RRn4bIDsrXXXedNWrUyB2E1R9ABwqNPtIXZokSJaJ+tk6dOu5a9we0//PPP+/a+3VQfeGFFzLsF6GDXGRgkVq1arnrzNrSf/nlF9c5UV9a6aks6uuwbt06F7ZiEZQ/s8dVnwgdzOM9/DbyCzKgUBN5UFYwUN8IfVkfrTPp0aiPT/rfQeR7XblyZYunVatWuRB83333uUtm5T7ppJMyfQyF5C5duriRWhrir74bCrkKtfryi8d7G6v0j6lQIupLldH29M+Vlc+8ft/bt29300Bk5fetsHO8n3GFHYWU7IadgwcP2sKFC937oPJp2/Lly6PCjoJicCKRWVl07ND7E3k8EX1OdF/616OTnPRzF6V/TH1W1L9NJ2bq+3TOOee445rCfrw/94gdYQcJowOyanf+8pe/uANvrMFBFA5EI0P0GFk9ICcbnYlmJLLDqgKczvLvvPPODPcNviyPV0aBVIJO5bEIOk7fcccdmdY6KIAdqzyvv/6663iuaRD0mVLn5EcffdRtO9YEfVl5b2N9zZk9ZlaeK5b3TkFn6tSpGd6fPvQe78ir46UTJZ3UqIZRYVBl12dSgUcdkPft2+fCTmTNYqyO9zWqBqlTp0725ptvus+RAvjo0aNd7aNO7JA4hB0klM7UZNeuXe5ak+ap6llNEpG1OxptE9wfUC2ERpio2llNQ2oS++qrr8Jnu5EHdVXzR35Zr1y50l1nNt+KDvQajbFixYoj7lNZFNSCs+zMvsgyEpQ/s8fVqJXs1OrEUobM/M///I/7PRzPfCdBTUtkedK/16r1EI1miRxynP4sOyuC2osCBQocs9zHeo90Jq7LqFGj7KWXXrKuXbvaK6+8csw5jrIinq85K7LymdfvW39r5557blyDTORnXM1ukbQts4kxj0U1LqodVqBR2AmaDnWtoKPQpvm7NJIqo7JE1nSpaWv16tVZ+qzrMebNm+f+NiKDb0Z/w8H7qtodXXQCpmY2BWc13SNx6LODhFH/CPWL0UEsaKZSG7zOdp966qmofdW8oC8rDSsNflb9XtTkpZohDeHVga5///4ZPlfk4+nLWLf1Bamh5JmdQbdt29beeuutqKYuPYe+CNUnQG3+EoSTrExzr+pwHfxefPHFqP2XLVvm3gu9/uyIpQyZUb8XNREEtWWR9LhBMD2a9evX2xtvvBG+rX5NGoat1xxU5evLQCL7AKnpTu9JrHR2r2YnDYNWf6iMmiOP9R6pCSh9zYjKK/oSjYd4vuasOtZnXr9v/a1pQr/09LvO7mdJNTD6vUycODHq/VN/O02voL472aVg8/HHH7v+REHY0QmCjh9qQgr2CSjM6PjyxBNPRP2OJ02a5JrwslIW/U3q/ZgwYUJ4m963J598Mmo/NXurhjn9710nbfH6HCH7qNnBCaODXVBDo/Z2hQad+dx9993h4KAqYDVt3XvvvS5knHnmmS4EKHSoijj40hg5cqSrzdEZlw4m6uA7ZMgQGzx4sJtvJTI0qOpb6++oI7M6dKoc6pioOTQy658SPIc6UyvYqLOlOinqS1UHrjFjxkR9MSoc6WCrA6ja7nVGm1lfiIcfftiFNnVA1cSKmitIB07VSGV3ba5Yy5CRgQMHunlM1M9AQVIdVfWFrNoyNfPo96EvlqNRTYJek2bGVb8F9alSQFR/qoBCpM7MtZ+eU+XWfvpdrF27Nlsd3/U70twz6niqM3g9p4LbTz/9ZF988cVR3yN9DtUMouYPfb5Uq6hZq/WZzG74TC/er/lYsvKZV18lzamjZhb9LamMCkP6m1TnZZ1E6G8pVnoMvceqcdVzqG+efh96PNUqZXZCkhUKMqp5U3+5yFCj2hz9berxNcdNQK910KBBrj/WJZdcYpdddpmrkdHvW339NPfPseiYpNovHaf0NxDMHaXPUCTVnClIKkRqHx0vFPz12q+99tpsv2bESaKHgyE5h55rHhANwZ4wYYIbFhtp586dbv6cqlWrhgoUKOCGD2s4Z7DfkiVL3NwgkUNrg+GgmjtDPxfM5aFhuBpOreHjGn5atGhRNyeKhgJHDkXNaOh5MJS1Xbt2bo4T/azmzMhoLhDNzVKzZk03DDYrw9A159C5557rhhJrXhDNJfT1119H7RPL0POjlUHDhjVsN730w7qD915D+jWniobsav4fDeF+5JFHouYkyUjwPBomrTlINPy6du3aGZZfv8NmzZq559C8MZqTJ7tDz0W/Xw3b1zwp+sxoXhrNLfP6668f8z3S7/i6665z5VCZNWxaP/vpp58e8z2P5b3N6mvO7DG1X58+faK2Be9H5HDnWD7z8swzz4QaN27sPouaVkHD+O+88043zcKxynQ0r776qptyQO9p2bJlQ127dg399NNPUfvEMvRcduzY4X53Kqf+3gOaf0iPo3mFMqKh5vos6rOh96JXr17hY0RAv68zzjgjw5/XNBF6bP2tah4d/X/p0qVRn8Vff/3V/X70PHr/tZ9+36+99lqWXhtyVor+iVdwAnIb1VCoViLoEwQASD702QEAAF4j7AAAAK8RdgAAgNfoswMAALxGzQ4AAPAaYQcAAHiNSQX/M7W6Zn7V5HTxmHYfAADkPPXE0USgmk0/cmX79Ag7/5niPv1qwgAAIG/QrNqRs2enR9gxCy84qTcrWLYAAADkblp/T5UVkQtHZ4SwE7EasoIOYQcAgLzlWF1Q6KAMAAC8RtgBAABeI+wAAACvEXYAAIDXCDsAAMBrhB0AAOA1wg4AAPAaYQcAAHiNSQUBeOvQoUP25Zdf2tatW61s2bLWoEEDy5cvX6KLBeAEI+wA8NKCBQts/PjxtnHjxvC2ypUrW+/eva1ly5YJLRuAE4tmLABeBp2hQ4dazZo1bdy4cTZz5kx3rdvarvsBJI+UkNZHT3JaSKxUqVK2fft21sYCPGi66tq1qws2I0eOtNTU/57THT582AYPHmyrV6+2KVOm0KQFJMn3NzU7ALyiPjpqulLgiQw6otvavmHDBrcfgORA2AHgFXVGlho1amR4f7A92A+A/wg7ALyiUVeipqqMBNuD/QD4j7ADwCsaXq5RV1OnTnV9dCLptrZXqVLF7QcgORB2AHhFnY41vHzhwoWuM/Ly5cvt999/d9e6re29evWiczKQRBiNxWgsIGnm2VGNjoIO8+wAyfX9Tdgh7ADeYgZlwG9Z/f5mBmUA3lKwadSoUaKLASDB6LMDAAC8RtgBAABeI+wAAACvEXYAAIDXEhp27r//fktJSYm61K5dO3z/3r17rU+fPlauXDkrXry4denSxTZt2hT1GGvXrrUOHTpY0aJFrWLFijZw4EA7ePBgAl4NAADIjRI+GuuMM86wd999N3w7f/7/Fql///72z3/+06ZNm+aGlt1yyy3WuXNn+/e//x0eVqqgo9lSP/roI7e4X/fu3a1AgQL2wAMPJOT1AACA3CXhYUfhRmElPY2ZnzRpkr300kvWqlUrt+2FF16wOnXq2KJFi+ycc86xOXPm2Ndff+3CUqVKlaxhw4Y2YsQIu+uuu1ytUcGCBRPwigAAQG6S8D473333nVWtWtVq1qxpXbt2dc1SsmTJEjtw4IC1adMmvK+auNLS0tx076Lr+vXru6ATaNeunZtkSFPDZ2bfvn1un8gLAADwU0LDTrNmzWzy5Mk2e/ZsmzBhgluN+Pzzz7edO3e6Kd5VM1O6dOmon1GwCaZ/13Vk0AnuD+7LzOjRo12zWHCpVq1ajrw+AACQ5M1Y7du3D/9f07gr/FSvXt1ee+01K1KkSI4976BBg2zAgAHh26rZIfAAAOCnhDdjRVItTq1atWzVqlWuH8/+/ftt27ZtUftoNFbQx0fX6UdnBbcz6gcUKFSokFtDI/ICAAD8lKvCzq5du+z77793KxM3btzYjaqaN29e+P4VK1a4Pj3Nmzd3t3X91Vdf2ebNm8P7zJ0714WXunXrJuQ1AACA3CWhzVh33HGHderUyTVdrV+/3oYOHeoW7rvuuutcX5qePXu65iatVqwA07dvXxdwNBJL2rZt60JNt27dbMyYMa6fzuDBg93cPKq9AQAASGjY+emnn1yw2bJli1WoUMHOO+88N6xc/5exY8daamqqm0xQI6g00mr8+PHhn1cwmjFjhvXq1cuFoGLFilmPHj1s+PDhCXxVAAAgN0kJhUIhS3LqoKyaJM3tQ/8dAAD8+v7OVX12AAAA4o2wAwAAvEbYAQAAXiPsAAAArxF2AACA1wg7AADAa4QdAADgNcIOAADwGmEHAAB4jbADAAC8RtgBAABeI+wAAACvEXYAAIDXCDsAAMBrhB0AAOA1wg4AAPAaYQcAAHiNsAMAALxG2AEAAF4j7AAAAK8RdgAAgNcIOwAAwGuEHQAA4DXCDgAA8BphBwAAeI2wAwAAvEbYAQAAXiPsAAAArxF2AACA1wg7AADAa4QdAADgNcIOAADwGmEHAAB4jbADAAC8RtgBAABeI+wAAACvEXYAAIDXCDsAAMBrhB0AAOA1wg4AAPAaYQcAAHiNsAMAALxG2AEAAF4j7AAAAK8RdgAAgNcIOwAAwGuEHQAA4DXCDgAA8BphBwAAeI2wAwAAvEbYAQAAXiPsAAAArxF2AACA1wg7AADAa7km7Dz44IOWkpJi/fr1C2/bu3ev9enTx8qVK2fFixe3Ll262KZNm6J+bu3atdahQwcrWrSoVaxY0QYOHGgHDx5MwCsAAAC5Ua4IO4sXL7ann37aGjRoELW9f//+9vbbb9u0adNs/vz5tn79euvcuXP4/kOHDrmgs3//fvvoo4/sxRdftMmTJ9uQIUMS8CoAAEBulPCws2vXLuvatas9++yzVqZMmfD27du326RJk+yxxx6zVq1aWePGje2FF15woWbRokVunzlz5tjXX39tU6ZMsYYNG1r79u1txIgRNm7cOBeAAAAAEh521Eyl2pk2bdpEbV+yZIkdOHAganvt2rUtLS3NFi5c6G7run79+lapUqXwPu3atbMdO3bY8uXLM33Offv2uX0iLwAAwE/5E/nkr7zyin322WeuGSu9jRs3WsGCBa106dJR2xVsdF+wT2TQCe4P7svM6NGjbdiwYXF6FQAAIDdLWM3OunXr7LbbbrOpU6da4cKFT+hzDxo0yDWTBReVBQAA+ClhYUfNVJs3b7azzjrL8ufP7y7qhPzEE0+4/6uGRv1utm3bFvVzGo1VuXJl939dpx+dFdwO9slIoUKFrGTJklEXAADgp4SFndatW9tXX31ln3/+efjSpEkT11k5+H+BAgVs3rx54Z9ZsWKFG2revHlzd1vXegyFpsDcuXNdeKlbt25CXheA3EMjNpcuXeqOI7rWbQDJJ2F9dkqUKGH16tWL2lasWDE3p06wvWfPnjZgwAArW7asCzB9+/Z1Aeecc85x97dt29aFmm7dutmYMWNcP53Bgwe7Ts+qvQGQvBYsWGDjx4+P6r+nGt/evXtby5YtE1o2AEk2Gutoxo4dax07dnSTCergpAPV9OnTw/fny5fPZsyY4a4Vgq6//nrr3r27DR8+PKHlBpD4oDN06FCrWbOmm4pi5syZ7lq3tV33A0geKaFQKGRJTkPPS5Uq5Tor038HyNvUVKXmcAWbkSNHWmrqf8/pDh8+7Gp/V69e7ebn0okSAP+/v3N1zQ4AxOrLL790TVcKPJFBR3Rb2zds2OD2A5AcCDsAvLJ161Z3XaNGjQzvD7YH+wHwH2EHgFc0oEHUVJWRYHuwHwD/EXYAeEULCmswgyYsVR+dSLqt7VWqVDli4WEA/iLsAPCKOh1reLnWzlNnZK2T9/vvv7tr3db2Xr160TkZSCKMxmI0FpA08+yoRkdBh3l2gOT6/ibsEHYAr4eha9SVOiOrj46arqjRAZLv+zuhq54DQE5SsGnUqFGiiwEgweizAwAAvEbYAQAAXiPsAAAArxF2AACA1wg7AADAa4QdAADgNcIOAADwGmEHAAB4jbADAAC8RtgBAABeI+wAAACvEXYAAIDXCDsAAMBrhB0AAOA1wg4AAPAaYQcAAHgtLmFn27Zt8XgYAACAxIedhx56yF599dXw7auvvtrKlStnJ510kn3xxRfxLh8AAMCJDTsTJ060atWquf/PnTvXXWbNmmXt27e3gQMHHl9pAAAA4ix/rD+wcePGcNiZMWOGq9lp27atnXLKKdasWbN4lw8AAODE1uyUKVPG1q1b5/4/e/Zsa9Omjft/KBSyQ4cOHV9pAAAAEl2z07lzZ/vjH/9op512mm3ZssU1X8nSpUvt1FNPjXf5AAAATmzYGTt2rGuyUu3OmDFjrHjx4m77hg0brHfv3sdXGgAAgDhLCan9Kcnt2LHDSpUqZdu3b7eSJUsmujgAACCO399Zqtn5xz/+YVl12WWXZXlfAACAnJalsHPFFVdE3U5JSXEdkiNvB+ikDAAA8txorMOHD4cvc+bMsYYNG7q5dTRzsi4zZ860s846y43OAgAAyNMdlPv16+cmFjzvvPPC29q1a2dFixa1m2++2b755pt4lxEAAODEzbPz/fffW+nSpY/Yrg5CP/74Y/ZLAgAAkANiDjtnn322DRgwwDZt2hTepv9rqYimTZvGu3wAAAAnNuxMmjTJzamTlpbmJhHURf//+eef3X0AAAB5us+OZk7+8ssv3QKg3377rdtWp04dt2xE5KgsAACAPBd2Dhw4YEWKFLHPP//cLf6pCwAAgDfNWAUKFHBNVsylAwAAvO2zc++999o999xjW7duzZkSAQAAJLLPzlNPPWWrVq2yqlWrWvXq1a1YsWJR93/22WfxLB8AAMCJDTvpl44AAADIzVj1nFXPAQDIk+K66nlGlixZEl4a4owzzrBGjRpl96EAAAByTMxhZ/PmzXbttdfaBx98EF42QouBXnTRRfbKK69YhQoVcqKcAAAAJ2Y0Vt++fW3nzp22fPlyNyJLl2XLlrmqpFtvvTV7pQCAHKBpMpYuXWrz5s1z10ybASSnmPvsqG3s3XffdWtkRfrkk0/cJIOq5clr6LMD+GfBggU2fvx427hxY3hb5cqVrXfv3tayZcuElg3Aif3+jrlm5/Dhw25ywfS0TfcBQG4IOkOHDrWaNWvauHHjbObMme5at7Vd9wNIHjGHnVatWtltt91m69evD2/TIqD9+/e31q1bx7t8ABATNVWpRqd58+Y2bNgw279/vy1cuNBd67a2T5gwgSYtIIlka1LByy67zE455RSrVq2a27Zu3TqrV6+eTZkyJSfKCABZpoWK1XTVqVMn69at2xHNWB07drSPPvrI7ccoUiA5xBx2FHA0S7L67aRf9RwAEi1YyubZZ5+1Fi1a2H333Wc1atSw1atX29SpU+25556L2g+A/2Juxtq7d6+lpKTYxRdf7EZm6ZLdoKOq5AYNGrhORbqoennWrFlRz9WnTx8rV66cFS9e3Lp06WKbNm2Keoy1a9dahw4drGjRolaxYkUbOHCgHTx4MFvlAZD3BVNi1K9f30aOHOnmAdPxQde6re2R+wHwX8xhRwcIjWTQ2dJ7771ne/bsyfaTn3zyyfbggw+6CQo//fRT1x/o8ssvd8PaRf2A3n77bZs2bZrNnz/f9RPq3Llz+OfV5q6go7Z4VUu/+OKLNnnyZBsyZEi2ywQAAJJ86PmHH37oRjJoUkEFDNWiNGnSxC644AK78MILXY3P8Shbtqw9/PDDdtVVV7kJCl966SX3f1GzmZrM1NnwnHPOcbVAan9XCKpUqZLbZ+LEiXbXXXfZL7/8YgULFszSczL0HPCH5tQZMWKEq4FWbXHXrl2jmrF0/NBhTydsDKoA8rYcG3p+3nnn2T333GNz5sxxc+q8//77duqpp9qYMWPskksuyXaBVUujGZh3797tDlCq7Tlw4EBUE1nt2rUtLS3NHaxE16qSDoKOtGvXzr34oHYoI/v27XP7RF4A+EEnTHLjjTfaDz/84JrCL730UnetwKPtkfsB8F+21sZauXKlq9kJLgoPqmFRzU6svvrqKxdu1D9H/XLeeOMNq1u3rn3++eeuZiZ9u7qCTTC6QteRQSe4P7gvM6NHj3ZDUAH4R/0ANepKNdDpK641F5i2V6lSxe0HIDnEHHZOOukk109HwUYXNRnpoKEq4+w4/fTTXbBRFdTrr79uPXr0cP1zctKgQYNswIAB4duq2QmG0QPI2/Lly+eOTaop1snS1VdfbVWrVnXN3aqRXrFihVvfT/sBSA4xhx31o1HfGdWc6KLRUQo/Gu2QHaq9UTOYNG7c2BYvXmx/+ctf7JprrnEdj9VUFlm7o+fTWZvoWstURApGawX7ZKRQoULuAsA/ahJXjbMCjo5Rr732Wvg+BRxt1wnVTTfdROABkkTMfXZUC6MDyN133+2ar9R/p3z58m4+i3vvvfe4C6RqZj2ugo+WoFBnw4DOyDTUXM1eoms1g2kl9sDcuXNdJyU1hQFI3kkFN2zYYE2bNnVTVmiCQV1rTT9t10X7AUgO2eqzo5oWzaJ87rnnupDz1ltv2csvv2wff/yxjRo1KqbmpPbt27tOx1pJXSOvdEb2zjvvuN7VPXv2dM1N6kioAKM5fRRwNBJLtPCoQo1mSVUHaR3gBg8e7DoiUnMDJKdff/3VXavGWB2SFy1aFNWnT9u/++678H4A/Bdz2Jk+fXq4Y/LXX3/tgohGaD366KNu+HksVCPTvXt3d5alcKO+Pwo6wfD1sWPHWmpqqjsjU22PRlppzZuAqqBnzJhhvXr1ciGoWLFirs/P8OHDY31ZADyhpm9RoNHJmObdihx6rikzIvcD4L+Y59nRLMWaVFAdABVugtlI8zLm2QH8oRMmjbhUDbQGPeTP/99zOs0Lpnm7FHRUs6wTKAD+f3/HXLMT2T8GAHKbYN4sBRpNHKh+O2rWVu2wBjQENTrMrwUkj2z12QGA3CoYvam5dNSPMJiEVNQsru1qOmdtLCB5EHYAeEWjQ0WBpkyZMq4PYDDPjkZranvkfgD8R9gB4BWtbq7BC4ULF3bNV5Hz7Gj+LQ1k0Izt2g9AcshS2NF8FPXq1XNVwACQm2ldPE0sqHX2NMJTE5RG9tkJmrW0X6NGjRJdXAC5JezogKCqX43EqlmzppvluFy5cjlfOgCI0datW921JjmdNGlSVJ8d9dfRds0HFuwHwH9ZCjvqyKc5KhR2fvzxRzfLMQDkRsFq5uqno3l1VDOtYKPtqunRcjeR+wHwX5bCjib105w6OivSgp9NmjTJdE2ZH374Id5lBICYVz1X0Bk5cmRUU5VO1LSdVc+B5JKlsPPMM89Y586dbdWqVXbrrbe6BfRKlCiR86UDgBjpRKx37942dOhQt3xM165do2ZQVrPWsGHDWAQUSCIxz6B8ww032BNPPOFV2GEGZcA/CxYscMvLaM28gGp0tLyMZoEHkDzf3zGHnUg//fSTuz755JMtLyPsAH7SqKz0fXao0QH8kdXv75jHkqvNWwtt6sGrV6/uLurAPGLECDouA8hVFGzUZ6d169bumqADJKeYJxUMhnM++OCDdu6557ptH374od1///1uoi4N6QQAAMgtYm7G0nDOiRMn2mWXXRa1/a233nKdAn/++WfLa2jGAvxEMxbgtxxb9VwHjdq1ax+xXduYpAtAbu6grCHpOimjgzKQXGLus3PmmWfaU089dcR2bdN9AJAbgo6GnmvG93HjxtnMmTPdtW5ru+4HkDxibsaaP3++dejQwdLS0qx58+Zum+atWLdunTugnH/++ZbX0IwF+NV0pbl1FGw0qWDkmn4aRKG5dzTnzpQpU2jSAvK4HBuNpZmUV65caVdeeaVt27bNXTTh4IoVK/Jk0AHgF/XRUdOVAk/6xYt1W9u11p/2A5AcYu6zE3RSZtQVgNwo6DuoWZMzEmynjyGQPLIVdgAgtwoW+FRTlQZOpB+Npe2R+wHwH2EHgJcLgWpZGzWzb9q0KXxfpUqV3CSoLAQKJJeY++wAQG6mTscXXnih60e4f/9+u/322+31119317qt7ep7SOdkIHnENBpLu2rUVcWKFa1w4cLmC0ZjAf6Nxgr+ptMvBKq/cf3NMxoLyPtyZFJBhZ1TTz3Vli9fbqeddlo8ygkAOTIa67777suwz863335rffr0cdu1XhYA/8XUjKVhmwo5W7ZsybkSAcBxYDQWgOPuoKwFQAcOHGgTJkywevXqxfrjAJCjglFWb7zxhr399ttHLBfRqVOnqP0A+C/mGZTLlCljv//+ux08eNAKFixoRYoUibo/L54t0WcH8KvPTpcuXdxILM3yfv3117vanGDWZM34rhFZf//73+mzA+RxObYQ6OOPP368ZQOAE0LLQ7z33nu2b98+K1SokLstKSkpiS4agBMo5rDTo0ePnCkJAMSBOh6rVkedkT/++GN3iVS/fn376quv6KAMJJFszbPz/fffu8X0rrvuOtu8ebPbNmvWLDdKCwASKWhKV5jJaG0sBZ3I/QD4L+awo1XPdWaks6Xp06fbrl273PYvvvjChg4dmhNlBIAsi2y3T98nJ/I2/fOA5BFz2Ln77rtt5MiRNnfuXNdBOdCqVStbtGhRvMsHADHXPAfS982JvB25HwC/xRx2VAV85ZVXHrFdsyr/+uuv8SoXAGRL0EwlxYoVszvuuMONvNK1bme0HwC/xdxBWUM2N2zYcMSEXUuXLrWTTjopnmUDgJjt2bMnfKwqUKCAPfLII0csBKoOzMF+APwXc83Otddea3fddZebqEtVwhrK+e9//9udNXXv3j1nSgkAMcwFJupPGAygCGgF9KCfYbAfAP/FHHYeeOABt95MtWrV3EGjbt261rJlS2vRooUboQUAiaRZkkUTn+qE7OKLL7Znn33WXeu2tkfuB8B/Mc+gHFi7dq0tW7bMBR7NVZGXFwZlBmXAHxopqtrnY3nooYesWbNmJ6RMAPLYDMqBtLQ0V7sjzEYKILf48ccfw/9Xn50DBw6Eb2sE6f79+8P7EXaA5JCtSQUnTZrkFgEtXLiwu+j/zz33XPxLBwAxilz4MzLoSBB00u8HwG8x1+wMGTLEHnvsMevbt69bZE+0sF7//v1d09bw4cNzopwAkCVVq1YN/1+1zpEt9ZG3I/cD4LeY++xUqFDBnnjiCbdURKSXX37ZBaC8ONcOfXYAf6gfYceOHcNDzTUCKxB5e8aMGVa8ePGElRPAifv+jrkZS9XCTZo0OWJ748aNw6McACBRtE5fYMuWLda6dWvr3bu3u9btjPYD4LeYw063bt1swoQJR2x/5plnrGvXrvEqFwBky88//+yuNXmgTsDmzZtn48ePd9e6rbPAyP0A+C9LfXYGDBgQ1eatzshz5syxc845JzzUU/11mFQQQG6hWZKbNm1qe/fudVXcCjkaUPHJJ58kumgAcmPY0VIQ6ZusIhfSK1++vLssX748J8oIAFl2+umnh0/MFi9efEQH5aCTcrAfAP9lKey8//77OV8SAIiDYDmIIOTUqlXLrdunZquVK1cesR8A/2V7UkEAyI3Sj7BSwIkMOZntB8BfMYcdtX8/+eSTrrZHi+xpIdBIn332WTzLBwAxWbFiRfj/+fLlcwt+6jiVmppqv/32mx06dCi8X/v27RNYUgC5Nuz07NnTdU6+6qqrXOc/looAkJtEnoAp2GQ291f6EzUA/oo57GgirpkzZ9q5556bMyUCgOMQOZdOPPYDkITz7KijX4kSJXKmNABwnDS/TuRCoJG0EGhG+wHwW8xh59FHH7W77rrL1qxZkzMlAoA4rXperFgxu/rqq61fv37uumjRohnuB8BvMTdjaakIdVKuWbOmO3CkP3PaunVrPMsHADEJVjbPnz+/m1jwtddeC9+nPobarpmUI1dAB+C3mMOOFgDVfBUPPPCAW1SPDsoAcpNgMcCM1urT3DvBdhb9BZJHzGHno48+soULF9qZZ5553E8+evRomz59un377bdWpEgRa9GihT300ENRM5uqFun222+3V155xfbt22ft2rVz69woaAW0VEWvXr3ccHjNndGjRw/32DqDA5Bc1Fy1ZMmSLO0HIDnE3Gendu3atmfPnrg8+fz5861Pnz62aNEimzt3rltRvW3btrZ79+7wPv3797e3337bpk2b5vZfv369de7cOWpoaYcOHVyVtILYiy++aJMnT7YhQ4bEpYwA8pYzzjgjrvsByPtSQpELx2SB5tgZNmyYjRo1yurXr39En53jqRr+5ZdfrGLFii7UtGzZ0i3eV6FCBXvppZfcvD6iWqA6deq42iUtRDpr1izr2LGjC0FBbc/EiRNdJ2o9XuToi8zs2LHDLRKo56NqG8jbNIhCJ0jH0qlTJ1drDCDvyur3d8w1O5dccokLGq1bt3bBRLOT6qJhnLo+HiqslC1b1l2rKlq1PW3atImqWUpLS3NlEF0rdEU2a6mpS29AZguTqjlM90deAPgh/cLFx7sfgLwv5k4tObUoqGYz1fBQTVZYr149t23jxo2uZib9fBgKNrov2Ccy6AT3B/dlRP15VDsFwD86QQqo5lm1xDpJUq3wggULwvdH7gfAbzGHnQsuuCBHCqK+O8uWLbMPP/zQctqgQYNswIAB4duq2alWrVqOPy+AnKeTnU2bNrn/v/rqqzZv3jzXzK3Ao+NM0Ocv/UkSAH/FHHZ0ZnQ0OouK1S233OKWodBjn3zyyeHtlStXdh2PNVdGZO2ODmS6L9jnk08+iXq84EAX7JNeoUKF3AWAfyIHUEQOZpBx48ZluB8Av8Ucdi688MIjtkXOtROsKJwV6hvdt29fe+ONN+yDDz6wGjVqRN3fuHFjVw2tM7MuXbqEVyrWUPPmzZu727pWZ2mtwK4+RKKRXeqoVLdu3VhfHoA8LqtzfzFHGJA8Yu6g/Ntvv0VdFDJmz55tZ599thupFQtVKU+ZMsWNttJ6W+pjo0twxqUe1lplXU1O6iukDss33HCDCzgaiSUaqq5Q061bN/viiy/snXfescGDB7vHpvYGSD61atWK634AkrBmRwEkvYsvvth1JFYoycpkXoEJEyZkWFv0wgsv2J/+9Cf3/7Fjx1pqaqqr2YmcVDCQL18+1wSmSQUVgrQWjiYVHD58eKwvDYAHypcvH9f9ACThPDuZ0UgHrZu1a9cuy2uYZwfwxzXXXBPut3c06qCsDswA8q6sfn/HXLPz5ZdfRt1WVtqwYYM9+OCD1rBhw+yVFgDiJKvzZjG/FpA8Yg47CjTq2Je+Qkh9aJ5//vl4lg0AsjVnVzz3A5CEYWf16tVRt9WfRks6FC5cOJ7lAoBsSX8ipuOTZmXfunWrW0Ims/0A+CvmsFO9evWcKQkAxEH6IeUKOJEhJ7P9APgr5rAjmvdGFw07T18VTFMWgETSyFCN3MzKfgCSQ8xhR2tKaVi3Rl5VqVKFsyMAuYqGlO/cuTNL+wFIDjGHnYkTJ9rkyZPdJH4AkNtktS8OfXaA5BHzDMpaq6pFixY5UxoAOE6R6+jFYz8ASRh2brzxRre8AwDkRgcOHIjrfgCSsBlr79699swzz9i7775rDRo0cAt1RnrsscfiWT4AiAnz7ACIywzKwUzJy5Yti7qPzsoAEi1YSDhe+wFIwrCj1ccBILfKaLHi49kPQBL22QEAAMhLCDsAvLJx48a47gcg7yPsAPBK/vz547ofgLyPsAPAKyVLlozrfgDyPsIOAK8QdgCkR9gB4JWff/45rvsByPsIOwC8wqSCANKjhx4QZ5plfO3atYkuRtKKXAaiePHiVrVqVbfopyY9Xb9+ve3atSu838qVKxNY0uSVlpZmhQsXTnQxkERSQiz9azt27HATjG3fvp12fBw3fYHefPPNiS4GkGtpyaFatWoluhhIou9vanaAHDhr1cEciTFnzhx7/fXXj7nfVVddZW3btj0hZcKRfyPAiUTYAeJM1fOctSbOKaecYtOnTz9qn5zU1FRX+1awYMETWjYAiUEHZQBeUYC5+uqrM1ycOLit+wk6QPKgZgeAd/7v//7PXb/22muuc3Jkjc4f/vCH8P0AkgMdlOmgDHhr//799txzz7nQo9qcG2+8kRodIAm/v2nGAuAtBZs2bdq4/+uaoAMkJ8IOAADwGmEHAAB4jbADAAC8RtgBAABeI+wAAACvEXYAAIDXCDsAAMBrhB0AAOA1wg4AAPAaYQcAAHiNsAMAALxG2AEAAF4j7AAAAK8RdgAAgNcIOwAAwGuEHQAA4DXCDgAA8BphBwAAeI2wAwAAvEbYAQAAXiPsAAAArxF2AACA1wg7AADAa4QdAADgNcIOAADwGmEHAAB4jbADAAC8ltCws2DBAuvUqZNVrVrVUlJS7M0334y6PxQK2ZAhQ6xKlSpWpEgRa9OmjX333XdR+2zdutW6du1qJUuWtNKlS1vPnj1t165dJ/iVAACA3CqhYWf37t125pln2rhx4zK8f8yYMfbEE0/YxIkT7eOPP7ZixYpZu3btbO/eveF9FHSWL19uc+fOtRkzZrgAdfPNN5/AVwEAAHKz/Il88vbt27tLRlSr8/jjj9vgwYPt8ssvd9v++te/WqVKlVwN0LXXXmvffPONzZ492xYvXmxNmjRx+zz55JN26aWX2iOPPOJqjAAAQHLLtX12Vq9ebRs3bnRNV4FSpUpZs2bNbOHChe62rtV0FQQd0f6pqamuJigz+/btsx07dkRdAACAn3Jt2FHQEdXkRNLt4D5dV6xYMer+/PnzW9myZcP7ZGT06NEuOAWXatWq5chrAAAASd6MlSiDBg2yAQMGhG+rZseHwLNp0ybbvn17oosB5Cpr1qyJugbw/+lkP32Fgq9ybdipXLly+Atco7ECut2wYcPwPps3b476uYMHD7oRWsHPZ6RQoULu4hO9L9d3624H9u9LdFGAXGnUqFGJLgKQqxQoWMim/O3/94X1Xa4NOzVq1HCBZd68eeFwoxoY9cXp1auXu928eXPbtm2bLVmyxBo3buy2vffee3b48GHXtyeZqEZHQWdPzQvscOFSiS4OACAXS9273eyH+e67g7CTwzQfzqpVq6I6JX/++eeuz01aWpr169fPRo4caaeddpoLP/fdd58bYXXFFVe4/evUqWOXXHKJ3XTTTW54+oEDB+yWW25xI7WSdSSWgs7hYuUTXQwAAHKNhIadTz/91C666KLw7aAfTY8ePWzy5Ml25513url4NG+OanDOO+88N9S8cOHC4Z+ZOnWqCzitW7d2o7C6dOni5uYBAABIeNi58MIL3Xw6mdGsysOHD3eXzKgW6KWXXsqhEgIAgLwu1w49BwAAiAfCDgAA8BphBwAAeI2wAwAAvEbYAQAAXiPsAAAArxF2AACA1wg7AADAa4QdAADgtVy7ECiyJ3XPtkQXAQCQy6Um2XcFYcczRVYvSHQRAADIVQg7ntlTo6UdLlI60cUAAOTymp0iSXRyTNjxjILO4WLlE10MAAByDTooAwAArxF2AACA1wg7AADAa4QdAADgNcIOAADwGmEHAAB4jbADAAC8RtgBAABeY1JBz6Tu3Z7oIgAAcrnUJPuuIOx4olSpUlagYCGzH+YnuigAgDygQMFC7rsjGRB2PFGpUiWb8re/2vbtyZXWgWNZs2aNjRo1yu69916rXr16oosD5BqlSpVy3x3JgLDjEX1ok+WDC8RKQadWrVqJLgaABKCDMgAA8BphBwAAeI2wAwAAvEbYAQAAXiPsAAAArxF2AACA1wg7AADAa4QdAADgNcIOAADwGmEHAAB4jbADAAC8RtgBAABeI+wAAACvEXYAAIDXCDsAAMBrhB0AAOA1wg4AAPAaYQcAAHiNsAMAALxG2AEAAF4j7AAAAK8RdgAAgNcIOwAAwGuEHQAA4DXCDgAA8BphBwAAeI2wAwAAvEbYAQAAXsuf6AIAvtm7d6+tXbs20cXAf6xZsybqGomXlpZmhQsXTnQxkEQIO0CcKejcfPPNiS4G0hk1alSii4D/eOaZZ6xWrVqJLgaSiDdhZ9y4cfbwww/bxo0b7cwzz7Qnn3zSmjZtmuhiIUnPWnUwB5D53whwInkRdl599VUbMGCATZw40Zo1a2aPP/64tWvXzlasWGEVK1ZMdPGQZFQ9z1krAOQeKaFQKGR5nALO2WefbU899ZS7ffjwYatWrZr17dvX7r777iP237dvn7sEduzY4fbfvn27lSxZ8oSWHQAAZI++v0uVKnXM7+88Pxpr//79tmTJEmvTpk14W2pqqru9cOHCDH9m9OjR7s0JLgo6AADAT3k+7Pz666926NAhq1SpUtR23Vb/nYwMGjTIpcDgsm7duhNUWgAAcKJ50WcnVoUKFXIXAADgvzxfs1O+fHnLly+fbdq0KWq7bleuXDlh5QIAALlDng87BQsWtMaNG9u8efPC29RBWbebN2+e0LIBAIDE86IZS8POe/ToYU2aNHFz62jo+e7du+2GG25IdNEAAECCeRF2rrnmGvvll19syJAhrlNyw4YNbfbs2Ud0WgYAAMnHi3l2TtQ4fQAAkHskzTw7AAAAR0PYAQAAXiPsAAAArxF2AACA17wYjXW8gj7a6ugEAADyhuB7+1hjrQg7ZrZz5053zYKgAADkze9xjcrKDEPP/zPj8vr1661EiRKWkpKS6OIAiPOZn05ktOAvU0sAflGEUdCpWrWqpaZm3jOHsAPAa8yjBYAOygAAwGuEHQAA4DXCDgCvFSpUyIYOHequASQn+uwAAACvUbMDAAC8RtgBAABeI+wAAACvEXYAAIDXCDsAAMBrhB0AAOA1wg4AAPAaYQcAAJjP/h8OUWaGjyZl2gAAAABJRU5ErkJggg==",
      "text/plain": [
       "<Figure size 640x480 with 1 Axes>"
      ]
     },
     "metadata": {},
     "output_type": "display_data"
    }
   ],
   "source": [
    "sns.boxplot(df[\"num_words_bullets\"])\n",
    "plt.ylabel(\"number of words\")\n",
    "plt.title(\"Boxplot of the bullets number of words\")\n",
    "\n",
    "lines = plt.gca().lines[:6]\n",
    "all_lines = [lines[i].get_ydata()[0] for i in range(5)]\n",
    "\n",
    "Q1,Q3,bullets_lower_whisker,bullets_upper_whisker, Q2 = all_lines\n",
    "\n",
    "print(\"Upper whisker:\", bullets_upper_whisker)\n",
    "print(\"Q3:\", Q3)\n",
    "print(\"Q2:\", Q2)\n",
    "print(\"Q1:\", Q1)\n",
    "print(\"Lower whisker:\", bullets_lower_whisker)"
   ]
  },
  {
   "cell_type": "code",
   "execution_count": 52,
   "metadata": {},
   "outputs": [
    {
     "data": {
      "text/html": [
       "<div>\n",
       "<style scoped>\n",
       "    .dataframe tbody tr th:only-of-type {\n",
       "        vertical-align: middle;\n",
       "    }\n",
       "\n",
       "    .dataframe tbody tr th {\n",
       "        vertical-align: top;\n",
       "    }\n",
       "\n",
       "    .dataframe thead th {\n",
       "        text-align: right;\n",
       "    }\n",
       "</style>\n",
       "<table border=\"1\" class=\"dataframe\">\n",
       "  <thead>\n",
       "    <tr style=\"text-align: right;\">\n",
       "      <th></th>\n",
       "      <th>path</th>\n",
       "      <th>article</th>\n",
       "      <th>bullets</th>\n",
       "      <th>num_words_article</th>\n",
       "      <th>num_words_bullets</th>\n",
       "    </tr>\n",
       "  </thead>\n",
       "  <tbody>\n",
       "    <tr>\n",
       "      <th>0</th>\n",
       "      <td>entertainment/289.txt</td>\n",
       "      <td>Musicians to tackle US red tape..Musicians' gr...</td>\n",
       "      <td>- British musicians are reportedly disadvantag...</td>\n",
       "      <td>372</td>\n",
       "      <td>58</td>\n",
       "    </tr>\n",
       "    <tr>\n",
       "      <th>2</th>\n",
       "      <td>entertainment/276.txt</td>\n",
       "      <td>Rocker Doherty in on-stage fight..Rock singer ...</td>\n",
       "      <td>- Pete Doherty has been involved in a fight wi...</td>\n",
       "      <td>354</td>\n",
       "      <td>109</td>\n",
       "    </tr>\n",
       "    <tr>\n",
       "      <th>3</th>\n",
       "      <td>entertainment/060.txt</td>\n",
       "      <td>Snicket tops US box office chart..The film ada...</td>\n",
       "      <td>- A Series of Unfortunate Events, starring Jim...</td>\n",
       "      <td>174</td>\n",
       "      <td>48</td>\n",
       "    </tr>\n",
       "    <tr>\n",
       "      <th>4</th>\n",
       "      <td>entertainment/074.txt</td>\n",
       "      <td>Ocean's Twelve raids box office..Ocean's Twelv...</td>\n",
       "      <td>- Ocean's Twelve has gone straight to number o...</td>\n",
       "      <td>248</td>\n",
       "      <td>79</td>\n",
       "    </tr>\n",
       "    <tr>\n",
       "      <th>5</th>\n",
       "      <td>entertainment/048.txt</td>\n",
       "      <td>'Landmark movies' of 2004 hailed..US film prof...</td>\n",
       "      <td>- The American Film Institute (AFI) hailed Mel...</td>\n",
       "      <td>328</td>\n",
       "      <td>90</td>\n",
       "    </tr>\n",
       "    <tr>\n",
       "      <th>...</th>\n",
       "      <td>...</td>\n",
       "      <td>...</td>\n",
       "      <td>...</td>\n",
       "      <td>...</td>\n",
       "      <td>...</td>\n",
       "    </tr>\n",
       "    <tr>\n",
       "      <th>2220</th>\n",
       "      <td>tech/086.txt</td>\n",
       "      <td>Warning over Windows Word files..Writing a Mic...</td>\n",
       "      <td>- Writing a Microsoft Word document can be a d...</td>\n",
       "      <td>456</td>\n",
       "      <td>89</td>\n",
       "    </tr>\n",
       "    <tr>\n",
       "      <th>2221</th>\n",
       "      <td>tech/253.txt</td>\n",
       "      <td>Fast lifts rise into record books..Two high-sp...</td>\n",
       "      <td>- Lifts in Taipei 101 Tower are the world's fa...</td>\n",
       "      <td>379</td>\n",
       "      <td>96</td>\n",
       "    </tr>\n",
       "    <tr>\n",
       "      <th>2222</th>\n",
       "      <td>tech/247.txt</td>\n",
       "      <td>Nintendo adds media playing to DS..Nintendo is...</td>\n",
       "      <td>- Nintendo releasing adapter for DS to play mu...</td>\n",
       "      <td>289</td>\n",
       "      <td>49</td>\n",
       "    </tr>\n",
       "    <tr>\n",
       "      <th>2223</th>\n",
       "      <td>tech/290.txt</td>\n",
       "      <td>Fast moving phone viruses appear..Security fir...</td>\n",
       "      <td>- New strains of the Cabir mobile phone virus ...</td>\n",
       "      <td>327</td>\n",
       "      <td>107</td>\n",
       "    </tr>\n",
       "    <tr>\n",
       "      <th>2224</th>\n",
       "      <td>tech/284.txt</td>\n",
       "      <td>Hacker threat to Apple's iTunes..Users of Appl...</td>\n",
       "      <td>- iDefense recommended that users upgrade to i...</td>\n",
       "      <td>160</td>\n",
       "      <td>54</td>\n",
       "    </tr>\n",
       "  </tbody>\n",
       "</table>\n",
       "<p>2091 rows × 5 columns</p>\n",
       "</div>"
      ],
      "text/plain": [
       "                       path  \\\n",
       "0     entertainment/289.txt   \n",
       "2     entertainment/276.txt   \n",
       "3     entertainment/060.txt   \n",
       "4     entertainment/074.txt   \n",
       "5     entertainment/048.txt   \n",
       "...                     ...   \n",
       "2220           tech/086.txt   \n",
       "2221           tech/253.txt   \n",
       "2222           tech/247.txt   \n",
       "2223           tech/290.txt   \n",
       "2224           tech/284.txt   \n",
       "\n",
       "                                                article  \\\n",
       "0     Musicians to tackle US red tape..Musicians' gr...   \n",
       "2     Rocker Doherty in on-stage fight..Rock singer ...   \n",
       "3     Snicket tops US box office chart..The film ada...   \n",
       "4     Ocean's Twelve raids box office..Ocean's Twelv...   \n",
       "5     'Landmark movies' of 2004 hailed..US film prof...   \n",
       "...                                                 ...   \n",
       "2220  Warning over Windows Word files..Writing a Mic...   \n",
       "2221  Fast lifts rise into record books..Two high-sp...   \n",
       "2222  Nintendo adds media playing to DS..Nintendo is...   \n",
       "2223  Fast moving phone viruses appear..Security fir...   \n",
       "2224  Hacker threat to Apple's iTunes..Users of Appl...   \n",
       "\n",
       "                                                bullets  num_words_article  \\\n",
       "0     - British musicians are reportedly disadvantag...                372   \n",
       "2     - Pete Doherty has been involved in a fight wi...                354   \n",
       "3     - A Series of Unfortunate Events, starring Jim...                174   \n",
       "4     - Ocean's Twelve has gone straight to number o...                248   \n",
       "5     - The American Film Institute (AFI) hailed Mel...                328   \n",
       "...                                                 ...                ...   \n",
       "2220  - Writing a Microsoft Word document can be a d...                456   \n",
       "2221  - Lifts in Taipei 101 Tower are the world's fa...                379   \n",
       "2222  - Nintendo releasing adapter for DS to play mu...                289   \n",
       "2223  - New strains of the Cabir mobile phone virus ...                327   \n",
       "2224  - iDefense recommended that users upgrade to i...                160   \n",
       "\n",
       "      num_words_bullets  \n",
       "0                    58  \n",
       "2                   109  \n",
       "3                    48  \n",
       "4                    79  \n",
       "5                    90  \n",
       "...                 ...  \n",
       "2220                 89  \n",
       "2221                 96  \n",
       "2222                 49  \n",
       "2223                107  \n",
       "2224                 54  \n",
       "\n",
       "[2091 rows x 5 columns]"
      ]
     },
     "execution_count": 52,
     "metadata": {},
     "output_type": "execute_result"
    }
   ],
   "source": [
    "# removing the samples of very long sequences\n",
    "\n",
    "new_df = df[(df['num_words_bullets'] <= bullets_upper_whisker) & (df['num_words_article'] <= article_upper_whisker)]\n",
    "new_df"
   ]
  },
  {
   "cell_type": "code",
   "execution_count": 53,
   "metadata": {},
   "outputs": [
    {
     "data": {
      "text/html": [
       "<div>\n",
       "<style scoped>\n",
       "    .dataframe tbody tr th:only-of-type {\n",
       "        vertical-align: middle;\n",
       "    }\n",
       "\n",
       "    .dataframe tbody tr th {\n",
       "        vertical-align: top;\n",
       "    }\n",
       "\n",
       "    .dataframe thead th {\n",
       "        text-align: right;\n",
       "    }\n",
       "</style>\n",
       "<table border=\"1\" class=\"dataframe\">\n",
       "  <thead>\n",
       "    <tr style=\"text-align: right;\">\n",
       "      <th></th>\n",
       "      <th>path</th>\n",
       "      <th>article</th>\n",
       "      <th>bullets</th>\n",
       "      <th>num_words_article</th>\n",
       "      <th>num_words_bullets</th>\n",
       "    </tr>\n",
       "  </thead>\n",
       "  <tbody>\n",
       "    <tr>\n",
       "      <th>0</th>\n",
       "      <td>tech/197.txt</td>\n",
       "      <td>Smartphones suffer Skulls attack..Owners of so...</td>\n",
       "      <td>- The Skulls program is masquerading as softwa...</td>\n",
       "      <td>356</td>\n",
       "      <td>85</td>\n",
       "    </tr>\n",
       "    <tr>\n",
       "      <th>1</th>\n",
       "      <td>entertainment/315.txt</td>\n",
       "      <td>Hoffman hits out over modern film..Hollywood l...</td>\n",
       "      <td>- Dustin Hoffman has hit out at the quality of...</td>\n",
       "      <td>292</td>\n",
       "      <td>91</td>\n",
       "    </tr>\n",
       "    <tr>\n",
       "      <th>2</th>\n",
       "      <td>entertainment/140.txt</td>\n",
       "      <td>Rock band U2 break ticket record..U2 have smas...</td>\n",
       "      <td>- U2 have smashed Irish box office records wit...</td>\n",
       "      <td>226</td>\n",
       "      <td>55</td>\n",
       "    </tr>\n",
       "    <tr>\n",
       "      <th>3</th>\n",
       "      <td>sport/098.txt</td>\n",
       "      <td>Ronaldo considering new contract..Manchester U...</td>\n",
       "      <td>- Ronaldo refused to commit his long-term futu...</td>\n",
       "      <td>138</td>\n",
       "      <td>34</td>\n",
       "    </tr>\n",
       "    <tr>\n",
       "      <th>4</th>\n",
       "      <td>business/370.txt</td>\n",
       "      <td>US manufacturing expands..US industrial produc...</td>\n",
       "      <td>- ISM manufacturing index's employment index e...</td>\n",
       "      <td>208</td>\n",
       "      <td>86</td>\n",
       "    </tr>\n",
       "    <tr>\n",
       "      <th>...</th>\n",
       "      <td>...</td>\n",
       "      <td>...</td>\n",
       "      <td>...</td>\n",
       "      <td>...</td>\n",
       "      <td>...</td>\n",
       "    </tr>\n",
       "    <tr>\n",
       "      <th>58</th>\n",
       "      <td>entertainment/009.txt</td>\n",
       "      <td>Da Vinci Code is 'lousy history'..The plot of ...</td>\n",
       "      <td>- The Bishop said there was a lack of evidence...</td>\n",
       "      <td>331</td>\n",
       "      <td>96</td>\n",
       "    </tr>\n",
       "    <tr>\n",
       "      <th>59</th>\n",
       "      <td>business/175.txt</td>\n",
       "      <td>French consumer spending rising..French consum...</td>\n",
       "      <td>- The National Statistic Institute (INSEE) add...</td>\n",
       "      <td>205</td>\n",
       "      <td>62</td>\n",
       "    </tr>\n",
       "    <tr>\n",
       "      <th>60</th>\n",
       "      <td>politics/291.txt</td>\n",
       "      <td>'Super union' merger plan touted..Two of Brita...</td>\n",
       "      <td>- Amicus and the Transport and General Workers...</td>\n",
       "      <td>178</td>\n",
       "      <td>61</td>\n",
       "    </tr>\n",
       "    <tr>\n",
       "      <th>61</th>\n",
       "      <td>sport/246.txt</td>\n",
       "      <td>Chelsea hold Arsenal..A gripping game between ...</td>\n",
       "      <td>- Arsenal and Chelsea played to a 2-2 draw.\\n-...</td>\n",
       "      <td>536</td>\n",
       "      <td>41</td>\n",
       "    </tr>\n",
       "    <tr>\n",
       "      <th>62</th>\n",
       "      <td>tech/010.txt</td>\n",
       "      <td>Google's toolbar sparks concern..Search engine...</td>\n",
       "      <td>- Google released a trial tool called AutoLink...</td>\n",
       "      <td>503</td>\n",
       "      <td>84</td>\n",
       "    </tr>\n",
       "  </tbody>\n",
       "</table>\n",
       "<p>63 rows × 5 columns</p>\n",
       "</div>"
      ],
      "text/plain": [
       "                     path                                            article  \\\n",
       "0            tech/197.txt  Smartphones suffer Skulls attack..Owners of so...   \n",
       "1   entertainment/315.txt  Hoffman hits out over modern film..Hollywood l...   \n",
       "2   entertainment/140.txt  Rock band U2 break ticket record..U2 have smas...   \n",
       "3           sport/098.txt  Ronaldo considering new contract..Manchester U...   \n",
       "4        business/370.txt  US manufacturing expands..US industrial produc...   \n",
       "..                    ...                                                ...   \n",
       "58  entertainment/009.txt  Da Vinci Code is 'lousy history'..The plot of ...   \n",
       "59       business/175.txt  French consumer spending rising..French consum...   \n",
       "60       politics/291.txt  'Super union' merger plan touted..Two of Brita...   \n",
       "61          sport/246.txt  Chelsea hold Arsenal..A gripping game between ...   \n",
       "62           tech/010.txt  Google's toolbar sparks concern..Search engine...   \n",
       "\n",
       "                                              bullets  num_words_article  \\\n",
       "0   - The Skulls program is masquerading as softwa...                356   \n",
       "1   - Dustin Hoffman has hit out at the quality of...                292   \n",
       "2   - U2 have smashed Irish box office records wit...                226   \n",
       "3   - Ronaldo refused to commit his long-term futu...                138   \n",
       "4   - ISM manufacturing index's employment index e...                208   \n",
       "..                                                ...                ...   \n",
       "58  - The Bishop said there was a lack of evidence...                331   \n",
       "59  - The National Statistic Institute (INSEE) add...                205   \n",
       "60  - Amicus and the Transport and General Workers...                178   \n",
       "61  - Arsenal and Chelsea played to a 2-2 draw.\\n-...                536   \n",
       "62  - Google released a trial tool called AutoLink...                503   \n",
       "\n",
       "    num_words_bullets  \n",
       "0                  85  \n",
       "1                  91  \n",
       "2                  55  \n",
       "3                  34  \n",
       "4                  86  \n",
       "..                ...  \n",
       "58                 96  \n",
       "59                 62  \n",
       "60                 61  \n",
       "61                 41  \n",
       "62                 84  \n",
       "\n",
       "[63 rows x 5 columns]"
      ]
     },
     "execution_count": 53,
     "metadata": {},
     "output_type": "execute_result"
    }
   ],
   "source": [
    "# preparing the data by training 0.03% of the dataset\n",
    "\n",
    "# deleting some columns and shuffling the rows\n",
    "\n",
    "# TODO - not sure if this is working with the drop as expected\n",
    "\n",
    "new_df.drop(columns=[\"num_words_article\",\"num_words_bullets\",\"path\"])\n",
    "new_df = new_df.sample(frac = 0.03)\n",
    "new_df.reset_index(drop=True, inplace=False)"
   ]
  },
  {
   "cell_type": "code",
   "execution_count": 54,
   "metadata": {},
   "outputs": [],
   "source": [
    "# splitting the data into train and test\n",
    "\n",
    "ratio = 0.8\n",
    "split = int(len(new_df)*ratio)\n",
    "\n",
    "train_df = new_df.iloc[:split]\n",
    "test_df = new_df.iloc[split:]"
   ]
  },
  {
   "cell_type": "code",
   "execution_count": 55,
   "metadata": {},
   "outputs": [
    {
     "data": {
      "text/plain": [
       "DatasetDict({\n",
       "    train: Dataset({\n",
       "        features: ['path', 'article', 'bullets', 'num_words_article', 'num_words_bullets'],\n",
       "        num_rows: 50\n",
       "    })\n",
       "    test: Dataset({\n",
       "        features: ['path', 'article', 'bullets', 'num_words_article', 'num_words_bullets'],\n",
       "        num_rows: 13\n",
       "    })\n",
       "})"
      ]
     },
     "execution_count": 55,
     "metadata": {},
     "output_type": "execute_result"
    }
   ],
   "source": [
    "# convert the DataFrame into DatasetDict\n",
    "\n",
    "train_dataset = Dataset.from_dict(train_df)\n",
    "test_dataset = Dataset.from_dict(test_df)\n",
    "dataset = datasets.DatasetDict({\"train\":train_dataset,\"test\":test_dataset})\n",
    "dataset"
   ]
  },
  {
   "cell_type": "code",
   "execution_count": 56,
   "metadata": {},
   "outputs": [],
   "source": [
    "max_input_length = int(article_upper_whisker)\n",
    "max_target_length = int(bullets_upper_whisker)\n",
    "\n",
    "def preprocess_function(examples):\n",
    "    model_inputs = tokenizer(\n",
    "        examples[\"article\"],\n",
    "        max_length=max_input_length,\n",
    "        truncation=True,\n",
    "    )\n",
    "    labels = tokenizer(\n",
    "        examples[\"bullets\"], max_length=max_target_length, truncation=True\n",
    "    )\n",
    "    model_inputs[\"labels\"] = labels[\"input_ids\"]\n",
    "    return model_inputs"
   ]
  },
  {
   "cell_type": "code",
   "execution_count": 57,
   "metadata": {},
   "outputs": [
    {
     "name": "stderr",
     "output_type": "stream",
     "text": [
      "Map: 100%|██████████| 50/50 [00:00<00:00, 1166.04 examples/s]\n",
      "Map: 100%|██████████| 13/13 [00:00<00:00, 1630.90 examples/s]\n"
     ]
    }
   ],
   "source": [
    "# initialize tokenizer\n",
    "tokenizer = AutoTokenizer.from_pretrained(model_ckpt)\n",
    "\n",
    "# define max input lengths\n",
    "max_input_length = int(article_upper_whisker)\n",
    "max_target_length = int(bullets_upper_whisker)\n",
    "\n",
    "tokenized_datasets = dataset.map(preprocess_function, batched=True)"
   ]
  },
  {
   "cell_type": "code",
   "execution_count": 58,
   "metadata": {},
   "outputs": [],
   "source": [
    "# ROUGE metric for automatic summarization and machine translation software in Natural Language Processing\n",
    "\n",
    "rouge_score = evaluate.load(\"rouge\")"
   ]
  },
  {
   "cell_type": "code",
   "execution_count": 59,
   "metadata": {},
   "outputs": [
    {
     "data": {
      "text/plain": [
       "{'rouge1': np.float64(0.923076923076923),\n",
       " 'rouge2': np.float64(0.7272727272727272),\n",
       " 'rougeL': np.float64(0.923076923076923),\n",
       " 'rougeLsum': np.float64(0.923076923076923)}"
      ]
     },
     "execution_count": 59,
     "metadata": {},
     "output_type": "execute_result"
    }
   ],
   "source": [
    "# example on using rouge\n",
    "\n",
    "generated_bullets = \"I absolutely loved reading the Hunger Games\"\n",
    "reference_bullets = \"I loved reading the Hunger Games\"\n",
    "scores = rouge_score.compute(predictions=[generated_bullets], references=[reference_bullets])\n",
    "scores"
   ]
  },
  {
   "cell_type": "code",
   "execution_count": 60,
   "metadata": {},
   "outputs": [],
   "source": [
    "def compute_metrics(eval_pred):\n",
    "    predictions, labels = eval_pred\n",
    "\n",
    "    # Decode generated bullets into text\n",
    "    decoded_preds = tokenizer.batch_decode(predictions, skip_special_tokens=True)\n",
    "\n",
    "    # Replace -100 in the labels as we can't decode them\n",
    "    labels = np.where(labels != -100, labels, tokenizer.pad_token_id)\n",
    "\n",
    "    # Decode reference bullets into text\n",
    "    decoded_labels = tokenizer.batch_decode(labels, skip_special_tokens=True)\n",
    "\n",
    "    # ROUGE expects a newline after each sentence\n",
    "    decoded_preds = [\"\\n\".join(sent_tokenize(pred.strip())) for pred in decoded_preds]\n",
    "    decoded_labels = [\"\\n\".join(sent_tokenize(label.strip())) for label in decoded_labels]\n",
    "\n",
    "    # Compute ROUGE scores\n",
    "    result = rouge_score.compute(predictions=decoded_preds, references=decoded_labels, use_stemmer=True)\n",
    "\n",
    "    return {k: round(v, 4) for k, v in result.items()}"
   ]
  },
  {
   "cell_type": "code",
   "execution_count": 61,
   "metadata": {},
   "outputs": [
    {
     "name": "stderr",
     "output_type": "stream",
     "text": [
      "Device set to use mps:0\n"
     ]
    },
    {
     "name": "stdout",
     "output_type": "stream",
     "text": [
      "'>>> Article: Indonesia 'declines debt freeze'..Indonesia no longer needs the debt freeze offered by the Paris Club group of creditors, Economics Minister Aburizal Bakrie has reportedly said...Indonesia, which originally accepted the debt moratorium offer, owes the Paris Club about $48bn (£25.5bn). Mr Bakrie told the Bisnis Indonesia newspaper that a $1.7bn donors' aid package meant that the debt moratorium was unnecessary. This aid comes on top of a previously-pledged $3.4bn package. Most of this 'normal aid' would be used to finance the country's budget deficit. The Indonesian Economics Minister explained that the money - $1.2bn in grants and $500m in soft loans - was for the rebuilding of Aceh province, which was badly hit by the tsunami of 26 December. Nevertheless, one of Mr Bakrie's deputies, Mahendra Siregar, told AFP news agency that Indonesia was still considering the offer by the Paris Club of rich creditor nations to temporarily suspend its debt payments. \"What is true is that we are still discussing... the Paris Club decision to find out more details such as how much of our debt will be subject to a moratorium. That's how far we are at this stage,\" said Mr Siregar...The 19 member countries of the Paris Club are owed about $5bn this year in debt repayments by nations affected by the Indian Ocean tsunami. Indonesia, Sri Lanka and the Seychelles accepted the Paris Club offer, which was criticised by some aid groups as being too little. Thailand and India have however declined the offer, with Thailand prefering to keep up with its payments while India said it would prefer to rely on its own resources rather than on international aid. Putting off payments may lower a country's rating among financial organisations, making it more expensive and more difficult for them to borrow money in the future, analysts said. Separately, the Indonesian government has said it will announce monthly how much it has received in foreign donations and how it has spent the money. Welfare Minister Alwi Shihab told AP news agency that this announcement should allay suspicion of official corruption in relief operations.'\n",
      "\n",
      "'>>> Bullets: - Indonesia no longer needs the debt freeze offered by the Paris Club group of creditors.\n",
      "- A $1.7bn donors' aid package made the debt moratorium unnecessary.\n",
      "- Indonesia, Sri Lanka, and the Seychelles accepted the Paris Club offer.\n",
      "- The 19 member countries of the Paris Club are owed about $5bn this year in debt repayments by nations affected by the Indian Ocean tsunami.\n",
      "'\n",
      "\n",
      "'>>> Generated Bullets: Indonesia 'declines debt freeze'..Indonesian no longer needs the debt freeze offered by the Paris Club group of creditors, Economics Minister Aburizal Bakrie has reportedly said. Indonesia, which originally accepted the debt moratorium offer, owes the ParisClub about $48bn (£25.5bn). Mr Bakrie told the Bisnis Indonesia newspaper that a $1.7bn donors' aid package meant that the debt ceiling was unnecessary. This aid comes on top of a previously-pledged $3.4bn package. Most of this 'normal aid' would be used to finance the country's'\n",
      "\n",
      "'>>> ROUGE Score: {'rouge1': np.float64(0.4966), 'rouge2': np.float64(0.2857), 'rougeL': np.float64(0.3624), 'rougeLsum': np.float64(0.443)}'\n"
     ]
    }
   ],
   "source": [
    "# generate summaries\n",
    "summarizer = pipeline(\"summarization\", model=model_ckpt)\n",
    "\n",
    "def print_bullets(idx):\n",
    "    article = dataset[\"test\"][idx][\"article\"]\n",
    "    bullets = dataset[\"test\"][idx][\"bullets\"]\n",
    "    g_bullets = summarizer(dataset[\"test\"][idx][\"article\"])[0][\"summary_text\"]\n",
    "    score = rouge_score.compute(predictions=[g_bullets], references=[bullets])\n",
    "    scores = {k: round(v, 4) for k, v in score.items()}\n",
    "    print(f\"'>>> Article: {article}'\")\n",
    "    print(f\"\\n'>>> Bullets: {bullets}'\")\n",
    "    print(f\"\\n'>>> Generated Bullets: {g_bullets}'\")\n",
    "    print(f\"\\n'>>> ROUGE Score: {scores}'\")\n",
    "\n",
    "\n",
    "print_bullets(5)"
   ]
  },
  {
   "cell_type": "code",
   "execution_count": 62,
   "metadata": {},
   "outputs": [],
   "source": [
    "# fine tuning BART model\n",
    "\n",
    "# creating data_collator\n",
    "# A data_collator is a function that takes a batch of data and collates it into a format suitable for model training\n",
    "\n",
    "data_collator = DataCollatorForSeq2Seq(tokenizer, model=model)"
   ]
  },
  {
   "cell_type": "code",
   "execution_count": 63,
   "metadata": {},
   "outputs": [],
   "source": [
    "# removing the columns with strings because the collator won’t know how to pad these elements\n",
    "\n",
    "tokenized_datasets = tokenized_datasets.remove_columns(dataset[\"train\"].column_names)"
   ]
  },
  {
   "cell_type": "code",
   "execution_count": 64,
   "metadata": {},
   "outputs": [],
   "source": [
    "batch_size = 8\n",
    "num_train_epochs = 8\n",
    "# Show the training loss with every epoch\n",
    "logging_steps = len(tokenized_datasets[\"train\"]) // batch_size\n",
    "model_name = model_ckpt\n",
    "\n",
    "\n",
    "args = Seq2SeqTrainingArguments(\n",
    "    output_dir=f\"{model_name}-finetuned-BBC\",\n",
    "    evaluation_strategy=\"epoch\",\n",
    "    learning_rate=5.6e-5,\n",
    "    per_device_train_batch_size=batch_size,\n",
    "    per_device_eval_batch_size=batch_size,\n",
    "    weight_decay=0.01,\n",
    "    save_total_limit=3,\n",
    "    num_train_epochs=num_train_epochs,\n",
    "    predict_with_generate=True,\n",
    "    logging_steps=logging_steps,\n",
    "    push_to_hub=True,\n",
    "    run_name=\"text_summmarizer_bullets\",\n",
    "    report_to=\"wandb\", # ensures WandB logging is enabled\n",
    "    hub_token=huggingface_token,\n",
    "    )"
   ]
  },
  {
   "cell_type": "code",
   "execution_count": 65,
   "metadata": {},
   "outputs": [],
   "source": [
    "trainer = Seq2SeqTrainer(\n",
    "    model,\n",
    "    args,\n",
    "    train_dataset=tokenized_datasets[\"train\"],\n",
    "    eval_dataset=tokenized_datasets[\"test\"],\n",
    "    data_collator=data_collator,\n",
    "    tokenizer=tokenizer,\n",
    "    compute_metrics=compute_metrics,)"
   ]
  },
  {
   "cell_type": "code",
   "execution_count": 66,
   "metadata": {},
   "outputs": [
    {
     "data": {
      "text/html": [
       "\n",
       "    <div>\n",
       "      \n",
       "      <progress value='56' max='56' style='width:300px; height:20px; vertical-align: middle;'></progress>\n",
       "      [56/56 02:30, Epoch 8/8]\n",
       "    </div>\n",
       "    <table border=\"1\" class=\"dataframe\">\n",
       "  <thead>\n",
       " <tr style=\"text-align: left;\">\n",
       "      <th>Epoch</th>\n",
       "      <th>Training Loss</th>\n",
       "      <th>Validation Loss</th>\n",
       "      <th>Rouge1</th>\n",
       "      <th>Rouge2</th>\n",
       "      <th>Rougel</th>\n",
       "      <th>Rougelsum</th>\n",
       "    </tr>\n",
       "  </thead>\n",
       "  <tbody>\n",
       "    <tr>\n",
       "      <td>1</td>\n",
       "      <td>2.211100</td>\n",
       "      <td>1.785108</td>\n",
       "      <td>0.228400</td>\n",
       "      <td>0.141700</td>\n",
       "      <td>0.208100</td>\n",
       "      <td>0.219800</td>\n",
       "    </tr>\n",
       "    <tr>\n",
       "      <td>2</td>\n",
       "      <td>1.212500</td>\n",
       "      <td>1.173929</td>\n",
       "      <td>0.229800</td>\n",
       "      <td>0.144600</td>\n",
       "      <td>0.209900</td>\n",
       "      <td>0.220900</td>\n",
       "    </tr>\n",
       "    <tr>\n",
       "      <td>3</td>\n",
       "      <td>1.098500</td>\n",
       "      <td>1.278990</td>\n",
       "      <td>0.244600</td>\n",
       "      <td>0.155300</td>\n",
       "      <td>0.223300</td>\n",
       "      <td>0.234500</td>\n",
       "    </tr>\n",
       "    <tr>\n",
       "      <td>4</td>\n",
       "      <td>0.675300</td>\n",
       "      <td>1.104687</td>\n",
       "      <td>0.238500</td>\n",
       "      <td>0.153600</td>\n",
       "      <td>0.218600</td>\n",
       "      <td>0.231600</td>\n",
       "    </tr>\n",
       "    <tr>\n",
       "      <td>5</td>\n",
       "      <td>0.725500</td>\n",
       "      <td>1.161433</td>\n",
       "      <td>0.236100</td>\n",
       "      <td>0.150600</td>\n",
       "      <td>0.216000</td>\n",
       "      <td>0.228300</td>\n",
       "    </tr>\n",
       "    <tr>\n",
       "      <td>6</td>\n",
       "      <td>0.565100</td>\n",
       "      <td>1.178729</td>\n",
       "      <td>0.239200</td>\n",
       "      <td>0.156400</td>\n",
       "      <td>0.221400</td>\n",
       "      <td>0.229900</td>\n",
       "    </tr>\n",
       "    <tr>\n",
       "      <td>7</td>\n",
       "      <td>0.506400</td>\n",
       "      <td>1.133374</td>\n",
       "      <td>0.235700</td>\n",
       "      <td>0.151400</td>\n",
       "      <td>0.215200</td>\n",
       "      <td>0.227400</td>\n",
       "    </tr>\n",
       "    <tr>\n",
       "      <td>8</td>\n",
       "      <td>0.461900</td>\n",
       "      <td>1.135064</td>\n",
       "      <td>0.244700</td>\n",
       "      <td>0.157500</td>\n",
       "      <td>0.221200</td>\n",
       "      <td>0.235800</td>\n",
       "    </tr>\n",
       "  </tbody>\n",
       "</table><p>"
      ],
      "text/plain": [
       "<IPython.core.display.HTML object>"
      ]
     },
     "metadata": {},
     "output_type": "display_data"
    },
    {
     "data": {
      "text/plain": [
       "TrainOutput(global_step=56, training_loss=0.8916787696736199, metrics={'train_runtime': 171.3537, 'train_samples_per_second': 2.334, 'train_steps_per_second': 0.327, 'total_flos': 155809101127680.0, 'train_loss': 0.8916787696736199, 'epoch': 8.0})"
      ]
     },
     "execution_count": 66,
     "metadata": {},
     "output_type": "execute_result"
    }
   ],
   "source": [
    "trainer.train()"
   ]
  },
  {
   "cell_type": "code",
   "execution_count": 75,
   "metadata": {},
   "outputs": [
    {
     "name": "stdout",
     "output_type": "stream",
     "text": [
      "Summary in Bullet Points:\n",
      " \n",
      "- The Amazon rainforest is often referred to as the \"lungs of the Earth\" because of its critical role in producing oxygen and absorbing carbon dioxide.\n",
      "- It spans across several countries in South America, including Brazil, Peru, and Colombia, and is home to an incredibly diverse array of wildlife, plants, and indigenous cultures. Unfortunately, the Amazon is facing significant threats due to deforestation, illegal logging, mining, and agricultural expansion.\n",
      "- Many indigenous communities have lived in the Amazon for centuries and possess a deep understanding of the ecosystem.\n"
     ]
    }
   ],
   "source": [
    "input_text = \"\"\"\n",
    "The Amazon rainforest is often referred to as the \"lungs of the Earth\" because of its critical role in producing oxygen and absorbing carbon dioxide. It spans across several countries in South America, including Brazil, Peru, and Colombia, and is home to an incredibly diverse array of wildlife, plants, and indigenous cultures. Unfortunately, the Amazon is facing significant threats due to deforestation, illegal logging, mining, and agricultural expansion. These activities are rapidly destroying large portions of the rainforest, which not only contributes to the loss of biodiversity but also accelerates climate change by releasing stored carbon into the atmosphere.\n",
    "\n",
    "In recent years, global efforts to protect the Amazon have intensified, with governments, NGOs, and international organizations working together to implement conservation strategies and policies. One such initiative is the creation of protected areas and indigenous territories that restrict harmful activities. However, enforcement of these measures remains a challenge, particularly in remote regions where illegal activities are rampant.\n",
    "\n",
    "Another important issue is the role of indigenous peoples in protecting the forest. Many indigenous communities have lived in the Amazon for centuries and possess a deep understanding of the ecosystem. These communities are often the first line of defense against environmental destruction and have been leading efforts to preserve their land and culture. Yet, they face increasing threats from outside forces seeking to exploit the land for economic gain.\n",
    "\n",
    "Climate change is exacerbating the situation, with rising temperatures and altered rainfall patterns putting additional pressure on the Amazon. Scientists have warned that if current trends continue, the rainforest could reach a tipping point where it can no longer function as a carbon sink, further accelerating global warming. Given its global significance, the fate of the Amazon is a pressing issue that requires urgent and coordinated action on a global scale.\n",
    "\"\"\"\n",
    "\n",
    "# Tokenize input text\n",
    "inputs = tokenizer(input_text, return_tensors=\"pt\", max_length=2048, truncation=True).to(device)\n",
    "\n",
    "# Generate summary\n",
    "summary_ids = model.generate(\n",
    "    inputs['input_ids'],\n",
    "    num_beams=8,\n",
    "    max_length=200,\n",
    "    min_length=100,\n",
    "    early_stopping=True,\n",
    "    temperature=0.8\n",
    ")\n",
    "\n",
    "# Decode the summary\n",
    "bullets = tokenizer.decode(summary_ids[0], skip_special_tokens=True)\n",
    "\n",
    "formatted = \"\".join([\"\\n- \" + sentence.strip() for sentence in bullets.split(\"-\") if sentence.encode('ascii', errors='ignore').decode().strip()])\n",
    "print(\"Summary in Bullet Points:\\n\", formatted)\n",
    "\n",
    "# print(bullets)\n",
    "\n",
    "# # Post-process to format the summary in bullet points\n",
    "# # Split the summary into sentences by splitting on '.'\n",
    "# sentences = bullets.split(\"-\")\n",
    "\n",
    "# # Remove any extra spaces, empty sentences, or non-english characters\n",
    "# sentences = [\"\\n - \" + sentence.strip() for sentence in sentences if sentence.encode('ascii', errors='ignore').decode().strip()]\n",
    "\n",
    "# # Join sentences with bullet points\n",
    "# # formatted_summary = \"\".join(sentences)\n",
    "# formatted_summary = \"\"\n",
    "# for sen in sentences:\n",
    "#     formatted_summary = formatted_summary + sen\n",
    "\n",
    "# # Print the formatted summary\n",
    "# print(\"Summary in Bullet Points:\", formatted_summary)"
   ]
  },
  {
   "cell_type": "code",
   "execution_count": 69,
   "metadata": {},
   "outputs": [],
   "source": [
    "file_path = \"./model.pth\"\n",
    "torch.save(model.state_dict(), file_path)"
   ]
  },
  {
   "cell_type": "code",
   "execution_count": 71,
   "metadata": {},
   "outputs": [
    {
     "data": {
      "text/plain": [
       "BartForConditionalGeneration(\n",
       "  (model): BartModel(\n",
       "    (shared): BartScaledWordEmbedding(50265, 768, padding_idx=1)\n",
       "    (encoder): BartEncoder(\n",
       "      (embed_tokens): BartScaledWordEmbedding(50265, 768, padding_idx=1)\n",
       "      (embed_positions): BartLearnedPositionalEmbedding(1026, 768)\n",
       "      (layers): ModuleList(\n",
       "        (0-5): 6 x BartEncoderLayer(\n",
       "          (self_attn): BartSdpaAttention(\n",
       "            (k_proj): Linear(in_features=768, out_features=768, bias=True)\n",
       "            (v_proj): Linear(in_features=768, out_features=768, bias=True)\n",
       "            (q_proj): Linear(in_features=768, out_features=768, bias=True)\n",
       "            (out_proj): Linear(in_features=768, out_features=768, bias=True)\n",
       "          )\n",
       "          (self_attn_layer_norm): LayerNorm((768,), eps=1e-05, elementwise_affine=True)\n",
       "          (activation_fn): GELUActivation()\n",
       "          (fc1): Linear(in_features=768, out_features=3072, bias=True)\n",
       "          (fc2): Linear(in_features=3072, out_features=768, bias=True)\n",
       "          (final_layer_norm): LayerNorm((768,), eps=1e-05, elementwise_affine=True)\n",
       "        )\n",
       "      )\n",
       "      (layernorm_embedding): LayerNorm((768,), eps=1e-05, elementwise_affine=True)\n",
       "    )\n",
       "    (decoder): BartDecoder(\n",
       "      (embed_tokens): BartScaledWordEmbedding(50265, 768, padding_idx=1)\n",
       "      (embed_positions): BartLearnedPositionalEmbedding(1026, 768)\n",
       "      (layers): ModuleList(\n",
       "        (0-5): 6 x BartDecoderLayer(\n",
       "          (self_attn): BartSdpaAttention(\n",
       "            (k_proj): Linear(in_features=768, out_features=768, bias=True)\n",
       "            (v_proj): Linear(in_features=768, out_features=768, bias=True)\n",
       "            (q_proj): Linear(in_features=768, out_features=768, bias=True)\n",
       "            (out_proj): Linear(in_features=768, out_features=768, bias=True)\n",
       "          )\n",
       "          (activation_fn): GELUActivation()\n",
       "          (self_attn_layer_norm): LayerNorm((768,), eps=1e-05, elementwise_affine=True)\n",
       "          (encoder_attn): BartSdpaAttention(\n",
       "            (k_proj): Linear(in_features=768, out_features=768, bias=True)\n",
       "            (v_proj): Linear(in_features=768, out_features=768, bias=True)\n",
       "            (q_proj): Linear(in_features=768, out_features=768, bias=True)\n",
       "            (out_proj): Linear(in_features=768, out_features=768, bias=True)\n",
       "          )\n",
       "          (encoder_attn_layer_norm): LayerNorm((768,), eps=1e-05, elementwise_affine=True)\n",
       "          (fc1): Linear(in_features=768, out_features=3072, bias=True)\n",
       "          (fc2): Linear(in_features=3072, out_features=768, bias=True)\n",
       "          (final_layer_norm): LayerNorm((768,), eps=1e-05, elementwise_affine=True)\n",
       "        )\n",
       "      )\n",
       "      (layernorm_embedding): LayerNorm((768,), eps=1e-05, elementwise_affine=True)\n",
       "    )\n",
       "  )\n",
       "  (lm_head): Linear(in_features=768, out_features=50265, bias=False)\n",
       ")"
      ]
     },
     "execution_count": 71,
     "metadata": {},
     "output_type": "execute_result"
    }
   ],
   "source": [
    "model_ckpt = \"facebook/bart-base\"\n",
    "model2 = AutoModelForSeq2SeqLM.from_pretrained(model_ckpt).to(device)\n",
    "model2.load_state_dict(torch.load(file_path, weights_only=True))\n",
    "model2.eval()"
   ]
  },
  {
   "cell_type": "code",
   "execution_count": 72,
   "metadata": {},
   "outputs": [
    {
     "name": "stdout",
     "output_type": "stream",
     "text": [
      "- The Amazon rainforest is often referred to as the \"lungs of the Earth\" because of its critical role in producing oxygen and absorbing carbon dioxide.\n",
      "- It spans across several countries in South America, including Brazil, Peru, and Colombia, and is home to an incredibly diverse array of wildlife, plants, and indigenous cultures. Unfortunately, the Amazon is facing significant threats due to deforestation, illegal logging, mining, and agricultural expansion.        - Many indigenous communities have lived in the Amazon for centuries and possess a deep understanding of the ecosystem.\n",
      "\n"
     ]
    }
   ],
   "source": [
    "input_text = \"\"\"\n",
    "The Amazon rainforest is often referred to as the \"lungs of the Earth\" because of its critical role in producing oxygen and absorbing carbon dioxide. It spans across several countries in South America, including Brazil, Peru, and Colombia, and is home to an incredibly diverse array of wildlife, plants, and indigenous cultures. Unfortunately, the Amazon is facing significant threats due to deforestation, illegal logging, mining, and agricultural expansion. These activities are rapidly destroying large portions of the rainforest, which not only contributes to the loss of biodiversity but also accelerates climate change by releasing stored carbon into the atmosphere.\n",
    "\n",
    "In recent years, global efforts to protect the Amazon have intensified, with governments, NGOs, and international organizations working together to implement conservation strategies and policies. One such initiative is the creation of protected areas and indigenous territories that restrict harmful activities. However, enforcement of these measures remains a challenge, particularly in remote regions where illegal activities are rampant.\n",
    "\n",
    "Another important issue is the role of indigenous peoples in protecting the forest. Many indigenous communities have lived in the Amazon for centuries and possess a deep understanding of the ecosystem. These communities are often the first line of defense against environmental destruction and have been leading efforts to preserve their land and culture. Yet, they face increasing threats from outside forces seeking to exploit the land for economic gain.\n",
    "\n",
    "Climate change is exacerbating the situation, with rising temperatures and altered rainfall patterns putting additional pressure on the Amazon. Scientists have warned that if current trends continue, the rainforest could reach a tipping point where it can no longer function as a carbon sink, further accelerating global warming. Given its global significance, the fate of the Amazon is a pressing issue that requires urgent and coordinated action on a global scale.\n",
    "\"\"\"\n",
    "\n",
    "# Tokenize input text\n",
    "inputs = tokenizer(input_text, return_tensors=\"pt\", max_length=2048, truncation=True).to(device)\n",
    "\n",
    "# Generate summary\n",
<<<<<<< HEAD
    "summary_ids = model2.generate(\n",
=======
    "summary_ids = model.generate(\n",
>>>>>>> 50cb23145861fa5532e1cf1bc4f43965df41931b
    "    inputs['input_ids'],\n",
    "    num_beams=8,\n",
    "    max_length=200,\n",
    "    min_length=100,\n",
    "    early_stopping=True,\n",
    "    temperature=0.8\n",
    ")\n",
    "\n",
    "# Decode the summary\n",
    "bullets = tokenizer.decode(summary_ids[0], skip_special_tokens=True)\n",
    "\n",
    "formatted = \"\".join([\"\\n- \" + sentence.strip() for sentence in bullets.split(\"-\") if sentence.encode('ascii', errors='ignore').decode().strip()])\n",
    "print(\"Summary in Bullet Points:\\n\", formatted)"
   ]
  },
  {
   "cell_type": "code",
   "execution_count": 68,
   "metadata": {},
   "outputs": [],
   "source": [
    "import fitz\n",
    "\n",
    "def extract_text_from_pdf(pdf_path):\n",
    "    doc = fitz.open(pdf_path)\n",
    "    text = \"\\n\".join(page.get_text() for page in doc)\n",
    "    return text"
   ]
  }
 ],
 "metadata": {
  "kernelspec": {
   "display_name": ".venv",
   "language": "python",
   "name": "python3"
  },
  "language_info": {
   "codemirror_mode": {
    "name": "ipython",
    "version": 3
   },
   "file_extension": ".py",
   "mimetype": "text/x-python",
   "name": "python",
   "nbconvert_exporter": "python",
   "pygments_lexer": "ipython3",
   "version": "3.12.7"
  }
 },
 "nbformat": 4,
 "nbformat_minor": 2
}
