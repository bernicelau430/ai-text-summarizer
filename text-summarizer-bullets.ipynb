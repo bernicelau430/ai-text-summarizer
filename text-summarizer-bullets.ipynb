{
 "cells": [
  {
   "cell_type": "markdown",
   "metadata": {},
   "source": [
    "# AI Text Summarizer"
   ]
  },
  {
   "cell_type": "markdown",
   "metadata": {},
   "source": [
    "### Import Requirements"
   ]
  },
  {
   "cell_type": "code",
   "execution_count": 1,
   "metadata": {},
   "outputs": [],
   "source": [
    "# python3 -m venv venv\n",
    "# source venv/bin/activate"
   ]
  },
  {
   "cell_type": "code",
   "execution_count": 1,
   "metadata": {},
   "outputs": [
    {
     "name": "stdout",
     "output_type": "stream",
     "text": [
      "Requirement already satisfied: rouge_score in /Users/bshowell/Desktop/school/winter 24-25/480/.venv/lib/python3.12/site-packages (0.1.2)\n",
      "Requirement already satisfied: absl-py in /Users/bshowell/Desktop/school/winter 24-25/480/.venv/lib/python3.12/site-packages (from rouge_score) (2.1.0)\n",
      "Requirement already satisfied: nltk in /Users/bshowell/Desktop/school/winter 24-25/480/.venv/lib/python3.12/site-packages (from rouge_score) (3.9.1)\n",
      "Requirement already satisfied: numpy in /Users/bshowell/Desktop/school/winter 24-25/480/.venv/lib/python3.12/site-packages (from rouge_score) (2.2.1)\n",
      "Requirement already satisfied: six>=1.14.0 in /Users/bshowell/Desktop/school/winter 24-25/480/.venv/lib/python3.12/site-packages (from rouge_score) (1.17.0)\n",
      "Requirement already satisfied: click in /Users/bshowell/Desktop/school/winter 24-25/480/.venv/lib/python3.12/site-packages (from nltk->rouge_score) (8.1.8)\n",
      "Requirement already satisfied: joblib in /Users/bshowell/Desktop/school/winter 24-25/480/.venv/lib/python3.12/site-packages (from nltk->rouge_score) (1.4.2)\n",
      "Requirement already satisfied: regex>=2021.8.3 in /Users/bshowell/Desktop/school/winter 24-25/480/.venv/lib/python3.12/site-packages (from nltk->rouge_score) (2024.11.6)\n",
      "Requirement already satisfied: tqdm in /Users/bshowell/Desktop/school/winter 24-25/480/.venv/lib/python3.12/site-packages (from nltk->rouge_score) (4.67.1)\n",
      "\n",
      "\u001b[1m[\u001b[0m\u001b[34;49mnotice\u001b[0m\u001b[1;39;49m]\u001b[0m\u001b[39;49m A new release of pip is available: \u001b[0m\u001b[31;49m24.3.1\u001b[0m\u001b[39;49m -> \u001b[0m\u001b[32;49m25.0.1\u001b[0m\n",
      "\u001b[1m[\u001b[0m\u001b[34;49mnotice\u001b[0m\u001b[1;39;49m]\u001b[0m\u001b[39;49m To update, run: \u001b[0m\u001b[32;49m/Users/bshowell/Desktop/school/winter 24-25/480/.venv/bin/python -m pip install --upgrade pip\u001b[0m\n",
      "Note: you may need to restart the kernel to use updated packages.\n",
      "Requirement already satisfied: evaluate in /Users/bshowell/Desktop/school/winter 24-25/480/.venv/lib/python3.12/site-packages (0.4.3)\n",
      "Requirement already satisfied: datasets>=2.0.0 in /Users/bshowell/Desktop/school/winter 24-25/480/.venv/lib/python3.12/site-packages (from evaluate) (3.2.0)\n",
      "Requirement already satisfied: numpy>=1.17 in /Users/bshowell/Desktop/school/winter 24-25/480/.venv/lib/python3.12/site-packages (from evaluate) (2.2.1)\n",
      "Requirement already satisfied: dill in /Users/bshowell/Desktop/school/winter 24-25/480/.venv/lib/python3.12/site-packages (from evaluate) (0.3.8)\n",
      "Requirement already satisfied: pandas in /Users/bshowell/Desktop/school/winter 24-25/480/.venv/lib/python3.12/site-packages (from evaluate) (2.2.3)\n",
      "Requirement already satisfied: requests>=2.19.0 in /Users/bshowell/Desktop/school/winter 24-25/480/.venv/lib/python3.12/site-packages (from evaluate) (2.32.3)\n",
      "Requirement already satisfied: tqdm>=4.62.1 in /Users/bshowell/Desktop/school/winter 24-25/480/.venv/lib/python3.12/site-packages (from evaluate) (4.67.1)\n",
      "Requirement already satisfied: xxhash in /Users/bshowell/Desktop/school/winter 24-25/480/.venv/lib/python3.12/site-packages (from evaluate) (3.5.0)\n",
      "Requirement already satisfied: multiprocess in /Users/bshowell/Desktop/school/winter 24-25/480/.venv/lib/python3.12/site-packages (from evaluate) (0.70.16)\n",
      "Requirement already satisfied: fsspec>=2021.05.0 in /Users/bshowell/Desktop/school/winter 24-25/480/.venv/lib/python3.12/site-packages (from fsspec[http]>=2021.05.0->evaluate) (2024.9.0)\n",
      "Requirement already satisfied: huggingface-hub>=0.7.0 in /Users/bshowell/Desktop/school/winter 24-25/480/.venv/lib/python3.12/site-packages (from evaluate) (0.28.1)\n",
      "Requirement already satisfied: packaging in /Users/bshowell/Desktop/school/winter 24-25/480/.venv/lib/python3.12/site-packages (from evaluate) (24.2)\n",
      "Requirement already satisfied: filelock in /Users/bshowell/Desktop/school/winter 24-25/480/.venv/lib/python3.12/site-packages (from datasets>=2.0.0->evaluate) (3.17.0)\n",
      "Requirement already satisfied: pyarrow>=15.0.0 in /Users/bshowell/Desktop/school/winter 24-25/480/.venv/lib/python3.12/site-packages (from datasets>=2.0.0->evaluate) (19.0.0)\n",
      "Requirement already satisfied: aiohttp in /Users/bshowell/Desktop/school/winter 24-25/480/.venv/lib/python3.12/site-packages (from datasets>=2.0.0->evaluate) (3.11.12)\n",
      "Requirement already satisfied: pyyaml>=5.1 in /Users/bshowell/Desktop/school/winter 24-25/480/.venv/lib/python3.12/site-packages (from datasets>=2.0.0->evaluate) (6.0.2)\n",
      "Requirement already satisfied: typing-extensions>=3.7.4.3 in /Users/bshowell/Desktop/school/winter 24-25/480/.venv/lib/python3.12/site-packages (from huggingface-hub>=0.7.0->evaluate) (4.12.2)\n",
      "Requirement already satisfied: charset-normalizer<4,>=2 in /Users/bshowell/Desktop/school/winter 24-25/480/.venv/lib/python3.12/site-packages (from requests>=2.19.0->evaluate) (3.4.1)\n",
      "Requirement already satisfied: idna<4,>=2.5 in /Users/bshowell/Desktop/school/winter 24-25/480/.venv/lib/python3.12/site-packages (from requests>=2.19.0->evaluate) (3.10)\n",
      "Requirement already satisfied: urllib3<3,>=1.21.1 in /Users/bshowell/Desktop/school/winter 24-25/480/.venv/lib/python3.12/site-packages (from requests>=2.19.0->evaluate) (2.3.0)\n",
      "Requirement already satisfied: certifi>=2017.4.17 in /Users/bshowell/Desktop/school/winter 24-25/480/.venv/lib/python3.12/site-packages (from requests>=2.19.0->evaluate) (2025.1.31)\n",
      "Requirement already satisfied: python-dateutil>=2.8.2 in /Users/bshowell/Desktop/school/winter 24-25/480/.venv/lib/python3.12/site-packages (from pandas->evaluate) (2.9.0.post0)\n",
      "Requirement already satisfied: pytz>=2020.1 in /Users/bshowell/Desktop/school/winter 24-25/480/.venv/lib/python3.12/site-packages (from pandas->evaluate) (2024.2)\n",
      "Requirement already satisfied: tzdata>=2022.7 in /Users/bshowell/Desktop/school/winter 24-25/480/.venv/lib/python3.12/site-packages (from pandas->evaluate) (2024.2)\n",
      "Requirement already satisfied: aiohappyeyeballs>=2.3.0 in /Users/bshowell/Desktop/school/winter 24-25/480/.venv/lib/python3.12/site-packages (from aiohttp->datasets>=2.0.0->evaluate) (2.4.6)\n",
      "Requirement already satisfied: aiosignal>=1.1.2 in /Users/bshowell/Desktop/school/winter 24-25/480/.venv/lib/python3.12/site-packages (from aiohttp->datasets>=2.0.0->evaluate) (1.3.2)\n",
      "Requirement already satisfied: attrs>=17.3.0 in /Users/bshowell/Desktop/school/winter 24-25/480/.venv/lib/python3.12/site-packages (from aiohttp->datasets>=2.0.0->evaluate) (25.1.0)\n",
      "Requirement already satisfied: frozenlist>=1.1.1 in /Users/bshowell/Desktop/school/winter 24-25/480/.venv/lib/python3.12/site-packages (from aiohttp->datasets>=2.0.0->evaluate) (1.5.0)\n",
      "Requirement already satisfied: multidict<7.0,>=4.5 in /Users/bshowell/Desktop/school/winter 24-25/480/.venv/lib/python3.12/site-packages (from aiohttp->datasets>=2.0.0->evaluate) (6.1.0)\n",
      "Requirement already satisfied: propcache>=0.2.0 in /Users/bshowell/Desktop/school/winter 24-25/480/.venv/lib/python3.12/site-packages (from aiohttp->datasets>=2.0.0->evaluate) (0.2.1)\n",
      "Requirement already satisfied: yarl<2.0,>=1.17.0 in /Users/bshowell/Desktop/school/winter 24-25/480/.venv/lib/python3.12/site-packages (from aiohttp->datasets>=2.0.0->evaluate) (1.18.3)\n",
      "Requirement already satisfied: six>=1.5 in /Users/bshowell/Desktop/school/winter 24-25/480/.venv/lib/python3.12/site-packages (from python-dateutil>=2.8.2->pandas->evaluate) (1.17.0)\n",
      "\n",
      "\u001b[1m[\u001b[0m\u001b[34;49mnotice\u001b[0m\u001b[1;39;49m]\u001b[0m\u001b[39;49m A new release of pip is available: \u001b[0m\u001b[31;49m24.3.1\u001b[0m\u001b[39;49m -> \u001b[0m\u001b[32;49m25.0.1\u001b[0m\n",
      "\u001b[1m[\u001b[0m\u001b[34;49mnotice\u001b[0m\u001b[1;39;49m]\u001b[0m\u001b[39;49m To update, run: \u001b[0m\u001b[32;49m/Users/bshowell/Desktop/school/winter 24-25/480/.venv/bin/python -m pip install --upgrade pip\u001b[0m\n",
      "Note: you may need to restart the kernel to use updated packages.\n",
      "\n",
      "\u001b[1m[\u001b[0m\u001b[34;49mnotice\u001b[0m\u001b[1;39;49m]\u001b[0m\u001b[39;49m A new release of pip is available: \u001b[0m\u001b[31;49m24.3.1\u001b[0m\u001b[39;49m -> \u001b[0m\u001b[32;49m25.0.1\u001b[0m\n",
      "\u001b[1m[\u001b[0m\u001b[34;49mnotice\u001b[0m\u001b[1;39;49m]\u001b[0m\u001b[39;49m To update, run: \u001b[0m\u001b[32;49m/Users/bshowell/Desktop/school/winter 24-25/480/.venv/bin/python -m pip install --upgrade pip\u001b[0m\n",
      "Note: you may need to restart the kernel to use updated packages.\n",
      "Requirement already satisfied: datasets in /Users/bshowell/Desktop/school/winter 24-25/480/.venv/lib/python3.12/site-packages (3.2.0)\n",
      "Collecting datasets\n",
      "  Downloading datasets-3.3.1-py3-none-any.whl.metadata (19 kB)\n",
      "Requirement already satisfied: filelock in /Users/bshowell/Desktop/school/winter 24-25/480/.venv/lib/python3.12/site-packages (from datasets) (3.17.0)\n",
      "Requirement already satisfied: numpy>=1.17 in /Users/bshowell/Desktop/school/winter 24-25/480/.venv/lib/python3.12/site-packages (from datasets) (2.2.1)\n",
      "Requirement already satisfied: pyarrow>=15.0.0 in /Users/bshowell/Desktop/school/winter 24-25/480/.venv/lib/python3.12/site-packages (from datasets) (19.0.0)\n",
      "Requirement already satisfied: dill<0.3.9,>=0.3.0 in /Users/bshowell/Desktop/school/winter 24-25/480/.venv/lib/python3.12/site-packages (from datasets) (0.3.8)\n",
      "Requirement already satisfied: pandas in /Users/bshowell/Desktop/school/winter 24-25/480/.venv/lib/python3.12/site-packages (from datasets) (2.2.3)\n",
      "Requirement already satisfied: requests>=2.32.2 in /Users/bshowell/Desktop/school/winter 24-25/480/.venv/lib/python3.12/site-packages (from datasets) (2.32.3)\n",
      "Requirement already satisfied: tqdm>=4.66.3 in /Users/bshowell/Desktop/school/winter 24-25/480/.venv/lib/python3.12/site-packages (from datasets) (4.67.1)\n",
      "Requirement already satisfied: xxhash in /Users/bshowell/Desktop/school/winter 24-25/480/.venv/lib/python3.12/site-packages (from datasets) (3.5.0)\n",
      "Requirement already satisfied: multiprocess<0.70.17 in /Users/bshowell/Desktop/school/winter 24-25/480/.venv/lib/python3.12/site-packages (from datasets) (0.70.16)\n",
      "Requirement already satisfied: fsspec<=2024.12.0,>=2023.1.0 in /Users/bshowell/Desktop/school/winter 24-25/480/.venv/lib/python3.12/site-packages (from fsspec[http]<=2024.12.0,>=2023.1.0->datasets) (2024.9.0)\n",
      "Requirement already satisfied: aiohttp in /Users/bshowell/Desktop/school/winter 24-25/480/.venv/lib/python3.12/site-packages (from datasets) (3.11.12)\n",
      "Requirement already satisfied: huggingface-hub>=0.24.0 in /Users/bshowell/Desktop/school/winter 24-25/480/.venv/lib/python3.12/site-packages (from datasets) (0.28.1)\n",
      "Requirement already satisfied: packaging in /Users/bshowell/Desktop/school/winter 24-25/480/.venv/lib/python3.12/site-packages (from datasets) (24.2)\n",
      "Requirement already satisfied: pyyaml>=5.1 in /Users/bshowell/Desktop/school/winter 24-25/480/.venv/lib/python3.12/site-packages (from datasets) (6.0.2)\n",
      "Requirement already satisfied: aiohappyeyeballs>=2.3.0 in /Users/bshowell/Desktop/school/winter 24-25/480/.venv/lib/python3.12/site-packages (from aiohttp->datasets) (2.4.6)\n",
      "Requirement already satisfied: aiosignal>=1.1.2 in /Users/bshowell/Desktop/school/winter 24-25/480/.venv/lib/python3.12/site-packages (from aiohttp->datasets) (1.3.2)\n",
      "Requirement already satisfied: attrs>=17.3.0 in /Users/bshowell/Desktop/school/winter 24-25/480/.venv/lib/python3.12/site-packages (from aiohttp->datasets) (25.1.0)\n",
      "Requirement already satisfied: frozenlist>=1.1.1 in /Users/bshowell/Desktop/school/winter 24-25/480/.venv/lib/python3.12/site-packages (from aiohttp->datasets) (1.5.0)\n",
      "Requirement already satisfied: multidict<7.0,>=4.5 in /Users/bshowell/Desktop/school/winter 24-25/480/.venv/lib/python3.12/site-packages (from aiohttp->datasets) (6.1.0)\n",
      "Requirement already satisfied: propcache>=0.2.0 in /Users/bshowell/Desktop/school/winter 24-25/480/.venv/lib/python3.12/site-packages (from aiohttp->datasets) (0.2.1)\n",
      "Requirement already satisfied: yarl<2.0,>=1.17.0 in /Users/bshowell/Desktop/school/winter 24-25/480/.venv/lib/python3.12/site-packages (from aiohttp->datasets) (1.18.3)\n",
      "Requirement already satisfied: typing-extensions>=3.7.4.3 in /Users/bshowell/Desktop/school/winter 24-25/480/.venv/lib/python3.12/site-packages (from huggingface-hub>=0.24.0->datasets) (4.12.2)\n",
      "Requirement already satisfied: charset-normalizer<4,>=2 in /Users/bshowell/Desktop/school/winter 24-25/480/.venv/lib/python3.12/site-packages (from requests>=2.32.2->datasets) (3.4.1)\n",
      "Requirement already satisfied: idna<4,>=2.5 in /Users/bshowell/Desktop/school/winter 24-25/480/.venv/lib/python3.12/site-packages (from requests>=2.32.2->datasets) (3.10)\n",
      "Requirement already satisfied: urllib3<3,>=1.21.1 in /Users/bshowell/Desktop/school/winter 24-25/480/.venv/lib/python3.12/site-packages (from requests>=2.32.2->datasets) (2.3.0)\n",
      "Requirement already satisfied: certifi>=2017.4.17 in /Users/bshowell/Desktop/school/winter 24-25/480/.venv/lib/python3.12/site-packages (from requests>=2.32.2->datasets) (2025.1.31)\n",
      "Requirement already satisfied: python-dateutil>=2.8.2 in /Users/bshowell/Desktop/school/winter 24-25/480/.venv/lib/python3.12/site-packages (from pandas->datasets) (2.9.0.post0)\n",
      "Requirement already satisfied: pytz>=2020.1 in /Users/bshowell/Desktop/school/winter 24-25/480/.venv/lib/python3.12/site-packages (from pandas->datasets) (2024.2)\n",
      "Requirement already satisfied: tzdata>=2022.7 in /Users/bshowell/Desktop/school/winter 24-25/480/.venv/lib/python3.12/site-packages (from pandas->datasets) (2024.2)\n",
      "Requirement already satisfied: six>=1.5 in /Users/bshowell/Desktop/school/winter 24-25/480/.venv/lib/python3.12/site-packages (from python-dateutil>=2.8.2->pandas->datasets) (1.17.0)\n",
      "Downloading datasets-3.3.1-py3-none-any.whl (484 kB)\n",
      "Installing collected packages: datasets\n",
      "  Attempting uninstall: datasets\n",
      "    Found existing installation: datasets 3.2.0\n",
      "    Uninstalling datasets-3.2.0:\n",
      "      Successfully uninstalled datasets-3.2.0\n",
      "Successfully installed datasets-3.3.1\n",
      "\n",
      "\u001b[1m[\u001b[0m\u001b[34;49mnotice\u001b[0m\u001b[1;39;49m]\u001b[0m\u001b[39;49m A new release of pip is available: \u001b[0m\u001b[31;49m24.3.1\u001b[0m\u001b[39;49m -> \u001b[0m\u001b[32;49m25.0.1\u001b[0m\n",
      "\u001b[1m[\u001b[0m\u001b[34;49mnotice\u001b[0m\u001b[1;39;49m]\u001b[0m\u001b[39;49m To update, run: \u001b[0m\u001b[32;49m/Users/bshowell/Desktop/school/winter 24-25/480/.venv/bin/python -m pip install --upgrade pip\u001b[0m\n",
      "Note: you may need to restart the kernel to use updated packages.\n",
      "Requirement already satisfied: python-dotenv in /Users/bshowell/Desktop/school/winter 24-25/480/.venv/lib/python3.12/site-packages (1.0.1)\n",
      "\n",
      "\u001b[1m[\u001b[0m\u001b[34;49mnotice\u001b[0m\u001b[1;39;49m]\u001b[0m\u001b[39;49m A new release of pip is available: \u001b[0m\u001b[31;49m24.3.1\u001b[0m\u001b[39;49m -> \u001b[0m\u001b[32;49m25.0.1\u001b[0m\n",
      "\u001b[1m[\u001b[0m\u001b[34;49mnotice\u001b[0m\u001b[1;39;49m]\u001b[0m\u001b[39;49m To update, run: \u001b[0m\u001b[32;49m/Users/bshowell/Desktop/school/winter 24-25/480/.venv/bin/python -m pip install --upgrade pip\u001b[0m\n",
      "Note: you may need to restart the kernel to use updated packages.\n",
      "Looking in indexes: https://download.pytorch.org/whl/cu121\n",
      "\u001b[31mERROR: Could not find a version that satisfies the requirement torch==2.4.1 (from versions: none)\u001b[0m\u001b[31m\n",
      "\u001b[0m\n",
      "\u001b[1m[\u001b[0m\u001b[34;49mnotice\u001b[0m\u001b[1;39;49m]\u001b[0m\u001b[39;49m A new release of pip is available: \u001b[0m\u001b[31;49m24.3.1\u001b[0m\u001b[39;49m -> \u001b[0m\u001b[32;49m25.0.1\u001b[0m\n",
      "\u001b[1m[\u001b[0m\u001b[34;49mnotice\u001b[0m\u001b[1;39;49m]\u001b[0m\u001b[39;49m To update, run: \u001b[0m\u001b[32;49m/Users/bshowell/Desktop/school/winter 24-25/480/.venv/bin/python -m pip install --upgrade pip\u001b[0m\n",
      "\u001b[31mERROR: No matching distribution found for torch==2.4.1\u001b[0m\u001b[31m\n",
      "\u001b[0mNote: you may need to restart the kernel to use updated packages.\n",
      "Requirement already satisfied: transformers in /Users/bshowell/Desktop/school/winter 24-25/480/.venv/lib/python3.12/site-packages (4.48.3)\n",
      "Collecting transformers\n",
      "  Downloading transformers-4.49.0-py3-none-any.whl.metadata (44 kB)\n",
      "Requirement already satisfied: filelock in /Users/bshowell/Desktop/school/winter 24-25/480/.venv/lib/python3.12/site-packages (from transformers) (3.17.0)\n",
      "Requirement already satisfied: huggingface-hub<1.0,>=0.26.0 in /Users/bshowell/Desktop/school/winter 24-25/480/.venv/lib/python3.12/site-packages (from transformers) (0.28.1)\n",
      "Requirement already satisfied: numpy>=1.17 in /Users/bshowell/Desktop/school/winter 24-25/480/.venv/lib/python3.12/site-packages (from transformers) (2.2.1)\n",
      "Requirement already satisfied: packaging>=20.0 in /Users/bshowell/Desktop/school/winter 24-25/480/.venv/lib/python3.12/site-packages (from transformers) (24.2)\n",
      "Requirement already satisfied: pyyaml>=5.1 in /Users/bshowell/Desktop/school/winter 24-25/480/.venv/lib/python3.12/site-packages (from transformers) (6.0.2)\n",
      "Requirement already satisfied: regex!=2019.12.17 in /Users/bshowell/Desktop/school/winter 24-25/480/.venv/lib/python3.12/site-packages (from transformers) (2024.11.6)\n",
      "Requirement already satisfied: requests in /Users/bshowell/Desktop/school/winter 24-25/480/.venv/lib/python3.12/site-packages (from transformers) (2.32.3)\n",
      "Requirement already satisfied: tokenizers<0.22,>=0.21 in /Users/bshowell/Desktop/school/winter 24-25/480/.venv/lib/python3.12/site-packages (from transformers) (0.21.0)\n",
      "Requirement already satisfied: safetensors>=0.4.1 in /Users/bshowell/Desktop/school/winter 24-25/480/.venv/lib/python3.12/site-packages (from transformers) (0.5.2)\n",
      "Requirement already satisfied: tqdm>=4.27 in /Users/bshowell/Desktop/school/winter 24-25/480/.venv/lib/python3.12/site-packages (from transformers) (4.67.1)\n",
      "Requirement already satisfied: fsspec>=2023.5.0 in /Users/bshowell/Desktop/school/winter 24-25/480/.venv/lib/python3.12/site-packages (from huggingface-hub<1.0,>=0.26.0->transformers) (2024.9.0)\n",
      "Requirement already satisfied: typing-extensions>=3.7.4.3 in /Users/bshowell/Desktop/school/winter 24-25/480/.venv/lib/python3.12/site-packages (from huggingface-hub<1.0,>=0.26.0->transformers) (4.12.2)\n",
      "Requirement already satisfied: charset-normalizer<4,>=2 in /Users/bshowell/Desktop/school/winter 24-25/480/.venv/lib/python3.12/site-packages (from requests->transformers) (3.4.1)\n",
      "Requirement already satisfied: idna<4,>=2.5 in /Users/bshowell/Desktop/school/winter 24-25/480/.venv/lib/python3.12/site-packages (from requests->transformers) (3.10)\n",
      "Requirement already satisfied: urllib3<3,>=1.21.1 in /Users/bshowell/Desktop/school/winter 24-25/480/.venv/lib/python3.12/site-packages (from requests->transformers) (2.3.0)\n",
      "Requirement already satisfied: certifi>=2017.4.17 in /Users/bshowell/Desktop/school/winter 24-25/480/.venv/lib/python3.12/site-packages (from requests->transformers) (2025.1.31)\n",
      "Downloading transformers-4.49.0-py3-none-any.whl (10.0 MB)\n",
      "\u001b[2K   \u001b[90m━━━━━━━━━━━━━━━━━━━━━━━━━━━━━━━━━━━━━━━━\u001b[0m \u001b[32m10.0/10.0 MB\u001b[0m \u001b[31m30.6 MB/s\u001b[0m eta \u001b[36m0:00:00\u001b[0m \u001b[36m0:00:01\u001b[0m\n",
      "\u001b[?25hInstalling collected packages: transformers\n",
      "  Attempting uninstall: transformers\n",
      "    Found existing installation: transformers 4.48.3\n",
      "    Uninstalling transformers-4.48.3:\n",
      "      Successfully uninstalled transformers-4.48.3\n",
      "Successfully installed transformers-4.49.0\n",
      "\n",
      "\u001b[1m[\u001b[0m\u001b[34;49mnotice\u001b[0m\u001b[1;39;49m]\u001b[0m\u001b[39;49m A new release of pip is available: \u001b[0m\u001b[31;49m24.3.1\u001b[0m\u001b[39;49m -> \u001b[0m\u001b[32;49m25.0.1\u001b[0m\n",
      "\u001b[1m[\u001b[0m\u001b[34;49mnotice\u001b[0m\u001b[1;39;49m]\u001b[0m\u001b[39;49m To update, run: \u001b[0m\u001b[32;49m/Users/bshowell/Desktop/school/winter 24-25/480/.venv/bin/python -m pip install --upgrade pip\u001b[0m\n",
      "Note: you may need to restart the kernel to use updated packages.\n",
      "Requirement already satisfied: transformers[torch] in /Users/bshowell/Desktop/school/winter 24-25/480/.venv/lib/python3.12/site-packages (4.49.0)\n",
      "Requirement already satisfied: filelock in /Users/bshowell/Desktop/school/winter 24-25/480/.venv/lib/python3.12/site-packages (from transformers[torch]) (3.17.0)\n",
      "Requirement already satisfied: huggingface-hub<1.0,>=0.26.0 in /Users/bshowell/Desktop/school/winter 24-25/480/.venv/lib/python3.12/site-packages (from transformers[torch]) (0.28.1)\n",
      "Requirement already satisfied: numpy>=1.17 in /Users/bshowell/Desktop/school/winter 24-25/480/.venv/lib/python3.12/site-packages (from transformers[torch]) (2.2.1)\n",
      "Requirement already satisfied: packaging>=20.0 in /Users/bshowell/Desktop/school/winter 24-25/480/.venv/lib/python3.12/site-packages (from transformers[torch]) (24.2)\n",
      "Requirement already satisfied: pyyaml>=5.1 in /Users/bshowell/Desktop/school/winter 24-25/480/.venv/lib/python3.12/site-packages (from transformers[torch]) (6.0.2)\n",
      "Requirement already satisfied: regex!=2019.12.17 in /Users/bshowell/Desktop/school/winter 24-25/480/.venv/lib/python3.12/site-packages (from transformers[torch]) (2024.11.6)\n",
      "Requirement already satisfied: requests in /Users/bshowell/Desktop/school/winter 24-25/480/.venv/lib/python3.12/site-packages (from transformers[torch]) (2.32.3)\n",
      "Requirement already satisfied: tokenizers<0.22,>=0.21 in /Users/bshowell/Desktop/school/winter 24-25/480/.venv/lib/python3.12/site-packages (from transformers[torch]) (0.21.0)\n",
      "Requirement already satisfied: safetensors>=0.4.1 in /Users/bshowell/Desktop/school/winter 24-25/480/.venv/lib/python3.12/site-packages (from transformers[torch]) (0.5.2)\n",
      "Requirement already satisfied: tqdm>=4.27 in /Users/bshowell/Desktop/school/winter 24-25/480/.venv/lib/python3.12/site-packages (from transformers[torch]) (4.67.1)\n",
      "Requirement already satisfied: torch>=2.0 in /Users/bshowell/Desktop/school/winter 24-25/480/.venv/lib/python3.12/site-packages (from transformers[torch]) (2.6.0)\n",
      "Requirement already satisfied: accelerate>=0.26.0 in /Users/bshowell/Desktop/school/winter 24-25/480/.venv/lib/python3.12/site-packages (from transformers[torch]) (1.3.0)\n",
      "Requirement already satisfied: psutil in /Users/bshowell/Desktop/school/winter 24-25/480/.venv/lib/python3.12/site-packages (from accelerate>=0.26.0->transformers[torch]) (6.1.1)\n",
      "Requirement already satisfied: fsspec>=2023.5.0 in /Users/bshowell/Desktop/school/winter 24-25/480/.venv/lib/python3.12/site-packages (from huggingface-hub<1.0,>=0.26.0->transformers[torch]) (2024.9.0)\n",
      "Requirement already satisfied: typing-extensions>=3.7.4.3 in /Users/bshowell/Desktop/school/winter 24-25/480/.venv/lib/python3.12/site-packages (from huggingface-hub<1.0,>=0.26.0->transformers[torch]) (4.12.2)\n",
      "Requirement already satisfied: networkx in /Users/bshowell/Desktop/school/winter 24-25/480/.venv/lib/python3.12/site-packages (from torch>=2.0->transformers[torch]) (3.4.2)\n",
      "Requirement already satisfied: jinja2 in /Users/bshowell/Desktop/school/winter 24-25/480/.venv/lib/python3.12/site-packages (from torch>=2.0->transformers[torch]) (3.1.5)\n",
      "Requirement already satisfied: setuptools in /Users/bshowell/Desktop/school/winter 24-25/480/.venv/lib/python3.12/site-packages (from torch>=2.0->transformers[torch]) (75.8.0)\n",
      "Requirement already satisfied: sympy==1.13.1 in /Users/bshowell/Desktop/school/winter 24-25/480/.venv/lib/python3.12/site-packages (from torch>=2.0->transformers[torch]) (1.13.1)\n",
      "Requirement already satisfied: mpmath<1.4,>=1.1.0 in /Users/bshowell/Desktop/school/winter 24-25/480/.venv/lib/python3.12/site-packages (from sympy==1.13.1->torch>=2.0->transformers[torch]) (1.3.0)\n",
      "Requirement already satisfied: charset-normalizer<4,>=2 in /Users/bshowell/Desktop/school/winter 24-25/480/.venv/lib/python3.12/site-packages (from requests->transformers[torch]) (3.4.1)\n",
      "Requirement already satisfied: idna<4,>=2.5 in /Users/bshowell/Desktop/school/winter 24-25/480/.venv/lib/python3.12/site-packages (from requests->transformers[torch]) (3.10)\n",
      "Requirement already satisfied: urllib3<3,>=1.21.1 in /Users/bshowell/Desktop/school/winter 24-25/480/.venv/lib/python3.12/site-packages (from requests->transformers[torch]) (2.3.0)\n",
      "Requirement already satisfied: certifi>=2017.4.17 in /Users/bshowell/Desktop/school/winter 24-25/480/.venv/lib/python3.12/site-packages (from requests->transformers[torch]) (2025.1.31)\n",
      "Requirement already satisfied: MarkupSafe>=2.0 in /Users/bshowell/Desktop/school/winter 24-25/480/.venv/lib/python3.12/site-packages (from jinja2->torch>=2.0->transformers[torch]) (3.0.2)\n",
      "\n",
      "\u001b[1m[\u001b[0m\u001b[34;49mnotice\u001b[0m\u001b[1;39;49m]\u001b[0m\u001b[39;49m A new release of pip is available: \u001b[0m\u001b[31;49m24.3.1\u001b[0m\u001b[39;49m -> \u001b[0m\u001b[32;49m25.0.1\u001b[0m\n",
      "\u001b[1m[\u001b[0m\u001b[34;49mnotice\u001b[0m\u001b[1;39;49m]\u001b[0m\u001b[39;49m To update, run: \u001b[0m\u001b[32;49m/Users/bshowell/Desktop/school/winter 24-25/480/.venv/bin/python -m pip install --upgrade pip\u001b[0m\n",
      "Note: you may need to restart the kernel to use updated packages.\n",
      "Requirement already satisfied: seaborn in /Users/bshowell/Desktop/school/winter 24-25/480/.venv/lib/python3.12/site-packages (0.13.2)\n",
      "Requirement already satisfied: numpy!=1.24.0,>=1.20 in /Users/bshowell/Desktop/school/winter 24-25/480/.venv/lib/python3.12/site-packages (from seaborn) (2.2.1)\n",
      "Requirement already satisfied: pandas>=1.2 in /Users/bshowell/Desktop/school/winter 24-25/480/.venv/lib/python3.12/site-packages (from seaborn) (2.2.3)\n",
      "Requirement already satisfied: matplotlib!=3.6.1,>=3.4 in /Users/bshowell/Desktop/school/winter 24-25/480/.venv/lib/python3.12/site-packages (from seaborn) (3.10.0)\n",
      "Requirement already satisfied: contourpy>=1.0.1 in /Users/bshowell/Desktop/school/winter 24-25/480/.venv/lib/python3.12/site-packages (from matplotlib!=3.6.1,>=3.4->seaborn) (1.3.1)\n",
      "Requirement already satisfied: cycler>=0.10 in /Users/bshowell/Desktop/school/winter 24-25/480/.venv/lib/python3.12/site-packages (from matplotlib!=3.6.1,>=3.4->seaborn) (0.12.1)\n",
      "Requirement already satisfied: fonttools>=4.22.0 in /Users/bshowell/Desktop/school/winter 24-25/480/.venv/lib/python3.12/site-packages (from matplotlib!=3.6.1,>=3.4->seaborn) (4.56.0)\n",
      "Requirement already satisfied: kiwisolver>=1.3.1 in /Users/bshowell/Desktop/school/winter 24-25/480/.venv/lib/python3.12/site-packages (from matplotlib!=3.6.1,>=3.4->seaborn) (1.4.8)\n",
      "Requirement already satisfied: packaging>=20.0 in /Users/bshowell/Desktop/school/winter 24-25/480/.venv/lib/python3.12/site-packages (from matplotlib!=3.6.1,>=3.4->seaborn) (24.2)\n",
      "Requirement already satisfied: pillow>=8 in /Users/bshowell/Desktop/school/winter 24-25/480/.venv/lib/python3.12/site-packages (from matplotlib!=3.6.1,>=3.4->seaborn) (11.1.0)\n",
      "Requirement already satisfied: pyparsing>=2.3.1 in /Users/bshowell/Desktop/school/winter 24-25/480/.venv/lib/python3.12/site-packages (from matplotlib!=3.6.1,>=3.4->seaborn) (3.2.1)\n",
      "Requirement already satisfied: python-dateutil>=2.7 in /Users/bshowell/Desktop/school/winter 24-25/480/.venv/lib/python3.12/site-packages (from matplotlib!=3.6.1,>=3.4->seaborn) (2.9.0.post0)\n",
      "Requirement already satisfied: pytz>=2020.1 in /Users/bshowell/Desktop/school/winter 24-25/480/.venv/lib/python3.12/site-packages (from pandas>=1.2->seaborn) (2024.2)\n",
      "Requirement already satisfied: tzdata>=2022.7 in /Users/bshowell/Desktop/school/winter 24-25/480/.venv/lib/python3.12/site-packages (from pandas>=1.2->seaborn) (2024.2)\n",
      "Requirement already satisfied: six>=1.5 in /Users/bshowell/Desktop/school/winter 24-25/480/.venv/lib/python3.12/site-packages (from python-dateutil>=2.7->matplotlib!=3.6.1,>=3.4->seaborn) (1.17.0)\n",
      "\n",
      "\u001b[1m[\u001b[0m\u001b[34;49mnotice\u001b[0m\u001b[1;39;49m]\u001b[0m\u001b[39;49m A new release of pip is available: \u001b[0m\u001b[31;49m24.3.1\u001b[0m\u001b[39;49m -> \u001b[0m\u001b[32;49m25.0.1\u001b[0m\n",
      "\u001b[1m[\u001b[0m\u001b[34;49mnotice\u001b[0m\u001b[1;39;49m]\u001b[0m\u001b[39;49m To update, run: \u001b[0m\u001b[32;49m/Users/bshowell/Desktop/school/winter 24-25/480/.venv/bin/python -m pip install --upgrade pip\u001b[0m\n",
      "Note: you may need to restart the kernel to use updated packages.\n",
      "\u001b[31mERROR: Could not find a version that satisfies the requirement torch-directml (from versions: none)\u001b[0m\u001b[31m\n",
      "\u001b[0m\n",
      "\u001b[1m[\u001b[0m\u001b[34;49mnotice\u001b[0m\u001b[1;39;49m]\u001b[0m\u001b[39;49m A new release of pip is available: \u001b[0m\u001b[31;49m24.3.1\u001b[0m\u001b[39;49m -> \u001b[0m\u001b[32;49m25.0.1\u001b[0m\n",
      "\u001b[1m[\u001b[0m\u001b[34;49mnotice\u001b[0m\u001b[1;39;49m]\u001b[0m\u001b[39;49m To update, run: \u001b[0m\u001b[32;49m/Users/bshowell/Desktop/school/winter 24-25/480/.venv/bin/python -m pip install --upgrade pip\u001b[0m\n",
      "\u001b[31mERROR: No matching distribution found for torch-directml\u001b[0m\u001b[31m\n",
      "\u001b[0mNote: you may need to restart the kernel to use updated packages.\n"
     ]
    }
   ],
   "source": [
    "%pip install rouge_score\n",
    "%pip install evaluate\n",
    "%pip install --upgrade -q wandb\n",
    "%pip install --upgrade datasets\n",
    "%pip install python-dotenv\n",
    "# %pip install torch==2.4.1 torchvision==0.19.1 torchaudio==2.4.1 --index-url https://download.pytorch.org/whl/cpu\n",
    "%pip install torch==2.4.1 torchvision==0.19.1 torchaudio==2.4.1 --index-url https://download.pytorch.org/whl/cu121\n",
    "%pip install --upgrade transformers\n",
    "%pip install --upgrade transformers[torch]\n",
    "%pip install seaborn\n",
    "%pip install torch-directml\n",
    "%pip install pymupdf"
   ]
  },
  {
   "cell_type": "code",
   "execution_count": 1,
   "metadata": {},
   "outputs": [
    {
     "name": "stderr",
     "output_type": "stream",
     "text": [
      "/Users/bshowell/Desktop/school/winter 24-25/480/.venv/lib/python3.12/site-packages/tqdm/auto.py:21: TqdmWarning: IProgress not found. Please update jupyter and ipywidgets. See https://ipywidgets.readthedocs.io/en/stable/user_install.html\n",
      "  from .autonotebook import tqdm as notebook_tqdm\n",
      "[nltk_data] Downloading package punkt_tab to\n",
      "[nltk_data]     /Users/bshowell/nltk_data...\n",
      "[nltk_data]   Unzipping tokenizers/punkt_tab.zip.\n"
     ]
    }
   ],
   "source": [
    "import pandas as pd\n",
    "import numpy as np\n",
    "import os\n",
    "from dotenv import load_dotenv\n",
    "\n",
    "import matplotlib.pyplot as plt\n",
    "import seaborn as sns\n",
    "\n",
    "import torch\n",
    "import torch.nn as nn\n",
    "\n",
    "from transformers import AutoModelForSeq2SeqLM, AutoTokenizer, pipeline, set_seed\n",
    "from transformers import DataCollatorForSeq2Seq\n",
    "from transformers import Seq2SeqTrainer\n",
    "from transformers import Seq2SeqTrainingArguments\n",
    "from transformers import AutoTokenizer\n",
    "\n",
    "import datasets\n",
    "from datasets import Dataset\n",
    "from datasets import DatasetDict\n",
    "\n",
    "from evaluate import load\n",
    "\n",
    "from tqdm import tqdm\n",
    "\n",
    "import wandb\n",
    "import huggingface_hub\n",
    "\n",
    "import nltk\n",
    "from nltk.tokenize import sent_tokenize\n",
    "nltk.download(\"punkt_tab\")\n",
    "\n",
    "import warnings\n",
    "warnings.filterwarnings('ignore')\n",
    "\n",
    "import evaluate\n",
    "\n"
   ]
  },
  {
   "cell_type": "code",
   "execution_count": 2,
   "metadata": {},
   "outputs": [
    {
     "name": "stdout",
     "output_type": "stream",
     "text": [
      "Torch Version: 2.6.0\n",
      "CUDA Available: False\n",
      "CUDA Version: None\n",
      "Number of GPUs: 0\n",
      "GPU Name: No GPU detected\n"
     ]
    }
   ],
   "source": [
    "# verifying CUDA is available\n",
    "print(\"Torch Version:\", torch.__version__)\n",
    "print(\"CUDA Available:\", torch.cuda.is_available()) # should be true if your graphics card is captable with NVIDIA CUDA\n",
    "print(\"CUDA Version:\", torch.version.cuda)\n",
    "print(\"Number of GPUs:\", torch.cuda.device_count())\n",
    "print(\"GPU Name:\", torch.cuda.get_device_name(0) if torch.cuda.is_available() else \"No GPU detected\")"
   ]
  },
  {
   "cell_type": "code",
   "execution_count": 3,
   "metadata": {},
   "outputs": [],
   "source": [
    "# Load environment variables from .env file\n",
    "load_dotenv()\n",
    "\n",
    "# Retrieve tokens from environment variables\n",
    "huggingface_token = os.getenv(\"HUGGINGFACE_TOKEN\")\n",
    "wandb_token = os.getenv(\"WANDB_API_KEY\")"
   ]
  },
  {
   "cell_type": "code",
   "execution_count": 4,
   "metadata": {},
   "outputs": [
    {
     "name": "stderr",
     "output_type": "stream",
     "text": [
      "\u001b[34m\u001b[1mwandb\u001b[0m: \u001b[33mWARNING\u001b[0m If you're specifying your api key in code, ensure this code is not shared publicly.\n",
      "\u001b[34m\u001b[1mwandb\u001b[0m: \u001b[33mWARNING\u001b[0m Consider setting the WANDB_API_KEY environment variable, or running `wandb login` from the command line.\n",
      "\u001b[34m\u001b[1mwandb\u001b[0m: Appending key for api.wandb.ai to your netrc file: /Users/bshowell/.netrc\n",
      "\u001b[34m\u001b[1mwandb\u001b[0m: Currently logged in as: \u001b[33mbernicelau\u001b[0m (\u001b[33mai-text-summarizer\u001b[0m) to \u001b[32mhttps://api.wandb.ai\u001b[0m. Use \u001b[1m`wandb login --relogin`\u001b[0m to force relogin\n"
     ]
    },
    {
     "data": {
      "text/plain": [
       "True"
      ]
     },
     "execution_count": 4,
     "metadata": {},
     "output_type": "execute_result"
    }
   ],
   "source": [
    "# log in to wandb\n",
    "wandb.login(key=wandb_token)"
   ]
  },
  {
   "cell_type": "code",
   "execution_count": 5,
   "metadata": {},
   "outputs": [
    {
     "name": "stderr",
     "output_type": "stream",
     "text": [
      "\u001b[34m\u001b[1mwandb\u001b[0m: Using wandb-core as the SDK backend.  Please refer to https://wandb.me/wandb-core for more information.\n"
     ]
    },
    {
     "data": {
      "text/html": [
       "Tracking run with wandb version 0.19.6"
      ],
      "text/plain": [
       "<IPython.core.display.HTML object>"
      ]
     },
     "metadata": {},
     "output_type": "display_data"
    },
    {
     "data": {
      "text/html": [
       "Run data is saved locally in <code>/Users/bshowell/Desktop/school/winter 24-25/480/ai-text-summarizer/wandb/run-20250220_120450-4s44ns8m</code>"
      ],
      "text/plain": [
       "<IPython.core.display.HTML object>"
      ]
     },
     "metadata": {},
     "output_type": "display_data"
    },
    {
     "data": {
      "text/html": [
       "Syncing run <strong><a href='https://wandb.ai/ai-text-summarizer/ai-text_summmarizer/runs/4s44ns8m' target=\"_blank\">lemon-resonance-17</a></strong> to <a href='https://wandb.ai/ai-text-summarizer/ai-text_summmarizer' target=\"_blank\">Weights & Biases</a> (<a href='https://wandb.me/developer-guide' target=\"_blank\">docs</a>)<br>"
      ],
      "text/plain": [
       "<IPython.core.display.HTML object>"
      ]
     },
     "metadata": {},
     "output_type": "display_data"
    },
    {
     "data": {
      "text/html": [
       " View project at <a href='https://wandb.ai/ai-text-summarizer/ai-text_summmarizer' target=\"_blank\">https://wandb.ai/ai-text-summarizer/ai-text_summmarizer</a>"
      ],
      "text/plain": [
       "<IPython.core.display.HTML object>"
      ]
     },
     "metadata": {},
     "output_type": "display_data"
    },
    {
     "data": {
      "text/html": [
       " View run at <a href='https://wandb.ai/ai-text-summarizer/ai-text_summmarizer/runs/4s44ns8m' target=\"_blank\">https://wandb.ai/ai-text-summarizer/ai-text_summmarizer/runs/4s44ns8m</a>"
      ],
      "text/plain": [
       "<IPython.core.display.HTML object>"
      ]
     },
     "metadata": {},
     "output_type": "display_data"
    },
    {
     "data": {
      "text/html": [
       "<button onClick=\"this.nextSibling.style.display='block';this.style.display='none';\">Display W&B run</button><iframe src='https://wandb.ai/ai-text-summarizer/ai-text_summmarizer/runs/4s44ns8m?jupyter=true' style='border:none;width:100%;height:420px;display:none;'></iframe>"
      ],
      "text/plain": [
       "<wandb.sdk.wandb_run.Run at 0x1129bdf40>"
      ]
     },
     "execution_count": 5,
     "metadata": {},
     "output_type": "execute_result"
    }
   ],
   "source": [
    "# initializing/creating wandb project\n",
    "#os.environ[\"WANDB_MODE\"] = \"offline\" # TODO: trouble connecting to wandb due to restricting network, so keeping it offline for now\n",
    "wandb.init(project=\"ai-text_summmarizer\")"
   ]
  },
  {
   "cell_type": "code",
   "execution_count": 6,
   "metadata": {},
   "outputs": [],
   "source": [
    "# log in to Hugging Face Hub\n",
    "huggingface_hub.login(token=huggingface_token)"
   ]
  },
  {
   "cell_type": "code",
   "execution_count": 7,
   "metadata": {},
   "outputs": [
    {
     "name": "stdout",
     "output_type": "stream",
     "text": [
      "Device: mps\n"
     ]
    }
   ],
   "source": [
    "# Check if CUDA or MPS is available and set the device\n",
    "device = \"cuda\" if torch.cuda.is_available() else \"mps\" if torch.backends.mps.is_available() else \"cpu\"\n",
    "print(\"Device:\", device)\n",
    "\n",
    "# Model checkpoint\n",
    "model_ckpt = \"facebook/bart-base\"\n",
    "\n",
    "# Load the tokenizer and model\n",
    "tokenizer = AutoTokenizer.from_pretrained(model_ckpt)\n",
    "model = AutoModelForSeq2SeqLM.from_pretrained(model_ckpt).to(device)"
   ]
  },
  {
   "cell_type": "code",
   "execution_count": 8,
   "metadata": {},
   "outputs": [],
   "source": [
    "# Data Analysis\n",
    "dataset_paths = 'bbc-news-dataset'\n",
    "articles_path = 'news-articles'\n",
    "bullets_path = 'bullets'\n",
    "\n",
    "articles = []\n",
    "bullets = []\n",
    "file_arr = []\n",
    "\n",
    "\n",
    "\n",
    "folders = os.listdir(dataset_paths + '/' + articles_path)\n",
    "\n",
    "for folder in folders:\n",
    "    files = os.listdir(dataset_paths + '/' + articles_path + '/' + folder)\n",
    "    for file in files:\n",
    "        article_file_path = os.path.join(dataset_paths, articles_path, folder, file)\n",
    "        bullets_file_path = os.path.join(dataset_paths, bullets_path, folder, file)\n",
    "\n",
    "        try:\n",
    "            with open (article_file_path,'r') as f:\n",
    "                articles.append('.'.join([line.rstrip() for line in f.readlines()]))\n",
    "            with open (bullets_file_path,'r') as f:\n",
    "                bullets.append('.'.join([line.rstrip() for line in f.readlines()]))\n",
    "            file_arr.append(folder + '/' + file)\n",
    "        except Exception as e:\n",
    "            print(f\"Error reading file {folder}/{file} with error `{e}`\")"
   ]
  },
  {
   "cell_type": "code",
   "execution_count": 9,
   "metadata": {},
   "outputs": [
    {
     "data": {
      "text/html": [
       "<div>\n",
       "<style scoped>\n",
       "    .dataframe tbody tr th:only-of-type {\n",
       "        vertical-align: middle;\n",
       "    }\n",
       "\n",
       "    .dataframe tbody tr th {\n",
       "        vertical-align: top;\n",
       "    }\n",
       "\n",
       "    .dataframe thead th {\n",
       "        text-align: right;\n",
       "    }\n",
       "</style>\n",
       "<table border=\"1\" class=\"dataframe\">\n",
       "  <thead>\n",
       "    <tr style=\"text-align: right;\">\n",
       "      <th></th>\n",
       "      <th>path</th>\n",
       "      <th>article</th>\n",
       "      <th>bullets</th>\n",
       "    </tr>\n",
       "  </thead>\n",
       "  <tbody>\n",
       "    <tr>\n",
       "      <th>0</th>\n",
       "      <td>entertainment/289.txt</td>\n",
       "      <td>Musicians to tackle US red tape..Musicians' gr...</td>\n",
       "      <td>- British musicians are \"disadvantaged\" compar...</td>\n",
       "    </tr>\n",
       "    <tr>\n",
       "      <th>1</th>\n",
       "      <td>entertainment/262.txt</td>\n",
       "      <td>U2's desire to be number one..U2, who have won...</td>\n",
       "      <td>- U2 is determined to remain the biggest band ...</td>\n",
       "    </tr>\n",
       "    <tr>\n",
       "      <th>2</th>\n",
       "      <td>entertainment/276.txt</td>\n",
       "      <td>Rocker Doherty in on-stage fight..Rock singer ...</td>\n",
       "      <td>- Pete Doherty's band, Babyshambles, played a ...</td>\n",
       "    </tr>\n",
       "    <tr>\n",
       "      <th>3</th>\n",
       "      <td>entertainment/060.txt</td>\n",
       "      <td>Snicket tops US box office chart..The film ada...</td>\n",
       "      <td>- A Series of Unfortunate Events, starring Jim...</td>\n",
       "    </tr>\n",
       "    <tr>\n",
       "      <th>4</th>\n",
       "      <td>entertainment/074.txt</td>\n",
       "      <td>Ocean's Twelve raids box office..Ocean's Twelv...</td>\n",
       "      <td>- Ocean's Twelve, starring George Clooney, Bra...</td>\n",
       "    </tr>\n",
       "  </tbody>\n",
       "</table>\n",
       "</div>"
      ],
      "text/plain": [
       "                    path                                            article  \\\n",
       "0  entertainment/289.txt  Musicians to tackle US red tape..Musicians' gr...   \n",
       "1  entertainment/262.txt  U2's desire to be number one..U2, who have won...   \n",
       "2  entertainment/276.txt  Rocker Doherty in on-stage fight..Rock singer ...   \n",
       "3  entertainment/060.txt  Snicket tops US box office chart..The film ada...   \n",
       "4  entertainment/074.txt  Ocean's Twelve raids box office..Ocean's Twelv...   \n",
       "\n",
       "                                             bullets  \n",
       "0  - British musicians are \"disadvantaged\" compar...  \n",
       "1  - U2 is determined to remain the biggest band ...  \n",
       "2  - Pete Doherty's band, Babyshambles, played a ...  \n",
       "3  - A Series of Unfortunate Events, starring Jim...  \n",
       "4  - Ocean's Twelve, starring George Clooney, Bra...  "
      ]
     },
     "execution_count": 9,
     "metadata": {},
     "output_type": "execute_result"
    }
   ],
   "source": [
    "df = pd.DataFrame({'path':file_arr,'article':articles,'bullets':bullets})\n",
    "df.head()"
   ]
  },
  {
   "cell_type": "code",
   "execution_count": 10,
   "metadata": {},
   "outputs": [
    {
     "name": "stdout",
     "output_type": "stream",
     "text": [
      "Before:\n",
      "path       0\n",
      "article    0\n",
      "bullets    0\n",
      "dtype: int64\n",
      "\n",
      "After:\n",
      "path       0\n",
      "article    0\n",
      "bullets    0\n",
      "dtype: int64\n"
     ]
    }
   ],
   "source": [
    "# removing nans if any\n",
    "\n",
    "print(\"Before:\\n\", df.isnull().sum(), \"\\n\", sep=\"\")\n",
    "df.dropna(inplace=True)\n",
    "print(\"After:\\n\", df.isnull().sum(), sep=\"\")"
   ]
  },
  {
   "cell_type": "code",
   "execution_count": 12,
   "metadata": {},
   "outputs": [],
   "source": [
    "# crating function to count the words in each sample\n",
    "\n",
    "def word_count(sentence):\n",
    "    sentences = sentence.split()\n",
    "    return len(sentences)"
   ]
  },
  {
   "cell_type": "code",
   "execution_count": 13,
   "metadata": {},
   "outputs": [
    {
     "data": {
      "text/html": [
       "<div>\n",
       "<style scoped>\n",
       "    .dataframe tbody tr th:only-of-type {\n",
       "        vertical-align: middle;\n",
       "    }\n",
       "\n",
       "    .dataframe tbody tr th {\n",
       "        vertical-align: top;\n",
       "    }\n",
       "\n",
       "    .dataframe thead th {\n",
       "        text-align: right;\n",
       "    }\n",
       "</style>\n",
       "<table border=\"1\" class=\"dataframe\">\n",
       "  <thead>\n",
       "    <tr style=\"text-align: right;\">\n",
       "      <th></th>\n",
       "      <th>path</th>\n",
       "      <th>article</th>\n",
       "      <th>bullets</th>\n",
       "      <th>num_words_article</th>\n",
       "      <th>num_words_bullets</th>\n",
       "    </tr>\n",
       "  </thead>\n",
       "  <tbody>\n",
       "    <tr>\n",
       "      <th>0</th>\n",
       "      <td>entertainment/289.txt</td>\n",
       "      <td>Musicians to tackle US red tape..Musicians' gr...</td>\n",
       "      <td>- British musicians are \"disadvantaged\" compar...</td>\n",
       "      <td>372</td>\n",
       "      <td>115</td>\n",
       "    </tr>\n",
       "    <tr>\n",
       "      <th>1</th>\n",
       "      <td>entertainment/262.txt</td>\n",
       "      <td>U2's desire to be number one..U2, who have won...</td>\n",
       "      <td>- U2 is determined to remain the biggest band ...</td>\n",
       "      <td>829</td>\n",
       "      <td>154</td>\n",
       "    </tr>\n",
       "    <tr>\n",
       "      <th>2</th>\n",
       "      <td>entertainment/276.txt</td>\n",
       "      <td>Rocker Doherty in on-stage fight..Rock singer ...</td>\n",
       "      <td>- Pete Doherty's band, Babyshambles, played a ...</td>\n",
       "      <td>354</td>\n",
       "      <td>83</td>\n",
       "    </tr>\n",
       "    <tr>\n",
       "      <th>3</th>\n",
       "      <td>entertainment/060.txt</td>\n",
       "      <td>Snicket tops US box office chart..The film ada...</td>\n",
       "      <td>- A Series of Unfortunate Events, starring Jim...</td>\n",
       "      <td>174</td>\n",
       "      <td>56</td>\n",
       "    </tr>\n",
       "    <tr>\n",
       "      <th>4</th>\n",
       "      <td>entertainment/074.txt</td>\n",
       "      <td>Ocean's Twelve raids box office..Ocean's Twelv...</td>\n",
       "      <td>- Ocean's Twelve, starring George Clooney, Bra...</td>\n",
       "      <td>248</td>\n",
       "      <td>95</td>\n",
       "    </tr>\n",
       "  </tbody>\n",
       "</table>\n",
       "</div>"
      ],
      "text/plain": [
       "                    path                                            article  \\\n",
       "0  entertainment/289.txt  Musicians to tackle US red tape..Musicians' gr...   \n",
       "1  entertainment/262.txt  U2's desire to be number one..U2, who have won...   \n",
       "2  entertainment/276.txt  Rocker Doherty in on-stage fight..Rock singer ...   \n",
       "3  entertainment/060.txt  Snicket tops US box office chart..The film ada...   \n",
       "4  entertainment/074.txt  Ocean's Twelve raids box office..Ocean's Twelv...   \n",
       "\n",
       "                                             bullets  num_words_article  \\\n",
       "0  - British musicians are \"disadvantaged\" compar...                372   \n",
       "1  - U2 is determined to remain the biggest band ...                829   \n",
       "2  - Pete Doherty's band, Babyshambles, played a ...                354   \n",
       "3  - A Series of Unfortunate Events, starring Jim...                174   \n",
       "4  - Ocean's Twelve, starring George Clooney, Bra...                248   \n",
       "\n",
       "   num_words_bullets  \n",
       "0                115  \n",
       "1                154  \n",
       "2                 83  \n",
       "3                 56  \n",
       "4                 95  "
      ]
     },
     "execution_count": 13,
     "metadata": {},
     "output_type": "execute_result"
    }
   ],
   "source": [
    "# creating new columns of word numbers\n",
    "\n",
    "df['num_words_article'] = df['article'].apply(word_count)\n",
    "df['num_words_bullets'] = df['bullets'].apply(word_count)\n",
    "df.head()"
   ]
  },
  {
   "cell_type": "code",
   "execution_count": 14,
   "metadata": {},
   "outputs": [
    {
     "data": {
      "text/html": [
       "<div>\n",
       "<style scoped>\n",
       "    .dataframe tbody tr th:only-of-type {\n",
       "        vertical-align: middle;\n",
       "    }\n",
       "\n",
       "    .dataframe tbody tr th {\n",
       "        vertical-align: top;\n",
       "    }\n",
       "\n",
       "    .dataframe thead th {\n",
       "        text-align: right;\n",
       "    }\n",
       "</style>\n",
       "<table border=\"1\" class=\"dataframe\">\n",
       "  <thead>\n",
       "    <tr style=\"text-align: right;\">\n",
       "      <th></th>\n",
       "      <th>num_words_article</th>\n",
       "      <th>num_words_bullets</th>\n",
       "    </tr>\n",
       "  </thead>\n",
       "  <tbody>\n",
       "    <tr>\n",
       "      <th>count</th>\n",
       "      <td>2225.000000</td>\n",
       "      <td>2225.000000</td>\n",
       "    </tr>\n",
       "    <tr>\n",
       "      <th>mean</th>\n",
       "      <td>379.314607</td>\n",
       "      <td>82.033708</td>\n",
       "    </tr>\n",
       "    <tr>\n",
       "      <th>std</th>\n",
       "      <td>235.032779</td>\n",
       "      <td>32.207388</td>\n",
       "    </tr>\n",
       "    <tr>\n",
       "      <th>min</th>\n",
       "      <td>87.000000</td>\n",
       "      <td>2.000000</td>\n",
       "    </tr>\n",
       "    <tr>\n",
       "      <th>25%</th>\n",
       "      <td>242.000000</td>\n",
       "      <td>62.000000</td>\n",
       "    </tr>\n",
       "    <tr>\n",
       "      <th>50%</th>\n",
       "      <td>327.000000</td>\n",
       "      <td>77.000000</td>\n",
       "    </tr>\n",
       "    <tr>\n",
       "      <th>75%</th>\n",
       "      <td>465.000000</td>\n",
       "      <td>97.000000</td>\n",
       "    </tr>\n",
       "    <tr>\n",
       "      <th>max</th>\n",
       "      <td>4377.000000</td>\n",
       "      <td>343.000000</td>\n",
       "    </tr>\n",
       "  </tbody>\n",
       "</table>\n",
       "</div>"
      ],
      "text/plain": [
       "       num_words_article  num_words_bullets\n",
       "count        2225.000000        2225.000000\n",
       "mean          379.314607          82.033708\n",
       "std           235.032779          32.207388\n",
       "min            87.000000           2.000000\n",
       "25%           242.000000          62.000000\n",
       "50%           327.000000          77.000000\n",
       "75%           465.000000          97.000000\n",
       "max          4377.000000         343.000000"
      ]
     },
     "execution_count": 14,
     "metadata": {},
     "output_type": "execute_result"
    }
   ],
   "source": [
    "# getting statistical info about the word lenghths\n",
    "\n",
    "df.describe()"
   ]
  },
  {
   "cell_type": "code",
   "execution_count": 15,
   "metadata": {},
   "outputs": [
    {
     "name": "stdout",
     "output_type": "stream",
     "text": [
      "Upper whisker: 799.0\n",
      "Q3: 465.0\n",
      "Q2: 327.0\n",
      "Q1: 242.0\n",
      "Lower whisker: 87.0\n"
     ]
    },
    {
     "data": {
      "image/png": "[encoded data removed]",
      "text/plain": [
       "<Figure size 640x480 with 1 Axes>"
      ]
     },
     "metadata": {},
     "output_type": "display_data"
    }
   ],
   "source": [
    "sns.boxplot(df[\"num_words_article\"])\n",
    "plt.ylabel(\"number of words\")\n",
    "plt.title(\"Boxplot of the articles number of words\")\n",
    "\n",
    "lines = plt.gca().lines[:6]\n",
    "all_lines = [lines[i].get_ydata()[0] for i in range(5)]\n",
    "\n",
    "Q1,Q3,article_lower_whisker,article_upper_whisker, Q2 = all_lines\n",
    "\n",
    "print(\"Upper whisker:\", article_upper_whisker)\n",
    "print(\"Q3:\", Q3)\n",
    "print(\"Q2:\", Q2)\n",
    "print(\"Q1:\", Q1)\n",
    "print(\"Lower whisker:\", article_lower_whisker)"
   ]
  },
  {
   "cell_type": "code",
   "execution_count": 16,
   "metadata": {},
   "outputs": [
    {
     "name": "stdout",
     "output_type": "stream",
     "text": [
      "Upper whisker: 149.0\n",
      "Q3: 97.0\n",
      "Q2: 77.0\n",
      "Q1: 62.0\n",
      "Lower whisker: 11.0\n"
     ]
    },
    {
     "data": {
      "image/png": "[encoded data removed]",
      "text/plain": [
       "<Figure size 640x480 with 1 Axes>"
      ]
     },
     "metadata": {},
     "output_type": "display_data"
    }
   ],
   "source": [
    "sns.boxplot(df[\"num_words_bullets\"])\n",
    "plt.ylabel(\"number of words\")\n",
    "plt.title(\"Boxplot of the bullets number of words\")\n",
    "\n",
    "lines = plt.gca().lines[:6]\n",
    "all_lines = [lines[i].get_ydata()[0] for i in range(5)]\n",
    "\n",
    "Q1,Q3,bullets_lower_whisker,bullets_upper_whisker, Q2 = all_lines\n",
    "\n",
    "print(\"Upper whisker:\", bullets_upper_whisker)\n",
    "print(\"Q3:\", Q3)\n",
    "print(\"Q2:\", Q2)\n",
    "print(\"Q1:\", Q1)\n",
    "print(\"Lower whisker:\", bullets_lower_whisker)"
   ]
  },
  {
   "cell_type": "code",
   "execution_count": 17,
   "metadata": {},
   "outputs": [
    {
     "data": {
      "text/html": [
       "<div>\n",
       "<style scoped>\n",
       "    .dataframe tbody tr th:only-of-type {\n",
       "        vertical-align: middle;\n",
       "    }\n",
       "\n",
       "    .dataframe tbody tr th {\n",
       "        vertical-align: top;\n",
       "    }\n",
       "\n",
       "    .dataframe thead th {\n",
       "        text-align: right;\n",
       "    }\n",
       "</style>\n",
       "<table border=\"1\" class=\"dataframe\">\n",
       "  <thead>\n",
       "    <tr style=\"text-align: right;\">\n",
       "      <th></th>\n",
       "      <th>path</th>\n",
       "      <th>article</th>\n",
       "      <th>bullets</th>\n",
       "      <th>num_words_article</th>\n",
       "      <th>num_words_bullets</th>\n",
       "    </tr>\n",
       "  </thead>\n",
       "  <tbody>\n",
       "    <tr>\n",
       "      <th>0</th>\n",
       "      <td>entertainment/289.txt</td>\n",
       "      <td>Musicians to tackle US red tape..Musicians' gr...</td>\n",
       "      <td>- British musicians are \"disadvantaged\" compar...</td>\n",
       "      <td>372</td>\n",
       "      <td>115</td>\n",
       "    </tr>\n",
       "    <tr>\n",
       "      <th>2</th>\n",
       "      <td>entertainment/276.txt</td>\n",
       "      <td>Rocker Doherty in on-stage fight..Rock singer ...</td>\n",
       "      <td>- Pete Doherty's band, Babyshambles, played a ...</td>\n",
       "      <td>354</td>\n",
       "      <td>83</td>\n",
       "    </tr>\n",
       "    <tr>\n",
       "      <th>3</th>\n",
       "      <td>entertainment/060.txt</td>\n",
       "      <td>Snicket tops US box office chart..The film ada...</td>\n",
       "      <td>- A Series of Unfortunate Events, starring Jim...</td>\n",
       "      <td>174</td>\n",
       "      <td>56</td>\n",
       "    </tr>\n",
       "    <tr>\n",
       "      <th>4</th>\n",
       "      <td>entertainment/074.txt</td>\n",
       "      <td>Ocean's Twelve raids box office..Ocean's Twelv...</td>\n",
       "      <td>- Ocean's Twelve, starring George Clooney, Bra...</td>\n",
       "      <td>248</td>\n",
       "      <td>95</td>\n",
       "    </tr>\n",
       "    <tr>\n",
       "      <th>5</th>\n",
       "      <td>entertainment/048.txt</td>\n",
       "      <td>'Landmark movies' of 2004 hailed..US film prof...</td>\n",
       "      <td>- The American Film Institute (AFI) hailed Mel...</td>\n",
       "      <td>328</td>\n",
       "      <td>91</td>\n",
       "    </tr>\n",
       "    <tr>\n",
       "      <th>...</th>\n",
       "      <td>...</td>\n",
       "      <td>...</td>\n",
       "      <td>...</td>\n",
       "      <td>...</td>\n",
       "      <td>...</td>\n",
       "    </tr>\n",
       "    <tr>\n",
       "      <th>2220</th>\n",
       "      <td>tech/086.txt</td>\n",
       "      <td>Warning over Windows Word files..Writing a Mic...</td>\n",
       "      <td>- Registering website addresses using alphabet...</td>\n",
       "      <td>456</td>\n",
       "      <td>116</td>\n",
       "    </tr>\n",
       "    <tr>\n",
       "      <th>2221</th>\n",
       "      <td>tech/253.txt</td>\n",
       "      <td>Fast lifts rise into record books..Two high-sp...</td>\n",
       "      <td>- First convictions for piracy over peer-to-pe...</td>\n",
       "      <td>379</td>\n",
       "      <td>67</td>\n",
       "    </tr>\n",
       "    <tr>\n",
       "      <th>2222</th>\n",
       "      <td>tech/247.txt</td>\n",
       "      <td>Nintendo adds media playing to DS..Nintendo is...</td>\n",
       "      <td>- Survey shows consumers concerned about RFID ...</td>\n",
       "      <td>289</td>\n",
       "      <td>59</td>\n",
       "    </tr>\n",
       "    <tr>\n",
       "      <th>2223</th>\n",
       "      <td>tech/290.txt</td>\n",
       "      <td>Fast moving phone viruses appear..Security fir...</td>\n",
       "      <td>- Motorsport Endeavour Club encourages disable...</td>\n",
       "      <td>327</td>\n",
       "      <td>64</td>\n",
       "    </tr>\n",
       "    <tr>\n",
       "      <th>2224</th>\n",
       "      <td>tech/284.txt</td>\n",
       "      <td>Hacker threat to Apple's iTunes..Users of Appl...</td>\n",
       "      <td>- Cellnet and Vodafone were the only mobile op...</td>\n",
       "      <td>160</td>\n",
       "      <td>143</td>\n",
       "    </tr>\n",
       "  </tbody>\n",
       "</table>\n",
       "<p>2068 rows × 5 columns</p>\n",
       "</div>"
      ],
      "text/plain": [
       "                       path  \\\n",
       "0     entertainment/289.txt   \n",
       "2     entertainment/276.txt   \n",
       "3     entertainment/060.txt   \n",
       "4     entertainment/074.txt   \n",
       "5     entertainment/048.txt   \n",
       "...                     ...   \n",
       "2220           tech/086.txt   \n",
       "2221           tech/253.txt   \n",
       "2222           tech/247.txt   \n",
       "2223           tech/290.txt   \n",
       "2224           tech/284.txt   \n",
       "\n",
       "                                                article  \\\n",
       "0     Musicians to tackle US red tape..Musicians' gr...   \n",
       "2     Rocker Doherty in on-stage fight..Rock singer ...   \n",
       "3     Snicket tops US box office chart..The film ada...   \n",
       "4     Ocean's Twelve raids box office..Ocean's Twelv...   \n",
       "5     'Landmark movies' of 2004 hailed..US film prof...   \n",
       "...                                                 ...   \n",
       "2220  Warning over Windows Word files..Writing a Mic...   \n",
       "2221  Fast lifts rise into record books..Two high-sp...   \n",
       "2222  Nintendo adds media playing to DS..Nintendo is...   \n",
       "2223  Fast moving phone viruses appear..Security fir...   \n",
       "2224  Hacker threat to Apple's iTunes..Users of Appl...   \n",
       "\n",
       "                                                bullets  num_words_article  \\\n",
       "0     - British musicians are \"disadvantaged\" compar...                372   \n",
       "2     - Pete Doherty's band, Babyshambles, played a ...                354   \n",
       "3     - A Series of Unfortunate Events, starring Jim...                174   \n",
       "4     - Ocean's Twelve, starring George Clooney, Bra...                248   \n",
       "5     - The American Film Institute (AFI) hailed Mel...                328   \n",
       "...                                                 ...                ...   \n",
       "2220  - Registering website addresses using alphabet...                456   \n",
       "2221  - First convictions for piracy over peer-to-pe...                379   \n",
       "2222  - Survey shows consumers concerned about RFID ...                289   \n",
       "2223  - Motorsport Endeavour Club encourages disable...                327   \n",
       "2224  - Cellnet and Vodafone were the only mobile op...                160   \n",
       "\n",
       "      num_words_bullets  \n",
       "0                   115  \n",
       "2                    83  \n",
       "3                    56  \n",
       "4                    95  \n",
       "5                    91  \n",
       "...                 ...  \n",
       "2220                116  \n",
       "2221                 67  \n",
       "2222                 59  \n",
       "2223                 64  \n",
       "2224                143  \n",
       "\n",
       "[2068 rows x 5 columns]"
      ]
     },
     "execution_count": 17,
     "metadata": {},
     "output_type": "execute_result"
    }
   ],
   "source": [
    "# removing the samples of very long sequences\n",
    "\n",
    "new_df = df[(df['num_words_bullets'] <= bullets_upper_whisker) & (df['num_words_article'] <= article_upper_whisker)]\n",
    "new_df"
   ]
  },
  {
   "cell_type": "code",
   "execution_count": 18,
   "metadata": {},
   "outputs": [
    {
     "data": {
      "text/html": [
       "<div>\n",
       "<style scoped>\n",
       "    .dataframe tbody tr th:only-of-type {\n",
       "        vertical-align: middle;\n",
       "    }\n",
       "\n",
       "    .dataframe tbody tr th {\n",
       "        vertical-align: top;\n",
       "    }\n",
       "\n",
       "    .dataframe thead th {\n",
       "        text-align: right;\n",
       "    }\n",
       "</style>\n",
       "<table border=\"1\" class=\"dataframe\">\n",
       "  <thead>\n",
       "    <tr style=\"text-align: right;\">\n",
       "      <th></th>\n",
       "      <th>path</th>\n",
       "      <th>article</th>\n",
       "      <th>bullets</th>\n",
       "      <th>num_words_article</th>\n",
       "      <th>num_words_bullets</th>\n",
       "    </tr>\n",
       "  </thead>\n",
       "  <tbody>\n",
       "    <tr>\n",
       "      <th>0</th>\n",
       "      <td>sport/431.txt</td>\n",
       "      <td>Parmar ruled out of Davis Cup tie..A knee inju...</td>\n",
       "      <td>- Dent will face Juan Ignacio Chela next.- Joh...</td>\n",
       "      <td>273</td>\n",
       "      <td>61</td>\n",
       "    </tr>\n",
       "    <tr>\n",
       "      <th>1</th>\n",
       "      <td>sport/141.txt</td>\n",
       "      <td>Benitez issues warning to Gerrard..Liverpool m...</td>\n",
       "      <td>- Arjen Robben has broken two metatarsal bones...</td>\n",
       "      <td>155</td>\n",
       "      <td>63</td>\n",
       "    </tr>\n",
       "    <tr>\n",
       "      <th>2</th>\n",
       "      <td>tech/180.txt</td>\n",
       "      <td>US blogger fired by her airline..A US airline ...</td>\n",
       "      <td>- Consumers are concerned about the use of RFI...</td>\n",
       "      <td>555</td>\n",
       "      <td>111</td>\n",
       "    </tr>\n",
       "    <tr>\n",
       "      <th>3</th>\n",
       "      <td>tech/064.txt</td>\n",
       "      <td>Looks and music to drive mobiles..Mobile phone...</td>\n",
       "      <td>- Microsoft has warned PC users to update thei...</td>\n",
       "      <td>653</td>\n",
       "      <td>60</td>\n",
       "    </tr>\n",
       "    <tr>\n",
       "      <th>4</th>\n",
       "      <td>business/411.txt</td>\n",
       "      <td>Tsunami cost hits Jakarta shares..The stock ma...</td>\n",
       "      <td>- Indonesia doubled its estimate of rebuilding...</td>\n",
       "      <td>254</td>\n",
       "      <td>87</td>\n",
       "    </tr>\n",
       "    <tr>\n",
       "      <th>...</th>\n",
       "      <td>...</td>\n",
       "      <td>...</td>\n",
       "      <td>...</td>\n",
       "      <td>...</td>\n",
       "      <td>...</td>\n",
       "    </tr>\n",
       "    <tr>\n",
       "      <th>57</th>\n",
       "      <td>sport/208.txt</td>\n",
       "      <td>Souness backs Smith for Scotland..Graeme Soune...</td>\n",
       "      <td>- Spain's victory was also remarkable for the ...</td>\n",
       "      <td>419</td>\n",
       "      <td>92</td>\n",
       "    </tr>\n",
       "    <tr>\n",
       "      <th>58</th>\n",
       "      <td>entertainment/172.txt</td>\n",
       "      <td>Eurovision 'greats' to do battle..Stars of the...</td>\n",
       "      <td>- US rapper Snoop Dogg has been sued for $25m ...</td>\n",
       "      <td>226</td>\n",
       "      <td>73</td>\n",
       "    </tr>\n",
       "    <tr>\n",
       "      <th>59</th>\n",
       "      <td>tech/142.txt</td>\n",
       "      <td>Text messages aid disaster recovery..Text mess...</td>\n",
       "      <td>- The European Commission will not re-draft th...</td>\n",
       "      <td>799</td>\n",
       "      <td>72</td>\n",
       "    </tr>\n",
       "    <tr>\n",
       "      <th>60</th>\n",
       "      <td>business/220.txt</td>\n",
       "      <td>Standard Life concern at LSE bid..Standard Lif...</td>\n",
       "      <td>- Mr. Ebbers is on trial for fraud and conspir...</td>\n",
       "      <td>318</td>\n",
       "      <td>90</td>\n",
       "    </tr>\n",
       "    <tr>\n",
       "      <th>61</th>\n",
       "      <td>politics/017.txt</td>\n",
       "      <td>Tsunami debt deal to be announced..Chancellor ...</td>\n",
       "      <td>- The Liberal Democrats want to do away with t...</td>\n",
       "      <td>167</td>\n",
       "      <td>85</td>\n",
       "    </tr>\n",
       "  </tbody>\n",
       "</table>\n",
       "<p>62 rows × 5 columns</p>\n",
       "</div>"
      ],
      "text/plain": [
       "                     path                                            article  \\\n",
       "0           sport/431.txt  Parmar ruled out of Davis Cup tie..A knee inju...   \n",
       "1           sport/141.txt  Benitez issues warning to Gerrard..Liverpool m...   \n",
       "2            tech/180.txt  US blogger fired by her airline..A US airline ...   \n",
       "3            tech/064.txt  Looks and music to drive mobiles..Mobile phone...   \n",
       "4        business/411.txt  Tsunami cost hits Jakarta shares..The stock ma...   \n",
       "..                    ...                                                ...   \n",
       "57          sport/208.txt  Souness backs Smith for Scotland..Graeme Soune...   \n",
       "58  entertainment/172.txt  Eurovision 'greats' to do battle..Stars of the...   \n",
       "59           tech/142.txt  Text messages aid disaster recovery..Text mess...   \n",
       "60       business/220.txt  Standard Life concern at LSE bid..Standard Lif...   \n",
       "61       politics/017.txt  Tsunami debt deal to be announced..Chancellor ...   \n",
       "\n",
       "                                              bullets  num_words_article  \\\n",
       "0   - Dent will face Juan Ignacio Chela next.- Joh...                273   \n",
       "1   - Arjen Robben has broken two metatarsal bones...                155   \n",
       "2   - Consumers are concerned about the use of RFI...                555   \n",
       "3   - Microsoft has warned PC users to update thei...                653   \n",
       "4   - Indonesia doubled its estimate of rebuilding...                254   \n",
       "..                                                ...                ...   \n",
       "57  - Spain's victory was also remarkable for the ...                419   \n",
       "58  - US rapper Snoop Dogg has been sued for $25m ...                226   \n",
       "59  - The European Commission will not re-draft th...                799   \n",
       "60  - Mr. Ebbers is on trial for fraud and conspir...                318   \n",
       "61  - The Liberal Democrats want to do away with t...                167   \n",
       "\n",
       "    num_words_bullets  \n",
       "0                  61  \n",
       "1                  63  \n",
       "2                 111  \n",
       "3                  60  \n",
       "4                  87  \n",
       "..                ...  \n",
       "57                 92  \n",
       "58                 73  \n",
       "59                 72  \n",
       "60                 90  \n",
       "61                 85  \n",
       "\n",
       "[62 rows x 5 columns]"
      ]
     },
     "execution_count": 18,
     "metadata": {},
     "output_type": "execute_result"
    }
   ],
   "source": [
    "# preparing the data by training 0.03% of the dataset\n",
    "\n",
    "# deleting some columns and shuffling the rows\n",
    "\n",
    "# TODO - not sure if this is working with the drop as expected\n",
    "\n",
    "new_df.drop(columns=[\"num_words_article\",\"num_words_bullets\",\"path\"])\n",
    "new_df = new_df.sample(frac = 0.03)\n",
    "new_df.reset_index(drop=True, inplace=False)"
   ]
  },
  {
   "cell_type": "code",
   "execution_count": 19,
   "metadata": {},
   "outputs": [],
   "source": [
    "# splitting the data into train and test\n",
    "\n",
    "ratio = 0.8\n",
    "split = int(len(new_df)*ratio)\n",
    "\n",
    "train_df = new_df.iloc[:split]\n",
    "test_df = new_df.iloc[split:]"
   ]
  },
  {
   "cell_type": "code",
   "execution_count": 20,
   "metadata": {},
   "outputs": [
    {
     "data": {
      "text/plain": [
       "DatasetDict({\n",
       "    train: Dataset({\n",
       "        features: ['path', 'article', 'bullets', 'num_words_article', 'num_words_bullets'],\n",
       "        num_rows: 49\n",
       "    })\n",
       "    test: Dataset({\n",
       "        features: ['path', 'article', 'bullets', 'num_words_article', 'num_words_bullets'],\n",
       "        num_rows: 13\n",
       "    })\n",
       "})"
      ]
     },
     "execution_count": 20,
     "metadata": {},
     "output_type": "execute_result"
    }
   ],
   "source": [
    "# convert the DataFrame into DatasetDict\n",
    "\n",
    "train_dataset = Dataset.from_dict(train_df)\n",
    "test_dataset = Dataset.from_dict(test_df)\n",
    "dataset = datasets.DatasetDict({\"train\":train_dataset,\"test\":test_dataset})\n",
    "dataset"
   ]
  },
  {
   "cell_type": "code",
   "execution_count": 21,
   "metadata": {},
   "outputs": [],
   "source": [
    "max_input_length = int(article_upper_whisker)\n",
    "max_target_length = int(bullets_upper_whisker)\n",
    "\n",
    "def preprocess_function(examples):\n",
    "    model_inputs = tokenizer(\n",
    "        examples[\"article\"],\n",
    "        max_length=max_input_length,\n",
    "        truncation=True,\n",
    "    )\n",
    "    labels = tokenizer(\n",
    "        examples[\"bullets\"], max_length=max_target_length, truncation=True\n",
    "    )\n",
    "    model_inputs[\"labels\"] = labels[\"input_ids\"]\n",
    "    return model_inputs"
   ]
  },
  {
   "cell_type": "code",
   "execution_count": 22,
   "metadata": {},
   "outputs": [
    {
     "name": "stderr",
     "output_type": "stream",
     "text": [
      "Map: 100%|██████████| 49/49 [00:00<00:00, 1294.21 examples/s]\n",
      "Map: 100%|██████████| 13/13 [00:00<00:00, 1680.00 examples/s]\n"
     ]
    }
   ],
   "source": [
    "# initialize tokenizer\n",
    "tokenizer = AutoTokenizer.from_pretrained(model_ckpt)\n",
    "\n",
    "# define max input lengths\n",
    "max_input_length = int(article_upper_whisker)\n",
    "max_target_length = int(bullets_upper_whisker)\n",
    "\n",
    "tokenized_datasets = dataset.map(preprocess_function, batched=True)"
   ]
  },
  {
   "cell_type": "code",
   "execution_count": 23,
   "metadata": {},
   "outputs": [],
   "source": [
    "# ROUGE metric for automatic summarization and machine translation software in Natural Language Processing\n",
    "\n",
    "rouge_score = evaluate.load(\"rouge\")"
   ]
  },
  {
   "cell_type": "code",
   "execution_count": 24,
   "metadata": {},
   "outputs": [
    {
     "data": {
      "text/plain": [
       "{'rouge1': np.float64(0.923076923076923),\n",
       " 'rouge2': np.float64(0.7272727272727272),\n",
       " 'rougeL': np.float64(0.923076923076923),\n",
       " 'rougeLsum': np.float64(0.923076923076923)}"
      ]
     },
     "execution_count": 24,
     "metadata": {},
     "output_type": "execute_result"
    }
   ],
   "source": [
    "# example on using rouge\n",
    "\n",
    "generated_bullets = \"I absolutely loved reading the Hunger Games\"\n",
    "reference_bullets = \"I loved reading the Hunger Games\"\n",
    "scores = rouge_score.compute(predictions=[generated_bullets], references=[reference_bullets])\n",
    "scores"
   ]
  },
  {
   "cell_type": "code",
   "execution_count": 25,
   "metadata": {},
   "outputs": [],
   "source": [
    "def compute_metrics(eval_pred):\n",
    "    predictions, labels = eval_pred\n",
    "\n",
    "    # Decode generated bullets into text\n",
    "    decoded_preds = tokenizer.batch_decode(predictions, skip_special_tokens=True)\n",
    "\n",
    "    # Replace -100 in the labels as we can't decode them\n",
    "    labels = np.where(labels != -100, labels, tokenizer.pad_token_id)\n",
    "\n",
    "    # Decode reference bullets into text\n",
    "    decoded_labels = tokenizer.batch_decode(labels, skip_special_tokens=True)\n",
    "\n",
    "    # ROUGE expects a newline after each sentence\n",
    "    decoded_preds = [\"\\n\".join(sent_tokenize(pred.strip())) for pred in decoded_preds]\n",
    "    decoded_labels = [\"\\n\".join(sent_tokenize(label.strip())) for label in decoded_labels]\n",
    "\n",
    "    # Compute ROUGE scores\n",
    "    result = rouge_score.compute(predictions=decoded_preds, references=decoded_labels, use_stemmer=True)\n",
    "\n",
    "    return {k: round(v, 4) for k, v in result.items()}"
   ]
  },
  {
   "cell_type": "code",
   "execution_count": 26,
   "metadata": {},
   "outputs": [
    {
     "name": "stderr",
     "output_type": "stream",
     "text": [
      "Device set to use mps:0\n"
     ]
    },
    {
     "name": "stdout",
     "output_type": "stream",
     "text": [
      "'>>> Article: UK Athletics agrees new kit deal..UK Athletics has agreed a new deal with adidas to supply Great Britain squads of all ages with their kit for the next four years...The German-based firm kitted out Team GB at the 2004 Olympics and has deals with 20 other national Olympic bodies. UK Athletics chief David Moorcroft said: \"The Athens experience can now be extended to more major championships. \"In the year ahead these include the European indoor and World outdoor championships. We are delighted.\" Moorcroft added: \"It is hugely beneficial to the sport that the adidas commitment will also provide for officials and other personnel at our world-class series of live televised events.\" This week, UK Athletics also agreed a four-year deal with energy drink company, Red Bull, who will be supplying the product to athletics at major domestic meetings and in high performance centres.'\n",
      "\n",
      "'>>> Bullets: - Ruddock says the players will benefit from the rest, and their absence will give youngsters a chance to impress..- Ruddock, though, is keen to protect his players from injury and fatigue..- The majority of Ireland and Scotland players have also been released for provincial duty..- Ruddock believes they would benefit from a game with the Dragons..- The supporters want to see the star players performing on the pitch.'\n",
      "\n",
      "'>>> Generated Bullets: UK Athletics agrees new kit deal..UK Athletics has agreed a new deal with adidas to supply Great Britain squads of all ages with their kit for the next four years...The German-based firm kitted out Team GB at the 2004 Olympics and has deals with 20 other national Olympic bodies. UK Athletics chief David Moorcroft said: \"The Athens experience can now be extended to more major championships. \"In the year ahead these include the European indoor and World outdoor championships. We are delighted.\" Moorcroft added: \"It is hugely beneficial to the sport that the adidas commitment will also provide for officials and other personnel at our'\n",
      "\n",
      "'>>> ROUGE Score: {'rouge1': np.float64(0.2386), 'rouge2': np.float64(0.0), 'rougeL': np.float64(0.1136), 'rougeLsum': np.float64(0.1136)}'\n"
     ]
    }
   ],
   "source": [
    "# generate summaries\n",
    "summarizer = pipeline(\"summarization\", model=model_ckpt)\n",
    "\n",
    "def print_bullets(idx):\n",
    "    article = dataset[\"test\"][idx][\"article\"]\n",
    "    bullets = dataset[\"test\"][idx][\"bullets\"]\n",
    "    g_bullets = summarizer(dataset[\"test\"][idx][\"article\"])[0][\"summary_text\"]\n",
    "    score = rouge_score.compute(predictions=[g_bullets], references=[bullets])\n",
    "    scores = {k: round(v, 4) for k, v in score.items()}\n",
    "    print(f\"'>>> Article: {article}'\")\n",
    "    print(f\"\\n'>>> Bullets: {bullets}'\")\n",
    "    print(f\"\\n'>>> Generated Bullets: {g_bullets}'\")\n",
    "    print(f\"\\n'>>> ROUGE Score: {scores}'\")\n",
    "\n",
    "\n",
    "print_bullets(5)"
   ]
  },
  {
   "cell_type": "code",
   "execution_count": 27,
   "metadata": {},
   "outputs": [],
   "source": [
    "# fine tuning BART model\n",
    "\n",
    "# creating data_collator\n",
    "# A data_collator is a function that takes a batch of data and collates it into a format suitable for model training\n",
    "\n",
    "data_collator = DataCollatorForSeq2Seq(tokenizer, model=model)"
   ]
  },
  {
   "cell_type": "code",
   "execution_count": 28,
   "metadata": {},
   "outputs": [],
   "source": [
    "# removing the columns with strings because the collator won’t know how to pad these elements\n",
    "\n",
    "tokenized_datasets = tokenized_datasets.remove_columns(dataset[\"train\"].column_names)"
   ]
  },
  {
   "cell_type": "code",
   "execution_count": 29,
   "metadata": {},
   "outputs": [],
   "source": [
    "batch_size = 8\n",
    "num_train_epochs = 8\n",
    "# Show the training loss with every epoch\n",
    "logging_steps = len(tokenized_datasets[\"train\"]) // batch_size\n",
    "model_name = model_ckpt\n",
    "\n",
    "\n",
    "args = Seq2SeqTrainingArguments(\n",
    "    output_dir=f\"{model_name}-finetuned-BBC\",\n",
    "    evaluation_strategy=\"epoch\",\n",
    "    learning_rate=5.6e-5,\n",
    "    per_device_train_batch_size=batch_size,\n",
    "    per_device_eval_batch_size=batch_size,\n",
    "    weight_decay=0.01,\n",
    "    save_total_limit=3,\n",
    "    num_train_epochs=num_train_epochs,\n",
    "    predict_with_generate=True,\n",
    "    logging_steps=logging_steps,\n",
    "    push_to_hub=True,\n",
    "    run_name=\"text_summmarizer_bullets\",\n",
    "    report_to=\"wandb\", # ensures WandB logging is enabled\n",
    "    hub_token=huggingface_token,\n",
    "    )"
   ]
  },
  {
   "cell_type": "code",
   "execution_count": 30,
   "metadata": {},
   "outputs": [],
   "source": [
    "trainer = Seq2SeqTrainer(\n",
    "    model,\n",
    "    args,\n",
    "    train_dataset=tokenized_datasets[\"train\"],\n",
    "    eval_dataset=tokenized_datasets[\"test\"],\n",
    "    data_collator=data_collator,\n",
    "    tokenizer=tokenizer,\n",
    "    compute_metrics=compute_metrics,)"
   ]
  },
  {
   "cell_type": "code",
   "execution_count": null,
   "metadata": {},
   "outputs": [
    {
     "data": {
      "text/html": [
       "\n",
       "    <div>\n",
       "      \n",
       "      <progress value='7' max='56' style='width:300px; height:20px; vertical-align: middle;'></progress>\n",
       "      [ 7/56 00:16 < 02:42, 0.30 it/s, Epoch 0.86/8]\n",
       "    </div>\n",
       "    <table border=\"1\" class=\"dataframe\">\n",
       "  <thead>\n",
       " <tr style=\"text-align: left;\">\n",
       "      <th>Epoch</th>\n",
       "      <th>Training Loss</th>\n",
       "      <th>Validation Loss</th>\n",
       "    </tr>\n",
       "  </thead>\n",
       "  <tbody>\n",
       "  </tbody>\n",
       "</table><p>"
      ],
      "text/plain": [
       "<IPython.core.display.HTML object>"
      ]
     },
     "metadata": {},
     "output_type": "display_data"
    }
   ],
   "source": [
    "trainer.train()"
   ]
  },
  {
   "cell_type": "code",
   "execution_count": 36,
   "metadata": {},
   "outputs": [
    {
     "name": "stdout",
     "output_type": "stream",
     "text": [
      "Summary in Bullet Points: \n",
      "- The Amazon rainforest is often referred to as the \"lungs of the Earth\" because of its critical role in producing oxygen and absorbing carbon dioxide.\n",
      "- It spans across several countries in South America, including Brazil, Peru, and Colombia, and is home to an incredibly diverse array of wildlife, plants, and indigenous cultures.\n",
      "- Unfortunately, the Amazon is facing significant threats due to deforestation, illegal logging, mining, and agricultural expansion.\n",
      "- These activities are rapidly destroying large portions of the rainforest, which not only contributes to the loss of biodiversity but also accelerates climate change by releasing stored carbon into the atmosphere.\n"
     ]
    }
   ],
   "source": [
    "input_text = \"\"\"\n",
    "The Amazon rainforest is often referred to as the \"lungs of the Earth\" because of its critical role in producing oxygen and absorbing carbon dioxide. It spans across several countries in South America, including Brazil, Peru, and Colombia, and is home to an incredibly diverse array of wildlife, plants, and indigenous cultures. Unfortunately, the Amazon is facing significant threats due to deforestation, illegal logging, mining, and agricultural expansion. These activities are rapidly destroying large portions of the rainforest, which not only contributes to the loss of biodiversity but also accelerates climate change by releasing stored carbon into the atmosphere.\n",
    "\n",
    "In recent years, global efforts to protect the Amazon have intensified, with governments, NGOs, and international organizations working together to implement conservation strategies and policies. One such initiative is the creation of protected areas and indigenous territories that restrict harmful activities. However, enforcement of these measures remains a challenge, particularly in remote regions where illegal activities are rampant.\n",
    "\n",
    "Another important issue is the role of indigenous peoples in protecting the forest. Many indigenous communities have lived in the Amazon for centuries and possess a deep understanding of the ecosystem. These communities are often the first line of defense against environmental destruction and have been leading efforts to preserve their land and culture. Yet, they face increasing threats from outside forces seeking to exploit the land for economic gain.\n",
    "\n",
    "Climate change is exacerbating the situation, with rising temperatures and altered rainfall patterns putting additional pressure on the Amazon. Scientists have warned that if current trends continue, the rainforest could reach a tipping point where it can no longer function as a carbon sink, further accelerating global warming. Given its global significance, the fate of the Amazon is a pressing issue that requires urgent and coordinated action on a global scale.\n",
    "\"\"\"\n",
    "\n",
    "# Tokenize input text\n",
    "inputs = tokenizer(input_text, return_tensors=\"pt\", max_length=2048, truncation=True).to(device)\n",
    "\n",
    "# Generate summary\n",
    "summary_ids = model.generate(\n",
    "    inputs['input_ids'],\n",
    "    num_beams=8,\n",
    "    max_length=200,\n",
    "    min_length=100,\n",
    "    early_stopping=True,\n",
    "    temperature=0.8\n",
    ")\n",
    "\n",
    "# Decode the summary\n",
    "bullets = tokenizer.decode(summary_ids[0], skip_special_tokens=True)\n",
    "\n",
    "print(bullets)\n",
    "\n",
    "# # Post-process to format the summary in bullet points\n",
    "# # Split the summary into sentences by splitting on '.'\n",
    "# sentences = bullets.split(\".\")\n",
    "\n",
    "# # Remove any extra spaces, empty sentences, or non-english characters\n",
    "# sentences = [\"\\n- \" + sentence.strip() + \".\" for sentence in sentences if sentence.encode('ascii', errors='ignore').decode().strip()]\n",
    "\n",
    "# # Join sentences with bullet points\n",
    "# # formatted_summary = \"\".join(sentences)\n",
    "# formatted_summary = \"\"\n",
    "# for sen in sentences:\n",
    "#     formatted_summary = formatted_summary + sen\n",
    "\n",
    "# # Print the formatted summary\n",
    "# print(\"Summary in Bullet Points:\", formatted_summary)"
   ]
  },
  {
   "cell_type": "code",
   "execution_count": null,
   "metadata": {},
   "outputs": [],
   "source": [
    "import fitz\n",
    "\n",
    "def extract_text_from_pdf(pdf_path):\n",
    "    doc = fitz.open(pdf_path)\n",
    "    text = \"\\n\".join(page.get_text() for page in doc)\n",
    "    return text"
   ]
  }
 ],
 "metadata": {
  "kernelspec": {
   "display_name": ".venv",
   "language": "python",
   "name": "python3"
  },
  "language_info": {
   "codemirror_mode": {
    "name": "ipython",
    "version": 3
   },
   "file_extension": ".py",
   "mimetype": "text/x-python",
   "name": "python",
   "nbconvert_exporter": "python",
   "pygments_lexer": "ipython3",
   "version": "3.12.7"
  }
 },
 "nbformat": 4,
 "nbformat_minor": 2
}
