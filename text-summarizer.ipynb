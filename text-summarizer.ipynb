{
 "cells": [
  {
   "cell_type": "markdown",
   "metadata": {},
   "source": [
    "# AI Text Summarizer"
   ]
  },
  {
   "cell_type": "markdown",
   "metadata": {},
   "source": [
    "### Import Requirements"
   ]
  },
  {
   "cell_type": "code",
   "execution_count": null,
   "metadata": {},
   "outputs": [
    {
     "name": "stdout",
     "output_type": "stream",
     "text": [
      "Requirement already satisfied: rouge_score in /Users/bernicelau/.pyenv/versions/anaconda3-2023.03/lib/python3.10/site-packages (0.1.2)\n",
      "Requirement already satisfied: nltk in /Users/bernicelau/.pyenv/versions/anaconda3-2023.03/lib/python3.10/site-packages (from rouge_score) (3.7)\n",
      "Requirement already satisfied: numpy in /Users/bernicelau/.pyenv/versions/anaconda3-2023.03/lib/python3.10/site-packages (from rouge_score) (1.23.5)\n",
      "Requirement already satisfied: absl-py in /Users/bernicelau/.pyenv/versions/anaconda3-2023.03/lib/python3.10/site-packages (from rouge_score) (2.1.0)\n",
      "Requirement already satisfied: six>=1.14.0 in /Users/bernicelau/.pyenv/versions/anaconda3-2023.03/lib/python3.10/site-packages (from rouge_score) (1.16.0)\n",
      "Requirement already satisfied: joblib in /Users/bernicelau/.pyenv/versions/anaconda3-2023.03/lib/python3.10/site-packages (from nltk->rouge_score) (1.1.1)\n",
      "Requirement already satisfied: regex>=2021.8.3 in /Users/bernicelau/.pyenv/versions/anaconda3-2023.03/lib/python3.10/site-packages (from nltk->rouge_score) (2022.7.9)\n",
      "Requirement already satisfied: tqdm in /Users/bernicelau/.pyenv/versions/anaconda3-2023.03/lib/python3.10/site-packages (from nltk->rouge_score) (4.67.1)\n",
      "Requirement already satisfied: click in /Users/bernicelau/.pyenv/versions/anaconda3-2023.03/lib/python3.10/site-packages (from nltk->rouge_score) (8.1.7)\n",
      "Requirement already satisfied: evaluate in /Users/bernicelau/.pyenv/versions/anaconda3-2023.03/lib/python3.10/site-packages (0.4.3)\n",
      "Requirement already satisfied: requests>=2.19.0 in /Users/bernicelau/.pyenv/versions/anaconda3-2023.03/lib/python3.10/site-packages (from evaluate) (2.32.3)\n",
      "Requirement already satisfied: numpy>=1.17 in /Users/bernicelau/.pyenv/versions/anaconda3-2023.03/lib/python3.10/site-packages (from evaluate) (1.23.5)\n",
      "Requirement already satisfied: multiprocess in /Users/bernicelau/.pyenv/versions/anaconda3-2023.03/lib/python3.10/site-packages (from evaluate) (0.70.16)\n",
      "Requirement already satisfied: packaging in /Users/bernicelau/.pyenv/versions/anaconda3-2023.03/lib/python3.10/site-packages (from evaluate) (22.0)\n",
      "Requirement already satisfied: datasets>=2.0.0 in /Users/bernicelau/.pyenv/versions/anaconda3-2023.03/lib/python3.10/site-packages (from evaluate) (3.2.0)\n",
      "Requirement already satisfied: pandas in /Users/bernicelau/.pyenv/versions/anaconda3-2023.03/lib/python3.10/site-packages (from evaluate) (1.5.3)\n",
      "Requirement already satisfied: tqdm>=4.62.1 in /Users/bernicelau/.pyenv/versions/anaconda3-2023.03/lib/python3.10/site-packages (from evaluate) (4.67.1)\n",
      "Requirement already satisfied: huggingface-hub>=0.7.0 in /Users/bernicelau/.pyenv/versions/anaconda3-2023.03/lib/python3.10/site-packages (from evaluate) (0.28.1)\n",
      "Requirement already satisfied: xxhash in /Users/bernicelau/.pyenv/versions/anaconda3-2023.03/lib/python3.10/site-packages (from evaluate) (3.5.0)\n",
      "Requirement already satisfied: dill in /Users/bernicelau/.pyenv/versions/anaconda3-2023.03/lib/python3.10/site-packages (from evaluate) (0.3.8)\n",
      "Requirement already satisfied: fsspec[http]>=2021.05.0 in /Users/bernicelau/.pyenv/versions/anaconda3-2023.03/lib/python3.10/site-packages (from evaluate) (2024.9.0)\n",
      "Requirement already satisfied: pyarrow>=15.0.0 in /Users/bernicelau/.pyenv/versions/anaconda3-2023.03/lib/python3.10/site-packages (from datasets>=2.0.0->evaluate) (17.0.0)\n",
      "Requirement already satisfied: pyyaml>=5.1 in /Users/bernicelau/.pyenv/versions/anaconda3-2023.03/lib/python3.10/site-packages (from datasets>=2.0.0->evaluate) (6.0)\n",
      "Requirement already satisfied: filelock in /Users/bernicelau/.pyenv/versions/anaconda3-2023.03/lib/python3.10/site-packages (from datasets>=2.0.0->evaluate) (3.9.0)\n",
      "Requirement already satisfied: aiohttp in /Users/bernicelau/.pyenv/versions/anaconda3-2023.03/lib/python3.10/site-packages (from datasets>=2.0.0->evaluate) (3.11.11)\n",
      "Requirement already satisfied: typing-extensions>=3.7.4.3 in /Users/bernicelau/.pyenv/versions/anaconda3-2023.03/lib/python3.10/site-packages (from huggingface-hub>=0.7.0->evaluate) (4.12.2)\n",
      "Requirement already satisfied: idna<4,>=2.5 in /Users/bernicelau/.pyenv/versions/anaconda3-2023.03/lib/python3.10/site-packages (from requests>=2.19.0->evaluate) (3.4)\n",
      "Requirement already satisfied: charset-normalizer<4,>=2 in /Users/bernicelau/.pyenv/versions/anaconda3-2023.03/lib/python3.10/site-packages (from requests>=2.19.0->evaluate) (2.0.4)\n",
      "Requirement already satisfied: urllib3<3,>=1.21.1 in /Users/bernicelau/.pyenv/versions/anaconda3-2023.03/lib/python3.10/site-packages (from requests>=2.19.0->evaluate) (1.26.14)\n",
      "Requirement already satisfied: certifi>=2017.4.17 in /Users/bernicelau/.pyenv/versions/anaconda3-2023.03/lib/python3.10/site-packages (from requests>=2.19.0->evaluate) (2022.12.7)\n",
      "Requirement already satisfied: python-dateutil>=2.8.1 in /Users/bernicelau/.pyenv/versions/anaconda3-2023.03/lib/python3.10/site-packages (from pandas->evaluate) (2.8.2)\n",
      "Requirement already satisfied: pytz>=2020.1 in /Users/bernicelau/.pyenv/versions/anaconda3-2023.03/lib/python3.10/site-packages (from pandas->evaluate) (2022.7)\n",
      "Requirement already satisfied: async-timeout<6.0,>=4.0 in /Users/bernicelau/.pyenv/versions/anaconda3-2023.03/lib/python3.10/site-packages (from aiohttp->datasets>=2.0.0->evaluate) (5.0.1)\n",
      "Requirement already satisfied: propcache>=0.2.0 in /Users/bernicelau/.pyenv/versions/anaconda3-2023.03/lib/python3.10/site-packages (from aiohttp->datasets>=2.0.0->evaluate) (0.2.1)\n",
      "Requirement already satisfied: yarl<2.0,>=1.17.0 in /Users/bernicelau/.pyenv/versions/anaconda3-2023.03/lib/python3.10/site-packages (from aiohttp->datasets>=2.0.0->evaluate) (1.18.3)\n",
      "Requirement already satisfied: frozenlist>=1.1.1 in /Users/bernicelau/.pyenv/versions/anaconda3-2023.03/lib/python3.10/site-packages (from aiohttp->datasets>=2.0.0->evaluate) (1.5.0)\n",
      "Requirement already satisfied: aiosignal>=1.1.2 in /Users/bernicelau/.pyenv/versions/anaconda3-2023.03/lib/python3.10/site-packages (from aiohttp->datasets>=2.0.0->evaluate) (1.3.2)\n",
      "Requirement already satisfied: multidict<7.0,>=4.5 in /Users/bernicelau/.pyenv/versions/anaconda3-2023.03/lib/python3.10/site-packages (from aiohttp->datasets>=2.0.0->evaluate) (6.1.0)\n",
      "Requirement already satisfied: attrs>=17.3.0 in /Users/bernicelau/.pyenv/versions/anaconda3-2023.03/lib/python3.10/site-packages (from aiohttp->datasets>=2.0.0->evaluate) (22.1.0)\n",
      "Requirement already satisfied: aiohappyeyeballs>=2.3.0 in /Users/bernicelau/.pyenv/versions/anaconda3-2023.03/lib/python3.10/site-packages (from aiohttp->datasets>=2.0.0->evaluate) (2.4.4)\n",
      "Requirement already satisfied: six>=1.5 in /Users/bernicelau/.pyenv/versions/anaconda3-2023.03/lib/python3.10/site-packages (from python-dateutil>=2.8.1->pandas->evaluate) (1.16.0)\n",
      "Requirement already satisfied: datasets in /Users/bernicelau/.pyenv/versions/anaconda3-2023.03/lib/python3.10/site-packages (3.2.0)\n",
      "Requirement already satisfied: requests>=2.32.2 in /Users/bernicelau/.pyenv/versions/anaconda3-2023.03/lib/python3.10/site-packages (from datasets) (2.32.3)\n",
      "Requirement already satisfied: tqdm>=4.66.3 in /Users/bernicelau/.pyenv/versions/anaconda3-2023.03/lib/python3.10/site-packages (from datasets) (4.67.1)\n",
      "Requirement already satisfied: pandas in /Users/bernicelau/.pyenv/versions/anaconda3-2023.03/lib/python3.10/site-packages (from datasets) (1.5.3)\n",
      "Requirement already satisfied: xxhash in /Users/bernicelau/.pyenv/versions/anaconda3-2023.03/lib/python3.10/site-packages (from datasets) (3.5.0)\n",
      "Requirement already satisfied: pyarrow>=15.0.0 in /Users/bernicelau/.pyenv/versions/anaconda3-2023.03/lib/python3.10/site-packages (from datasets) (17.0.0)\n",
      "Requirement already satisfied: numpy>=1.17 in /Users/bernicelau/.pyenv/versions/anaconda3-2023.03/lib/python3.10/site-packages (from datasets) (1.23.5)\n",
      "Requirement already satisfied: fsspec[http]<=2024.9.0,>=2023.1.0 in /Users/bernicelau/.pyenv/versions/anaconda3-2023.03/lib/python3.10/site-packages (from datasets) (2024.9.0)\n",
      "Requirement already satisfied: multiprocess<0.70.17 in /Users/bernicelau/.pyenv/versions/anaconda3-2023.03/lib/python3.10/site-packages (from datasets) (0.70.16)\n",
      "Requirement already satisfied: aiohttp in /Users/bernicelau/.pyenv/versions/anaconda3-2023.03/lib/python3.10/site-packages (from datasets) (3.11.11)\n",
      "Requirement already satisfied: huggingface-hub>=0.23.0 in /Users/bernicelau/.pyenv/versions/anaconda3-2023.03/lib/python3.10/site-packages (from datasets) (0.28.1)\n",
      "Requirement already satisfied: filelock in /Users/bernicelau/.pyenv/versions/anaconda3-2023.03/lib/python3.10/site-packages (from datasets) (3.9.0)\n",
      "Requirement already satisfied: dill<0.3.9,>=0.3.0 in /Users/bernicelau/.pyenv/versions/anaconda3-2023.03/lib/python3.10/site-packages (from datasets) (0.3.8)\n",
      "Requirement already satisfied: packaging in /Users/bernicelau/.pyenv/versions/anaconda3-2023.03/lib/python3.10/site-packages (from datasets) (22.0)\n",
      "Requirement already satisfied: pyyaml>=5.1 in /Users/bernicelau/.pyenv/versions/anaconda3-2023.03/lib/python3.10/site-packages (from datasets) (6.0)\n",
      "Requirement already satisfied: attrs>=17.3.0 in /Users/bernicelau/.pyenv/versions/anaconda3-2023.03/lib/python3.10/site-packages (from aiohttp->datasets) (22.1.0)\n",
      "Requirement already satisfied: multidict<7.0,>=4.5 in /Users/bernicelau/.pyenv/versions/anaconda3-2023.03/lib/python3.10/site-packages (from aiohttp->datasets) (6.1.0)\n",
      "Requirement already satisfied: aiosignal>=1.1.2 in /Users/bernicelau/.pyenv/versions/anaconda3-2023.03/lib/python3.10/site-packages (from aiohttp->datasets) (1.3.2)\n",
      "Requirement already satisfied: aiohappyeyeballs>=2.3.0 in /Users/bernicelau/.pyenv/versions/anaconda3-2023.03/lib/python3.10/site-packages (from aiohttp->datasets) (2.4.4)\n",
      "Requirement already satisfied: propcache>=0.2.0 in /Users/bernicelau/.pyenv/versions/anaconda3-2023.03/lib/python3.10/site-packages (from aiohttp->datasets) (0.2.1)\n",
      "Requirement already satisfied: yarl<2.0,>=1.17.0 in /Users/bernicelau/.pyenv/versions/anaconda3-2023.03/lib/python3.10/site-packages (from aiohttp->datasets) (1.18.3)\n",
      "Requirement already satisfied: async-timeout<6.0,>=4.0 in /Users/bernicelau/.pyenv/versions/anaconda3-2023.03/lib/python3.10/site-packages (from aiohttp->datasets) (5.0.1)\n",
      "Requirement already satisfied: frozenlist>=1.1.1 in /Users/bernicelau/.pyenv/versions/anaconda3-2023.03/lib/python3.10/site-packages (from aiohttp->datasets) (1.5.0)\n",
      "Requirement already satisfied: typing-extensions>=3.7.4.3 in /Users/bernicelau/.pyenv/versions/anaconda3-2023.03/lib/python3.10/site-packages (from huggingface-hub>=0.23.0->datasets) (4.12.2)\n",
      "Requirement already satisfied: certifi>=2017.4.17 in /Users/bernicelau/.pyenv/versions/anaconda3-2023.03/lib/python3.10/site-packages (from requests>=2.32.2->datasets) (2022.12.7)\n",
      "Requirement already satisfied: idna<4,>=2.5 in /Users/bernicelau/.pyenv/versions/anaconda3-2023.03/lib/python3.10/site-packages (from requests>=2.32.2->datasets) (3.4)\n",
      "Requirement already satisfied: charset-normalizer<4,>=2 in /Users/bernicelau/.pyenv/versions/anaconda3-2023.03/lib/python3.10/site-packages (from requests>=2.32.2->datasets) (2.0.4)\n",
      "Requirement already satisfied: urllib3<3,>=1.21.1 in /Users/bernicelau/.pyenv/versions/anaconda3-2023.03/lib/python3.10/site-packages (from requests>=2.32.2->datasets) (1.26.14)\n",
      "Requirement already satisfied: python-dateutil>=2.8.1 in /Users/bernicelau/.pyenv/versions/anaconda3-2023.03/lib/python3.10/site-packages (from pandas->datasets) (2.8.2)\n",
      "Requirement already satisfied: pytz>=2020.1 in /Users/bernicelau/.pyenv/versions/anaconda3-2023.03/lib/python3.10/site-packages (from pandas->datasets) (2022.7)\n",
      "Requirement already satisfied: six>=1.5 in /Users/bernicelau/.pyenv/versions/anaconda3-2023.03/lib/python3.10/site-packages (from python-dateutil>=2.8.1->pandas->datasets) (1.16.0)\n",
      "Requirement already satisfied: python-dotenv in /Users/bernicelau/.pyenv/versions/anaconda3-2023.03/lib/python3.10/site-packages (1.0.1)\n",
      "Requirement already satisfied: transformers in /Users/bernicelau/.pyenv/versions/anaconda3-2023.03/lib/python3.10/site-packages (4.24.0)\n",
      "Collecting transformers\n",
      "  Downloading transformers-4.48.2-py3-none-any.whl (9.7 MB)\n",
      "\u001b[2K     \u001b[90m━━━━━━━━━━━━━━━━━━━━━━━━━━━━━━━━━━━━━━━━\u001b[0m \u001b[32m9.7/9.7 MB\u001b[0m \u001b[31m24.0 MB/s\u001b[0m eta \u001b[36m0:00:00\u001b[0m00:01\u001b[0m00:01\u001b[0m\n",
      "\u001b[?25hRequirement already satisfied: huggingface-hub<1.0,>=0.24.0 in /Users/bernicelau/.pyenv/versions/anaconda3-2023.03/lib/python3.10/site-packages (from transformers) (0.28.1)\n",
      "Collecting safetensors>=0.4.1\n",
      "  Downloading safetensors-0.5.2-cp38-abi3-macosx_11_0_arm64.whl (408 kB)\n",
      "\u001b[2K     \u001b[90m━━━━━━━━━━━━━━━━━━━━━━━━━━━━━━━━━━━━━━\u001b[0m \u001b[32m408.9/408.9 kB\u001b[0m \u001b[31m36.2 MB/s\u001b[0m eta \u001b[36m0:00:00\u001b[0m\n",
      "\u001b[?25hRequirement already satisfied: regex!=2019.12.17 in /Users/bernicelau/.pyenv/versions/anaconda3-2023.03/lib/python3.10/site-packages (from transformers) (2022.7.9)\n",
      "Collecting tokenizers<0.22,>=0.21\n",
      "  Downloading tokenizers-0.21.0-cp39-abi3-macosx_11_0_arm64.whl (2.6 MB)\n",
      "\u001b[2K     \u001b[90m━━━━━━━━━━━━━━━━━━━━━━━━━━━━━━━━━━━━━━━━\u001b[0m \u001b[32m2.6/2.6 MB\u001b[0m \u001b[31m48.9 MB/s\u001b[0m eta \u001b[36m0:00:00\u001b[0ma \u001b[36m0:00:01\u001b[0m\n",
      "\u001b[?25hRequirement already satisfied: packaging>=20.0 in /Users/bernicelau/.pyenv/versions/anaconda3-2023.03/lib/python3.10/site-packages (from transformers) (22.0)\n",
      "Requirement already satisfied: pyyaml>=5.1 in /Users/bernicelau/.pyenv/versions/anaconda3-2023.03/lib/python3.10/site-packages (from transformers) (6.0)\n",
      "Requirement already satisfied: tqdm>=4.27 in /Users/bernicelau/.pyenv/versions/anaconda3-2023.03/lib/python3.10/site-packages (from transformers) (4.67.1)\n",
      "Requirement already satisfied: numpy>=1.17 in /Users/bernicelau/.pyenv/versions/anaconda3-2023.03/lib/python3.10/site-packages (from transformers) (1.23.5)\n",
      "Requirement already satisfied: requests in /Users/bernicelau/.pyenv/versions/anaconda3-2023.03/lib/python3.10/site-packages (from transformers) (2.32.3)\n",
      "Requirement already satisfied: filelock in /Users/bernicelau/.pyenv/versions/anaconda3-2023.03/lib/python3.10/site-packages (from transformers) (3.9.0)\n",
      "Requirement already satisfied: typing-extensions>=3.7.4.3 in /Users/bernicelau/.pyenv/versions/anaconda3-2023.03/lib/python3.10/site-packages (from huggingface-hub<1.0,>=0.24.0->transformers) (4.12.2)\n",
      "Requirement already satisfied: fsspec>=2023.5.0 in /Users/bernicelau/.pyenv/versions/anaconda3-2023.03/lib/python3.10/site-packages (from huggingface-hub<1.0,>=0.24.0->transformers) (2024.9.0)\n",
      "Requirement already satisfied: charset-normalizer<4,>=2 in /Users/bernicelau/.pyenv/versions/anaconda3-2023.03/lib/python3.10/site-packages (from requests->transformers) (2.0.4)\n",
      "Requirement already satisfied: idna<4,>=2.5 in /Users/bernicelau/.pyenv/versions/anaconda3-2023.03/lib/python3.10/site-packages (from requests->transformers) (3.4)\n",
      "Requirement already satisfied: urllib3<3,>=1.21.1 in /Users/bernicelau/.pyenv/versions/anaconda3-2023.03/lib/python3.10/site-packages (from requests->transformers) (1.26.14)\n",
      "Requirement already satisfied: certifi>=2017.4.17 in /Users/bernicelau/.pyenv/versions/anaconda3-2023.03/lib/python3.10/site-packages (from requests->transformers) (2022.12.7)\n",
      "Installing collected packages: safetensors, tokenizers, transformers\n",
      "  Attempting uninstall: tokenizers\n",
      "    Found existing installation: tokenizers 0.11.4\n",
      "    Uninstalling tokenizers-0.11.4:\n",
      "      Successfully uninstalled tokenizers-0.11.4\n",
      "  Attempting uninstall: transformers\n",
      "    Found existing installation: transformers 4.24.0\n",
      "    Uninstalling transformers-4.24.0:\n",
      "      Successfully uninstalled transformers-4.24.0\n",
      "Successfully installed safetensors-0.5.2 tokenizers-0.21.0 transformers-4.48.2\n"
     ]
    }
   ],
   "source": [
    "!pip install rouge_score\n",
    "!pip install evaluate\n",
    "!pip install --upgrade -q wandb\n",
    "!pip install --upgrade datasets\n",
    "!pip install python-dotenv\n",
    "!pip install --upgrade transformers\n",
    "!pip install 'transformers[torch]'"
   ]
  },
  {
   "cell_type": "code",
   "execution_count": 20,
   "metadata": {},
   "outputs": [
    {
     "name": "stderr",
     "output_type": "stream",
     "text": [
      "[nltk_data] Downloading package punkt to\n",
      "[nltk_data]     /Users/bernicelau/nltk_data...\n",
      "[nltk_data]   Package punkt is already up-to-date!\n"
     ]
    }
   ],
   "source": [
    "import pandas as pd \n",
    "import numpy as np\n",
    "import os\n",
    "from dotenv import load_dotenv\n",
    "\n",
    "import matplotlib.pyplot as plt\n",
    "import seaborn as sns\n",
    "\n",
    "import torch\n",
    "import torch.nn as nn\n",
    "\n",
    "from transformers import AutoModelForSeq2SeqLM, AutoTokenizer, pipeline, set_seed\n",
    "from transformers import DataCollatorForSeq2Seq\n",
    "from transformers import Seq2SeqTrainer\n",
    "from transformers import Seq2SeqTrainingArguments\n",
    "\n",
    "import datasets\n",
    "from datasets import Dataset\n",
    "from datasets import DatasetDict\n",
    "\n",
    "from evaluate import load\n",
    "\n",
    "from tqdm import tqdm\n",
    "\n",
    "import wandb\n",
    "import huggingface_hub\n",
    "\n",
    "import nltk\n",
    "from nltk.tokenize import sent_tokenize\n",
    "nltk.download(\"punkt\")\n",
    "\n",
    "import warnings\n",
    "warnings.filterwarnings('ignore')"
   ]
  },
  {
   "cell_type": "code",
   "execution_count": 21,
   "metadata": {},
   "outputs": [],
   "source": [
    "# Load environment variables from .env file\n",
    "load_dotenv()\n",
    "\n",
    "# Retrieve tokens from environment variables\n",
    "huggingface_token = os.getenv(\"HUGGINGFACE_TOKEN\")\n",
    "wandb_token = os.getenv(\"WANDB_API_KEY\")"
   ]
  },
  {
   "cell_type": "code",
   "execution_count": 22,
   "metadata": {},
   "outputs": [
    {
     "name": "stderr",
     "output_type": "stream",
     "text": [
      "\u001b[34m\u001b[1mwandb\u001b[0m: \u001b[33mWARNING\u001b[0m If you're specifying your api key in code, ensure this code is not shared publicly.\n",
      "\u001b[34m\u001b[1mwandb\u001b[0m: \u001b[33mWARNING\u001b[0m Consider setting the WANDB_API_KEY environment variable, or running `wandb login` from the command line.\n",
      "\u001b[34m\u001b[1mwandb\u001b[0m: Appending key for api.wandb.ai to your netrc file: /Users/bernicelau/.netrc\n"
     ]
    },
    {
     "data": {
      "text/plain": [
       "True"
      ]
     },
     "execution_count": 22,
     "metadata": {},
     "output_type": "execute_result"
    }
   ],
   "source": [
    "# log in to wandb\n",
    "wandb.login(key=wandb_token)"
   ]
  },
  {
   "cell_type": "code",
   "execution_count": 25,
   "metadata": {},
   "outputs": [],
   "source": [
    "# log in to Hugging Face Hub\n",
    "huggingface_hub.login(token=huggingface_token)"
   ]
  },
  {
   "cell_type": "code",
   "execution_count": 28,
   "metadata": {},
   "outputs": [
    {
     "name": "stdout",
     "output_type": "stream",
     "text": [
      "Ignored unknown kwarg option special\n",
      "Unexpected exception formatting exception. Falling back to standard exception\n"
     ]
    },
    {
     "name": "stderr",
     "output_type": "stream",
     "text": [
      "Traceback (most recent call last):\n",
      "  File \"/Users/bernicelau/.pyenv/versions/anaconda3-2023.03/lib/python3.10/site-packages/transformers/utils/import_utils.py\", line 1076, in _get_module\n",
      "  File \"/Users/bernicelau/.pyenv/versions/anaconda3-2023.03/lib/python3.10/importlib/__init__.py\", line 126, in import_module\n",
      "    return _bootstrap._gcd_import(name[level:], package, level)\n",
      "  File \"<frozen importlib._bootstrap>\", line 1050, in _gcd_import\n",
      "  File \"<frozen importlib._bootstrap>\", line 1027, in _find_and_load\n",
      "  File \"<frozen importlib._bootstrap>\", line 1004, in _find_and_load_unlocked\n",
      "ModuleNotFoundError: No module named 'transformers.models.xlm_prophetnet.configuration_xlm_prophetnet'\n",
      "\n",
      "The above exception was the direct cause of the following exception:\n",
      "\n",
      "Traceback (most recent call last):\n",
      "  File \"/Users/bernicelau/.pyenv/versions/anaconda3-2023.03/lib/python3.10/site-packages/IPython/core/interactiveshell.py\", line 3460, in run_code\n",
      "    exec(code_obj, self.user_global_ns, self.user_ns)\n",
      "  File \"/var/folders/8h/4l9_c_8x4pq675w1qcpf84hw0000gn/T/ipykernel_56644/2735072549.py\", line 12, in <module>\n",
      "    model = AutoModelForSeq2SeqLM.from_pretrained(model_ckpt).to(device)\n",
      "  File \"/Users/bernicelau/.pyenv/versions/anaconda3-2023.03/lib/python3.10/site-packages/transformers/models/auto/auto_factory.py\", line 461, in from_pretrained\n",
      "    \"token\",\n",
      "  File \"/Users/bernicelau/.pyenv/versions/anaconda3-2023.03/lib/python3.10/site-packages/transformers/models/auto/auto_factory.py\", line 607, in keys\n",
      "    raise ValueError(\"Cannot specify `output_loading_info=True` when loading from timm\")\n",
      "  File \"/Users/bernicelau/.pyenv/versions/anaconda3-2023.03/lib/python3.10/site-packages/transformers/models/auto/auto_factory.py\", line 608, in <listcomp>\n",
      "  File \"/Users/bernicelau/.pyenv/versions/anaconda3-2023.03/lib/python3.10/site-packages/transformers/models/auto/auto_factory.py\", line 604, in _load_attr_from_module\n",
      "    raise ValueError(\"Cannot specify `out_features` for timm backbones\")\n",
      "  File \"/Users/bernicelau/.pyenv/versions/anaconda3-2023.03/lib/python3.10/site-packages/transformers/models/auto/auto_factory.py\", line 553, in getattribute_from_module\n",
      "    model_class = get_class_from_dynamic_module(\n",
      "  File \"/Users/bernicelau/.pyenv/versions/anaconda3-2023.03/lib/python3.10/site-packages/transformers/utils/import_utils.py\", line 1066, in __getattr__\n",
      "    package_version = importlib.metadata.version(\"Pillow-SIMD\")\n",
      "  File \"/Users/bernicelau/.pyenv/versions/anaconda3-2023.03/lib/python3.10/site-packages/transformers/utils/import_utils.py\", line 1078, in _get_module\n",
      "    return _pytest_available\n",
      "RuntimeError: Failed to import transformers.models.xlm_prophetnet.configuration_xlm_prophetnet because of the following error (look up to see its traceback):\n",
      "No module named 'transformers.models.xlm_prophetnet.configuration_xlm_prophetnet'\n",
      "\n",
      "During handling of the above exception, another exception occurred:\n",
      "\n",
      "Traceback (most recent call last):\n",
      "  File \"/Users/bernicelau/.pyenv/versions/anaconda3-2023.03/lib/python3.10/site-packages/IPython/core/interactiveshell.py\", line 2057, in showtraceback\n",
      "    stb = self.InteractiveTB.structured_traceback(\n",
      "  File \"/Users/bernicelau/.pyenv/versions/anaconda3-2023.03/lib/python3.10/site-packages/IPython/core/ultratb.py\", line 1118, in structured_traceback\n",
      "    return FormattedTB.structured_traceback(\n",
      "  File \"/Users/bernicelau/.pyenv/versions/anaconda3-2023.03/lib/python3.10/site-packages/IPython/core/ultratb.py\", line 1012, in structured_traceback\n",
      "    return VerboseTB.structured_traceback(\n",
      "  File \"/Users/bernicelau/.pyenv/versions/anaconda3-2023.03/lib/python3.10/site-packages/IPython/core/ultratb.py\", line 865, in structured_traceback\n",
      "    formatted_exception = self.format_exception_as_a_whole(etype, evalue, etb, number_of_lines_of_context,\n",
      "  File \"/Users/bernicelau/.pyenv/versions/anaconda3-2023.03/lib/python3.10/site-packages/IPython/core/ultratb.py\", line 818, in format_exception_as_a_whole\n",
      "    frames.append(self.format_record(r))\n",
      "  File \"/Users/bernicelau/.pyenv/versions/anaconda3-2023.03/lib/python3.10/site-packages/IPython/core/ultratb.py\", line 736, in format_record\n",
      "    result += ''.join(_format_traceback_lines(frame_info.lines, Colors, self.has_colors, lvals))\n",
      "  File \"/Users/bernicelau/.pyenv/versions/anaconda3-2023.03/lib/python3.10/site-packages/stack_data/utils.py\", line 145, in cached_property_wrapper\n",
      "    value = obj.__dict__[self.func.__name__] = self.func(obj)\n",
      "  File \"/Users/bernicelau/.pyenv/versions/anaconda3-2023.03/lib/python3.10/site-packages/stack_data/core.py\", line 698, in lines\n",
      "    pieces = self.included_pieces\n",
      "  File \"/Users/bernicelau/.pyenv/versions/anaconda3-2023.03/lib/python3.10/site-packages/stack_data/utils.py\", line 145, in cached_property_wrapper\n",
      "    value = obj.__dict__[self.func.__name__] = self.func(obj)\n",
      "  File \"/Users/bernicelau/.pyenv/versions/anaconda3-2023.03/lib/python3.10/site-packages/stack_data/core.py\", line 649, in included_pieces\n",
      "    pos = scope_pieces.index(self.executing_piece)\n",
      "  File \"/Users/bernicelau/.pyenv/versions/anaconda3-2023.03/lib/python3.10/site-packages/stack_data/utils.py\", line 145, in cached_property_wrapper\n",
      "    value = obj.__dict__[self.func.__name__] = self.func(obj)\n",
      "  File \"/Users/bernicelau/.pyenv/versions/anaconda3-2023.03/lib/python3.10/site-packages/stack_data/core.py\", line 628, in executing_piece\n",
      "    return only(\n",
      "  File \"/Users/bernicelau/.pyenv/versions/anaconda3-2023.03/lib/python3.10/site-packages/executing/executing.py\", line 164, in only\n",
      "    raise NotOneValueFound('Expected one value, found 0')\n",
      "executing.executing.NotOneValueFound: Expected one value, found 0\n"
     ]
    }
   ],
   "source": [
    "# TODO: debug this\n",
    "\n",
    "# Check if CUDA is available and set the device\n",
    "device = \"cuda\" if torch.cuda.is_available() else \"cpu\"\n",
    "\n",
    "# Model checkpoint\n",
    "model_ckpt = \"facebook/bart-base\"\n",
    "\n",
    "# Load the tokenizer and model\n",
    "tokenizer = AutoTokenizer.from_pretrained(model_ckpt)\n",
    "model = AutoModelForSeq2SeqLM.from_pretrained(model_ckpt).to(device)"
   ]
  },
  {
   "cell_type": "code",
   "execution_count": null,
   "metadata": {},
   "outputs": [],
   "source": []
  }
 ],
 "metadata": {
  "kernelspec": {
   "display_name": "base",
   "language": "python",
   "name": "python3"
  },
  "language_info": {
   "codemirror_mode": {
    "name": "ipython",
    "version": 3
   },
   "file_extension": ".py",
   "mimetype": "text/x-python",
   "name": "python",
   "nbconvert_exporter": "python",
   "pygments_lexer": "ipython3",
   "version": "3.10.9"
  }
 },
 "nbformat": 4,
 "nbformat_minor": 2
}
