{
 "cells": [
  {
   "cell_type": "markdown",
   "metadata": {},
   "source": [
    "# AI Text Summarizer"
   ]
  },
  {
   "cell_type": "markdown",
   "metadata": {},
   "source": [
    "### Import Requirements"
   ]
  },
  {
   "cell_type": "code",
   "execution_count": 1,
   "metadata": {},
   "outputs": [],
   "source": [
    "# python3 -m venv venv\n",
    "# source venv/bin/activate"
   ]
  },
  {
   "cell_type": "code",
   "execution_count": 2,
   "metadata": {},
   "outputs": [
    {
     "name": "stdout",
     "output_type": "stream",
     "text": [
      "Requirement already satisfied: rouge_score in ./venv/lib/python3.9/site-packages (0.1.2)\n",
      "Requirement already satisfied: absl-py in ./venv/lib/python3.9/site-packages (from rouge_score) (2.1.0)\n",
      "Requirement already satisfied: nltk in ./venv/lib/python3.9/site-packages (from rouge_score) (3.9.1)\n",
      "Requirement already satisfied: numpy in ./venv/lib/python3.9/site-packages (from rouge_score) (2.0.2)\n",
      "Requirement already satisfied: six>=1.14.0 in ./venv/lib/python3.9/site-packages (from rouge_score) (1.17.0)\n",
      "Requirement already satisfied: tqdm in ./venv/lib/python3.9/site-packages (from nltk->rouge_score) (4.67.1)\n",
      "Requirement already satisfied: regex>=2021.8.3 in ./venv/lib/python3.9/site-packages (from nltk->rouge_score) (2024.11.6)\n",
      "Requirement already satisfied: joblib in ./venv/lib/python3.9/site-packages (from nltk->rouge_score) (1.4.2)\n",
      "Requirement already satisfied: click in ./venv/lib/python3.9/site-packages (from nltk->rouge_score) (8.1.8)\n",
      "\u001b[33mWARNING: You are using pip version 21.3.1; however, version 25.0.1 is available.\n",
      "You should consider upgrading via the '/home/dswamina/ai-text-summarizer/venv/bin/python -m pip install --upgrade pip' command.\u001b[0m\n",
      "Note: you may need to restart the kernel to use updated packages.\n",
      "Requirement already satisfied: evaluate in ./venv/lib/python3.9/site-packages (0.4.3)\n",
      "Requirement already satisfied: pandas in ./venv/lib/python3.9/site-packages (from evaluate) (2.2.3)\n",
      "Requirement already satisfied: xxhash in ./venv/lib/python3.9/site-packages (from evaluate) (3.5.0)\n",
      "Requirement already satisfied: fsspec[http]>=2021.05.0 in ./venv/lib/python3.9/site-packages (from evaluate) (2024.9.0)\n",
      "Requirement already satisfied: huggingface-hub>=0.7.0 in ./venv/lib/python3.9/site-packages (from evaluate) (0.28.1)\n",
      "Requirement already satisfied: tqdm>=4.62.1 in ./venv/lib/python3.9/site-packages (from evaluate) (4.67.1)\n",
      "Requirement already satisfied: numpy>=1.17 in ./venv/lib/python3.9/site-packages (from evaluate) (2.0.2)\n",
      "Requirement already satisfied: requests>=2.19.0 in ./venv/lib/python3.9/site-packages (from evaluate) (2.32.3)\n",
      "Requirement already satisfied: dill in ./venv/lib/python3.9/site-packages (from evaluate) (0.3.8)\n",
      "Requirement already satisfied: datasets>=2.0.0 in ./venv/lib/python3.9/site-packages (from evaluate) (3.2.0)\n",
      "Requirement already satisfied: multiprocess in ./venv/lib/python3.9/site-packages (from evaluate) (0.70.16)\n",
      "Requirement already satisfied: packaging in ./venv/lib/python3.9/site-packages (from evaluate) (24.2)\n",
      "Requirement already satisfied: pyyaml>=5.1 in ./venv/lib/python3.9/site-packages (from datasets>=2.0.0->evaluate) (6.0.2)\n",
      "Requirement already satisfied: aiohttp in ./venv/lib/python3.9/site-packages (from datasets>=2.0.0->evaluate) (3.11.12)\n",
      "Requirement already satisfied: pyarrow>=15.0.0 in ./venv/lib/python3.9/site-packages (from datasets>=2.0.0->evaluate) (19.0.0)\n",
      "Requirement already satisfied: filelock in ./venv/lib/python3.9/site-packages (from datasets>=2.0.0->evaluate) (3.17.0)\n",
      "Requirement already satisfied: typing-extensions>=3.7.4.3 in ./venv/lib/python3.9/site-packages (from huggingface-hub>=0.7.0->evaluate) (4.12.2)\n",
      "Requirement already satisfied: urllib3<3,>=1.21.1 in ./venv/lib/python3.9/site-packages (from requests>=2.19.0->evaluate) (2.3.0)\n",
      "Requirement already satisfied: certifi>=2017.4.17 in ./venv/lib/python3.9/site-packages (from requests>=2.19.0->evaluate) (2025.1.31)\n",
      "Requirement already satisfied: idna<4,>=2.5 in ./venv/lib/python3.9/site-packages (from requests>=2.19.0->evaluate) (3.10)\n",
      "Requirement already satisfied: charset-normalizer<4,>=2 in ./venv/lib/python3.9/site-packages (from requests>=2.19.0->evaluate) (3.4.1)\n",
      "Requirement already satisfied: tzdata>=2022.7 in ./venv/lib/python3.9/site-packages (from pandas->evaluate) (2025.1)\n",
      "Requirement already satisfied: python-dateutil>=2.8.2 in ./venv/lib/python3.9/site-packages (from pandas->evaluate) (2.9.0.post0)\n",
      "Requirement already satisfied: pytz>=2020.1 in ./venv/lib/python3.9/site-packages (from pandas->evaluate) (2025.1)\n",
      "Requirement already satisfied: propcache>=0.2.0 in ./venv/lib/python3.9/site-packages (from aiohttp->datasets>=2.0.0->evaluate) (0.2.1)\n",
      "Requirement already satisfied: attrs>=17.3.0 in ./venv/lib/python3.9/site-packages (from aiohttp->datasets>=2.0.0->evaluate) (25.1.0)\n",
      "Requirement already satisfied: multidict<7.0,>=4.5 in ./venv/lib/python3.9/site-packages (from aiohttp->datasets>=2.0.0->evaluate) (6.1.0)\n",
      "Requirement already satisfied: yarl<2.0,>=1.17.0 in ./venv/lib/python3.9/site-packages (from aiohttp->datasets>=2.0.0->evaluate) (1.18.3)\n",
      "Requirement already satisfied: frozenlist>=1.1.1 in ./venv/lib/python3.9/site-packages (from aiohttp->datasets>=2.0.0->evaluate) (1.5.0)\n",
      "Requirement already satisfied: aiosignal>=1.1.2 in ./venv/lib/python3.9/site-packages (from aiohttp->datasets>=2.0.0->evaluate) (1.3.2)\n",
      "Requirement already satisfied: aiohappyeyeballs>=2.3.0 in ./venv/lib/python3.9/site-packages (from aiohttp->datasets>=2.0.0->evaluate) (2.4.6)\n",
      "Requirement already satisfied: async-timeout<6.0,>=4.0 in ./venv/lib/python3.9/site-packages (from aiohttp->datasets>=2.0.0->evaluate) (5.0.1)\n",
      "Requirement already satisfied: six>=1.5 in ./venv/lib/python3.9/site-packages (from python-dateutil>=2.8.2->pandas->evaluate) (1.17.0)\n",
      "\u001b[33mWARNING: You are using pip version 21.3.1; however, version 25.0.1 is available.\n",
      "You should consider upgrading via the '/home/dswamina/ai-text-summarizer/venv/bin/python -m pip install --upgrade pip' command.\u001b[0m\n",
      "Note: you may need to restart the kernel to use updated packages.\n",
      "\u001b[33mWARNING: You are using pip version 21.3.1; however, version 25.0.1 is available.\n",
      "You should consider upgrading via the '/home/dswamina/ai-text-summarizer/venv/bin/python -m pip install --upgrade pip' command.\u001b[0m\n",
      "Note: you may need to restart the kernel to use updated packages.\n",
      "Requirement already satisfied: datasets in ./venv/lib/python3.9/site-packages (3.2.0)\n",
      "Requirement already satisfied: xxhash in ./venv/lib/python3.9/site-packages (from datasets) (3.5.0)\n",
      "Requirement already satisfied: aiohttp in ./venv/lib/python3.9/site-packages (from datasets) (3.11.12)\n",
      "Requirement already satisfied: requests>=2.32.2 in ./venv/lib/python3.9/site-packages (from datasets) (2.32.3)\n",
      "Requirement already satisfied: tqdm>=4.66.3 in ./venv/lib/python3.9/site-packages (from datasets) (4.67.1)\n",
      "Requirement already satisfied: pyarrow>=15.0.0 in ./venv/lib/python3.9/site-packages (from datasets) (19.0.0)\n",
      "Requirement already satisfied: huggingface-hub>=0.23.0 in ./venv/lib/python3.9/site-packages (from datasets) (0.28.1)\n",
      "Requirement already satisfied: fsspec[http]<=2024.9.0,>=2023.1.0 in ./venv/lib/python3.9/site-packages (from datasets) (2024.9.0)\n",
      "Requirement already satisfied: packaging in ./venv/lib/python3.9/site-packages (from datasets) (24.2)\n",
      "Requirement already satisfied: multiprocess<0.70.17 in ./venv/lib/python3.9/site-packages (from datasets) (0.70.16)\n",
      "Requirement already satisfied: pandas in ./venv/lib/python3.9/site-packages (from datasets) (2.2.3)\n",
      "Requirement already satisfied: filelock in ./venv/lib/python3.9/site-packages (from datasets) (3.17.0)\n",
      "Requirement already satisfied: numpy>=1.17 in ./venv/lib/python3.9/site-packages (from datasets) (2.0.2)\n",
      "Requirement already satisfied: pyyaml>=5.1 in ./venv/lib/python3.9/site-packages (from datasets) (6.0.2)\n",
      "Requirement already satisfied: dill<0.3.9,>=0.3.0 in ./venv/lib/python3.9/site-packages (from datasets) (0.3.8)\n",
      "Requirement already satisfied: propcache>=0.2.0 in ./venv/lib/python3.9/site-packages (from aiohttp->datasets) (0.2.1)\n",
      "Requirement already satisfied: attrs>=17.3.0 in ./venv/lib/python3.9/site-packages (from aiohttp->datasets) (25.1.0)\n",
      "Requirement already satisfied: async-timeout<6.0,>=4.0 in ./venv/lib/python3.9/site-packages (from aiohttp->datasets) (5.0.1)\n",
      "Requirement already satisfied: aiosignal>=1.1.2 in ./venv/lib/python3.9/site-packages (from aiohttp->datasets) (1.3.2)\n",
      "Requirement already satisfied: yarl<2.0,>=1.17.0 in ./venv/lib/python3.9/site-packages (from aiohttp->datasets) (1.18.3)\n",
      "Requirement already satisfied: multidict<7.0,>=4.5 in ./venv/lib/python3.9/site-packages (from aiohttp->datasets) (6.1.0)\n",
      "Requirement already satisfied: frozenlist>=1.1.1 in ./venv/lib/python3.9/site-packages (from aiohttp->datasets) (1.5.0)\n",
      "Requirement already satisfied: aiohappyeyeballs>=2.3.0 in ./venv/lib/python3.9/site-packages (from aiohttp->datasets) (2.4.6)\n",
      "Requirement already satisfied: typing-extensions>=3.7.4.3 in ./venv/lib/python3.9/site-packages (from huggingface-hub>=0.23.0->datasets) (4.12.2)\n",
      "Requirement already satisfied: idna<4,>=2.5 in ./venv/lib/python3.9/site-packages (from requests>=2.32.2->datasets) (3.10)\n",
      "Requirement already satisfied: certifi>=2017.4.17 in ./venv/lib/python3.9/site-packages (from requests>=2.32.2->datasets) (2025.1.31)\n",
      "Requirement already satisfied: urllib3<3,>=1.21.1 in ./venv/lib/python3.9/site-packages (from requests>=2.32.2->datasets) (2.3.0)\n",
      "Requirement already satisfied: charset-normalizer<4,>=2 in ./venv/lib/python3.9/site-packages (from requests>=2.32.2->datasets) (3.4.1)\n",
      "Requirement already satisfied: pytz>=2020.1 in ./venv/lib/python3.9/site-packages (from pandas->datasets) (2025.1)\n",
      "Requirement already satisfied: python-dateutil>=2.8.2 in ./venv/lib/python3.9/site-packages (from pandas->datasets) (2.9.0.post0)\n",
      "Requirement already satisfied: tzdata>=2022.7 in ./venv/lib/python3.9/site-packages (from pandas->datasets) (2025.1)\n",
      "Requirement already satisfied: six>=1.5 in ./venv/lib/python3.9/site-packages (from python-dateutil>=2.8.2->pandas->datasets) (1.17.0)\n",
      "\u001b[33mWARNING: You are using pip version 21.3.1; however, version 25.0.1 is available.\n",
      "You should consider upgrading via the '/home/dswamina/ai-text-summarizer/venv/bin/python -m pip install --upgrade pip' command.\u001b[0m\n",
      "Note: you may need to restart the kernel to use updated packages.\n",
      "Requirement already satisfied: python-dotenv in ./venv/lib/python3.9/site-packages (1.0.1)\n",
      "\u001b[33mWARNING: You are using pip version 21.3.1; however, version 25.0.1 is available.\n",
      "You should consider upgrading via the '/home/dswamina/ai-text-summarizer/venv/bin/python -m pip install --upgrade pip' command.\u001b[0m\n",
      "Note: you may need to restart the kernel to use updated packages.\n",
      "Looking in indexes: https://download.pytorch.org/whl/cu121\n",
      "Requirement already satisfied: torch==2.4.1 in ./venv/lib/python3.9/site-packages (2.4.1+cu121)\n",
      "Requirement already satisfied: torchvision==0.19.1 in ./venv/lib/python3.9/site-packages (0.19.1+cu121)\n",
      "Requirement already satisfied: torchaudio==2.4.1 in ./venv/lib/python3.9/site-packages (2.4.1+cu121)\n",
      "Requirement already satisfied: typing-extensions>=4.8.0 in ./venv/lib/python3.9/site-packages (from torch==2.4.1) (4.12.2)\n",
      "Requirement already satisfied: triton==3.0.0 in ./venv/lib/python3.9/site-packages (from torch==2.4.1) (3.0.0)\n",
      "Requirement already satisfied: jinja2 in ./venv/lib/python3.9/site-packages (from torch==2.4.1) (3.1.4)\n",
      "Requirement already satisfied: nvidia-cuda-runtime-cu12==12.1.105 in ./venv/lib/python3.9/site-packages (from torch==2.4.1) (12.1.105)\n",
      "Requirement already satisfied: nvidia-nvtx-cu12==12.1.105 in ./venv/lib/python3.9/site-packages (from torch==2.4.1) (12.1.105)\n",
      "Requirement already satisfied: sympy in ./venv/lib/python3.9/site-packages (from torch==2.4.1) (1.13.1)\n",
      "Requirement already satisfied: nvidia-cuda-cupti-cu12==12.1.105 in ./venv/lib/python3.9/site-packages (from torch==2.4.1) (12.1.105)\n",
      "Requirement already satisfied: networkx in ./venv/lib/python3.9/site-packages (from torch==2.4.1) (3.2.1)\n",
      "Requirement already satisfied: nvidia-cusolver-cu12==11.4.5.107 in ./venv/lib/python3.9/site-packages (from torch==2.4.1) (11.4.5.107)\n",
      "Requirement already satisfied: fsspec in ./venv/lib/python3.9/site-packages (from torch==2.4.1) (2024.9.0)\n",
      "Requirement already satisfied: nvidia-cudnn-cu12==9.1.0.70 in ./venv/lib/python3.9/site-packages (from torch==2.4.1) (9.1.0.70)\n",
      "Requirement already satisfied: nvidia-cublas-cu12==12.1.3.1 in ./venv/lib/python3.9/site-packages (from torch==2.4.1) (12.1.3.1)\n",
      "Requirement already satisfied: nvidia-curand-cu12==10.3.2.106 in ./venv/lib/python3.9/site-packages (from torch==2.4.1) (10.3.2.106)\n",
      "Requirement already satisfied: nvidia-cusparse-cu12==12.1.0.106 in ./venv/lib/python3.9/site-packages (from torch==2.4.1) (12.1.0.106)\n",
      "Requirement already satisfied: nvidia-nccl-cu12==2.20.5 in ./venv/lib/python3.9/site-packages (from torch==2.4.1) (2.20.5)\n",
      "Requirement already satisfied: filelock in ./venv/lib/python3.9/site-packages (from torch==2.4.1) (3.17.0)\n",
      "Requirement already satisfied: nvidia-cuda-nvrtc-cu12==12.1.105 in ./venv/lib/python3.9/site-packages (from torch==2.4.1) (12.1.105)\n",
      "Requirement already satisfied: nvidia-cufft-cu12==11.0.2.54 in ./venv/lib/python3.9/site-packages (from torch==2.4.1) (11.0.2.54)\n",
      "Requirement already satisfied: pillow!=8.3.*,>=5.3.0 in ./venv/lib/python3.9/site-packages (from torchvision==0.19.1) (11.0.0)\n",
      "Requirement already satisfied: numpy in ./venv/lib/python3.9/site-packages (from torchvision==0.19.1) (2.0.2)\n",
      "Requirement already satisfied: nvidia-nvjitlink-cu12 in ./venv/lib/python3.9/site-packages (from nvidia-cusolver-cu12==11.4.5.107->torch==2.4.1) (12.1.105)\n",
      "Requirement already satisfied: MarkupSafe>=2.0 in ./venv/lib/python3.9/site-packages (from jinja2->torch==2.4.1) (2.1.5)\n",
      "Requirement already satisfied: mpmath<1.4,>=1.1.0 in ./venv/lib/python3.9/site-packages (from sympy->torch==2.4.1) (1.3.0)\n",
      "\u001b[33mWARNING: You are using pip version 21.3.1; however, version 25.0.1 is available.\n",
      "You should consider upgrading via the '/home/dswamina/ai-text-summarizer/venv/bin/python -m pip install --upgrade pip' command.\u001b[0m\n",
      "Note: you may need to restart the kernel to use updated packages.\n",
      "Requirement already satisfied: transformers in ./venv/lib/python3.9/site-packages (4.48.3)\n",
      "Requirement already satisfied: filelock in ./venv/lib/python3.9/site-packages (from transformers) (3.17.0)\n",
      "Requirement already satisfied: packaging>=20.0 in ./venv/lib/python3.9/site-packages (from transformers) (24.2)\n",
      "Requirement already satisfied: tqdm>=4.27 in ./venv/lib/python3.9/site-packages (from transformers) (4.67.1)\n",
      "Requirement already satisfied: regex!=2019.12.17 in ./venv/lib/python3.9/site-packages (from transformers) (2024.11.6)\n",
      "Requirement already satisfied: requests in ./venv/lib/python3.9/site-packages (from transformers) (2.32.3)\n",
      "Requirement already satisfied: tokenizers<0.22,>=0.21 in ./venv/lib/python3.9/site-packages (from transformers) (0.21.0)\n",
      "Requirement already satisfied: safetensors>=0.4.1 in ./venv/lib/python3.9/site-packages (from transformers) (0.5.2)\n",
      "Requirement already satisfied: pyyaml>=5.1 in ./venv/lib/python3.9/site-packages (from transformers) (6.0.2)\n",
      "Requirement already satisfied: numpy>=1.17 in ./venv/lib/python3.9/site-packages (from transformers) (2.0.2)\n",
      "Requirement already satisfied: huggingface-hub<1.0,>=0.24.0 in ./venv/lib/python3.9/site-packages (from transformers) (0.28.1)\n",
      "Requirement already satisfied: fsspec>=2023.5.0 in ./venv/lib/python3.9/site-packages (from huggingface-hub<1.0,>=0.24.0->transformers) (2024.9.0)\n",
      "Requirement already satisfied: typing-extensions>=3.7.4.3 in ./venv/lib/python3.9/site-packages (from huggingface-hub<1.0,>=0.24.0->transformers) (4.12.2)\n",
      "Requirement already satisfied: urllib3<3,>=1.21.1 in ./venv/lib/python3.9/site-packages (from requests->transformers) (2.3.0)\n",
      "Requirement already satisfied: idna<4,>=2.5 in ./venv/lib/python3.9/site-packages (from requests->transformers) (3.10)\n",
      "Requirement already satisfied: certifi>=2017.4.17 in ./venv/lib/python3.9/site-packages (from requests->transformers) (2025.1.31)\n",
      "Requirement already satisfied: charset-normalizer<4,>=2 in ./venv/lib/python3.9/site-packages (from requests->transformers) (3.4.1)\n",
      "\u001b[33mWARNING: You are using pip version 21.3.1; however, version 25.0.1 is available.\n",
      "You should consider upgrading via the '/home/dswamina/ai-text-summarizer/venv/bin/python -m pip install --upgrade pip' command.\u001b[0m\n",
      "Note: you may need to restart the kernel to use updated packages.\n",
      "Requirement already satisfied: transformers[torch] in ./venv/lib/python3.9/site-packages (4.48.3)\n",
      "Requirement already satisfied: requests in ./venv/lib/python3.9/site-packages (from transformers[torch]) (2.32.3)\n",
      "Requirement already satisfied: pyyaml>=5.1 in ./venv/lib/python3.9/site-packages (from transformers[torch]) (6.0.2)\n",
      "Requirement already satisfied: tokenizers<0.22,>=0.21 in ./venv/lib/python3.9/site-packages (from transformers[torch]) (0.21.0)\n",
      "Requirement already satisfied: huggingface-hub<1.0,>=0.24.0 in ./venv/lib/python3.9/site-packages (from transformers[torch]) (0.28.1)\n",
      "Requirement already satisfied: filelock in ./venv/lib/python3.9/site-packages (from transformers[torch]) (3.17.0)\n",
      "Requirement already satisfied: packaging>=20.0 in ./venv/lib/python3.9/site-packages (from transformers[torch]) (24.2)\n",
      "Requirement already satisfied: safetensors>=0.4.1 in ./venv/lib/python3.9/site-packages (from transformers[torch]) (0.5.2)\n",
      "Requirement already satisfied: regex!=2019.12.17 in ./venv/lib/python3.9/site-packages (from transformers[torch]) (2024.11.6)\n",
      "Requirement already satisfied: tqdm>=4.27 in ./venv/lib/python3.9/site-packages (from transformers[torch]) (4.67.1)\n",
      "Requirement already satisfied: numpy>=1.17 in ./venv/lib/python3.9/site-packages (from transformers[torch]) (2.0.2)\n",
      "Requirement already satisfied: torch>=2.0 in ./venv/lib/python3.9/site-packages (from transformers[torch]) (2.4.1+cu121)\n",
      "Requirement already satisfied: accelerate>=0.26.0 in ./venv/lib/python3.9/site-packages (from transformers[torch]) (1.3.0)\n",
      "Requirement already satisfied: psutil in ./venv/lib/python3.9/site-packages (from accelerate>=0.26.0->transformers[torch]) (6.1.1)\n",
      "Requirement already satisfied: fsspec>=2023.5.0 in ./venv/lib/python3.9/site-packages (from huggingface-hub<1.0,>=0.24.0->transformers[torch]) (2024.9.0)\n",
      "Requirement already satisfied: typing-extensions>=3.7.4.3 in ./venv/lib/python3.9/site-packages (from huggingface-hub<1.0,>=0.24.0->transformers[torch]) (4.12.2)\n",
      "Requirement already satisfied: triton==3.0.0 in ./venv/lib/python3.9/site-packages (from torch>=2.0->transformers[torch]) (3.0.0)\n",
      "Requirement already satisfied: sympy in ./venv/lib/python3.9/site-packages (from torch>=2.0->transformers[torch]) (1.13.1)\n",
      "Requirement already satisfied: nvidia-cublas-cu12==12.1.3.1 in ./venv/lib/python3.9/site-packages (from torch>=2.0->transformers[torch]) (12.1.3.1)\n",
      "Requirement already satisfied: nvidia-cusolver-cu12==11.4.5.107 in ./venv/lib/python3.9/site-packages (from torch>=2.0->transformers[torch]) (11.4.5.107)\n",
      "Requirement already satisfied: nvidia-nccl-cu12==2.20.5 in ./venv/lib/python3.9/site-packages (from torch>=2.0->transformers[torch]) (2.20.5)\n",
      "Requirement already satisfied: nvidia-cudnn-cu12==9.1.0.70 in ./venv/lib/python3.9/site-packages (from torch>=2.0->transformers[torch]) (9.1.0.70)\n",
      "Requirement already satisfied: nvidia-cuda-cupti-cu12==12.1.105 in ./venv/lib/python3.9/site-packages (from torch>=2.0->transformers[torch]) (12.1.105)\n",
      "Requirement already satisfied: nvidia-cuda-runtime-cu12==12.1.105 in ./venv/lib/python3.9/site-packages (from torch>=2.0->transformers[torch]) (12.1.105)\n",
      "Requirement already satisfied: networkx in ./venv/lib/python3.9/site-packages (from torch>=2.0->transformers[torch]) (3.2.1)\n",
      "Requirement already satisfied: nvidia-cufft-cu12==11.0.2.54 in ./venv/lib/python3.9/site-packages (from torch>=2.0->transformers[torch]) (11.0.2.54)\n",
      "Requirement already satisfied: nvidia-curand-cu12==10.3.2.106 in ./venv/lib/python3.9/site-packages (from torch>=2.0->transformers[torch]) (10.3.2.106)\n",
      "Requirement already satisfied: nvidia-cusparse-cu12==12.1.0.106 in ./venv/lib/python3.9/site-packages (from torch>=2.0->transformers[torch]) (12.1.0.106)\n",
      "Requirement already satisfied: nvidia-nvtx-cu12==12.1.105 in ./venv/lib/python3.9/site-packages (from torch>=2.0->transformers[torch]) (12.1.105)\n",
      "Requirement already satisfied: jinja2 in ./venv/lib/python3.9/site-packages (from torch>=2.0->transformers[torch]) (3.1.4)\n",
      "Requirement already satisfied: nvidia-cuda-nvrtc-cu12==12.1.105 in ./venv/lib/python3.9/site-packages (from torch>=2.0->transformers[torch]) (12.1.105)\n",
      "Requirement already satisfied: nvidia-nvjitlink-cu12 in ./venv/lib/python3.9/site-packages (from nvidia-cusolver-cu12==11.4.5.107->torch>=2.0->transformers[torch]) (12.1.105)\n",
      "Requirement already satisfied: idna<4,>=2.5 in ./venv/lib/python3.9/site-packages (from requests->transformers[torch]) (3.10)\n",
      "Requirement already satisfied: certifi>=2017.4.17 in ./venv/lib/python3.9/site-packages (from requests->transformers[torch]) (2025.1.31)\n",
      "Requirement already satisfied: charset-normalizer<4,>=2 in ./venv/lib/python3.9/site-packages (from requests->transformers[torch]) (3.4.1)\n",
      "Requirement already satisfied: urllib3<3,>=1.21.1 in ./venv/lib/python3.9/site-packages (from requests->transformers[torch]) (2.3.0)\n",
      "Requirement already satisfied: MarkupSafe>=2.0 in ./venv/lib/python3.9/site-packages (from jinja2->torch>=2.0->transformers[torch]) (2.1.5)\n",
      "Requirement already satisfied: mpmath<1.4,>=1.1.0 in ./venv/lib/python3.9/site-packages (from sympy->torch>=2.0->transformers[torch]) (1.3.0)\n",
      "\u001b[33mWARNING: You are using pip version 21.3.1; however, version 25.0.1 is available.\n",
      "You should consider upgrading via the '/home/dswamina/ai-text-summarizer/venv/bin/python -m pip install --upgrade pip' command.\u001b[0m\n",
      "Note: you may need to restart the kernel to use updated packages.\n",
      "Requirement already satisfied: seaborn in ./venv/lib/python3.9/site-packages (0.13.2)\n",
      "Requirement already satisfied: matplotlib!=3.6.1,>=3.4 in ./venv/lib/python3.9/site-packages (from seaborn) (3.9.4)\n",
      "Requirement already satisfied: numpy!=1.24.0,>=1.20 in ./venv/lib/python3.9/site-packages (from seaborn) (2.0.2)\n",
      "Requirement already satisfied: pandas>=1.2 in ./venv/lib/python3.9/site-packages (from seaborn) (2.2.3)\n",
      "Requirement already satisfied: pillow>=8 in ./venv/lib/python3.9/site-packages (from matplotlib!=3.6.1,>=3.4->seaborn) (11.0.0)\n",
      "Requirement already satisfied: python-dateutil>=2.7 in ./venv/lib/python3.9/site-packages (from matplotlib!=3.6.1,>=3.4->seaborn) (2.9.0.post0)\n",
      "Requirement already satisfied: packaging>=20.0 in ./venv/lib/python3.9/site-packages (from matplotlib!=3.6.1,>=3.4->seaborn) (24.2)\n",
      "Requirement already satisfied: pyparsing>=2.3.1 in ./venv/lib/python3.9/site-packages (from matplotlib!=3.6.1,>=3.4->seaborn) (3.2.1)\n",
      "Requirement already satisfied: contourpy>=1.0.1 in ./venv/lib/python3.9/site-packages (from matplotlib!=3.6.1,>=3.4->seaborn) (1.3.0)\n",
      "Requirement already satisfied: fonttools>=4.22.0 in ./venv/lib/python3.9/site-packages (from matplotlib!=3.6.1,>=3.4->seaborn) (4.56.0)\n",
      "Requirement already satisfied: importlib-resources>=3.2.0 in ./venv/lib/python3.9/site-packages (from matplotlib!=3.6.1,>=3.4->seaborn) (6.5.2)\n",
      "Requirement already satisfied: cycler>=0.10 in ./venv/lib/python3.9/site-packages (from matplotlib!=3.6.1,>=3.4->seaborn) (0.12.1)\n",
      "Requirement already satisfied: kiwisolver>=1.3.1 in ./venv/lib/python3.9/site-packages (from matplotlib!=3.6.1,>=3.4->seaborn) (1.4.7)\n",
      "Requirement already satisfied: tzdata>=2022.7 in ./venv/lib/python3.9/site-packages (from pandas>=1.2->seaborn) (2025.1)\n",
      "Requirement already satisfied: pytz>=2020.1 in ./venv/lib/python3.9/site-packages (from pandas>=1.2->seaborn) (2025.1)\n",
      "Requirement already satisfied: zipp>=3.1.0 in ./venv/lib/python3.9/site-packages (from importlib-resources>=3.2.0->matplotlib!=3.6.1,>=3.4->seaborn) (3.21.0)\n",
      "Requirement already satisfied: six>=1.5 in ./venv/lib/python3.9/site-packages (from python-dateutil>=2.7->matplotlib!=3.6.1,>=3.4->seaborn) (1.17.0)\n",
      "\u001b[33mWARNING: You are using pip version 21.3.1; however, version 25.0.1 is available.\n",
      "You should consider upgrading via the '/home/dswamina/ai-text-summarizer/venv/bin/python -m pip install --upgrade pip' command.\u001b[0m\n",
      "Note: you may need to restart the kernel to use updated packages.\n",
      "Requirement already satisfied: torch-directml in ./venv/lib/python3.9/site-packages (0.2.5.dev240914)\n",
      "Requirement already satisfied: torchvision==0.19.1 in ./venv/lib/python3.9/site-packages (from torch-directml) (0.19.1+cu121)\n",
      "Requirement already satisfied: torch==2.4.1 in ./venv/lib/python3.9/site-packages (from torch-directml) (2.4.1+cu121)\n",
      "Requirement already satisfied: nvidia-nccl-cu12==2.20.5 in ./venv/lib/python3.9/site-packages (from torch==2.4.1->torch-directml) (2.20.5)\n",
      "Requirement already satisfied: nvidia-cuda-runtime-cu12==12.1.105 in ./venv/lib/python3.9/site-packages (from torch==2.4.1->torch-directml) (12.1.105)\n",
      "Requirement already satisfied: nvidia-cuda-nvrtc-cu12==12.1.105 in ./venv/lib/python3.9/site-packages (from torch==2.4.1->torch-directml) (12.1.105)\n",
      "Requirement already satisfied: triton==3.0.0 in ./venv/lib/python3.9/site-packages (from torch==2.4.1->torch-directml) (3.0.0)\n",
      "Requirement already satisfied: nvidia-cuda-cupti-cu12==12.1.105 in ./venv/lib/python3.9/site-packages (from torch==2.4.1->torch-directml) (12.1.105)\n",
      "Requirement already satisfied: sympy in ./venv/lib/python3.9/site-packages (from torch==2.4.1->torch-directml) (1.13.1)\n",
      "Requirement already satisfied: typing-extensions>=4.8.0 in ./venv/lib/python3.9/site-packages (from torch==2.4.1->torch-directml) (4.12.2)\n",
      "Requirement already satisfied: networkx in ./venv/lib/python3.9/site-packages (from torch==2.4.1->torch-directml) (3.2.1)\n",
      "Requirement already satisfied: jinja2 in ./venv/lib/python3.9/site-packages (from torch==2.4.1->torch-directml) (3.1.4)\n",
      "Requirement already satisfied: nvidia-cublas-cu12==12.1.3.1 in ./venv/lib/python3.9/site-packages (from torch==2.4.1->torch-directml) (12.1.3.1)\n",
      "Requirement already satisfied: nvidia-cusolver-cu12==11.4.5.107 in ./venv/lib/python3.9/site-packages (from torch==2.4.1->torch-directml) (11.4.5.107)\n",
      "Requirement already satisfied: nvidia-cufft-cu12==11.0.2.54 in ./venv/lib/python3.9/site-packages (from torch==2.4.1->torch-directml) (11.0.2.54)\n",
      "Requirement already satisfied: nvidia-cusparse-cu12==12.1.0.106 in ./venv/lib/python3.9/site-packages (from torch==2.4.1->torch-directml) (12.1.0.106)\n",
      "Requirement already satisfied: nvidia-nvtx-cu12==12.1.105 in ./venv/lib/python3.9/site-packages (from torch==2.4.1->torch-directml) (12.1.105)\n",
      "Requirement already satisfied: filelock in ./venv/lib/python3.9/site-packages (from torch==2.4.1->torch-directml) (3.17.0)\n",
      "Requirement already satisfied: fsspec in ./venv/lib/python3.9/site-packages (from torch==2.4.1->torch-directml) (2024.9.0)\n",
      "Requirement already satisfied: nvidia-curand-cu12==10.3.2.106 in ./venv/lib/python3.9/site-packages (from torch==2.4.1->torch-directml) (10.3.2.106)\n",
      "Requirement already satisfied: nvidia-cudnn-cu12==9.1.0.70 in ./venv/lib/python3.9/site-packages (from torch==2.4.1->torch-directml) (9.1.0.70)\n",
      "Requirement already satisfied: pillow!=8.3.*,>=5.3.0 in ./venv/lib/python3.9/site-packages (from torchvision==0.19.1->torch-directml) (11.0.0)\n",
      "Requirement already satisfied: numpy in ./venv/lib/python3.9/site-packages (from torchvision==0.19.1->torch-directml) (2.0.2)\n",
      "Requirement already satisfied: nvidia-nvjitlink-cu12 in ./venv/lib/python3.9/site-packages (from nvidia-cusolver-cu12==11.4.5.107->torch==2.4.1->torch-directml) (12.1.105)\n",
      "Requirement already satisfied: MarkupSafe>=2.0 in ./venv/lib/python3.9/site-packages (from jinja2->torch==2.4.1->torch-directml) (2.1.5)\n",
      "Requirement already satisfied: mpmath<1.4,>=1.1.0 in ./venv/lib/python3.9/site-packages (from sympy->torch==2.4.1->torch-directml) (1.3.0)\n",
      "\u001b[33mWARNING: You are using pip version 21.3.1; however, version 25.0.1 is available.\n",
      "You should consider upgrading via the '/home/dswamina/ai-text-summarizer/venv/bin/python -m pip install --upgrade pip' command.\u001b[0m\n",
      "Note: you may need to restart the kernel to use updated packages.\n"
     ]
    }
   ],
   "source": [
    "%pip install rouge_score\n",
    "%pip install evaluate\n",
    "%pip install --upgrade -q wandb\n",
    "%pip install --upgrade datasets\n",
    "%pip install python-dotenv\n",
    "# %pip install torch==2.4.1 torchvision==0.19.1 torchaudio==2.4.1 --index-url https://download.pytorch.org/whl/cpu\n",
    "%pip install torch==2.4.1 torchvision==0.19.1 torchaudio==2.4.1 --index-url https://download.pytorch.org/whl/cu121\n",
    "%pip install --upgrade transformers\n",
    "%pip install --upgrade transformers[torch]\n",
    "%pip install seaborn\n",
    "%pip install torch-directml"
   ]
  },
  {
   "cell_type": "code",
   "execution_count": 3,
   "metadata": {},
   "outputs": [
    {
     "name": "stderr",
     "output_type": "stream",
     "text": [
      "/home/dswamina/ai-text-summarizer/venv/lib64/python3.9/site-packages/tqdm/auto.py:21: TqdmWarning: IProgress not found. Please update jupyter and ipywidgets. See https://ipywidgets.readthedocs.io/en/stable/user_install.html\n",
      "  from .autonotebook import tqdm as notebook_tqdm\n",
      "[nltk_data] Downloading package punkt_tab to\n",
      "[nltk_data]     //home/dswamina/nltk_data...\n",
      "[nltk_data]   Package punkt_tab is already up-to-date!\n"
     ]
    }
   ],
   "source": [
    "import pandas as pd \n",
    "import numpy as np\n",
    "import os\n",
    "from dotenv import load_dotenv\n",
    "\n",
    "import matplotlib.pyplot as plt\n",
    "import seaborn as sns\n",
    "\n",
    "import torch\n",
    "import torch.nn as nn\n",
    "\n",
    "from transformers import AutoModelForSeq2SeqLM, AutoTokenizer, pipeline, set_seed\n",
    "from transformers import DataCollatorForSeq2Seq\n",
    "from transformers import Seq2SeqTrainer\n",
    "from transformers import Seq2SeqTrainingArguments\n",
    "from transformers import AutoTokenizer\n",
    "\n",
    "import datasets\n",
    "from datasets import Dataset\n",
    "from datasets import DatasetDict\n",
    "\n",
    "from evaluate import load\n",
    "\n",
    "from tqdm import tqdm\n",
    "\n",
    "import wandb\n",
    "import huggingface_hub\n",
    "\n",
    "import nltk\n",
    "from nltk.tokenize import sent_tokenize\n",
    "nltk.download(\"punkt_tab\")\n",
    "\n",
    "import warnings\n",
    "warnings.filterwarnings('ignore')\n",
    "\n",
    "import evaluate\n",
    "\n"
   ]
  },
  {
   "cell_type": "code",
   "execution_count": 4,
   "metadata": {},
   "outputs": [
    {
     "name": "stdout",
     "output_type": "stream",
     "text": [
      "Torch Version: 2.4.1+cu121\n",
      "CUDA Available: True\n",
      "CUDA Version: 12.1\n",
      "Number of GPUs: 4\n",
      "GPU Name: Tesla V100-PCIE-32GB\n"
     ]
    }
   ],
   "source": [
    "# verifying CUDA is available\n",
    "print(\"Torch Version:\", torch.__version__)\n",
    "print(\"CUDA Available:\", torch.cuda.is_available()) # should be true if your graphics card is captable with NVIDIA CUDA\n",
    "print(\"CUDA Version:\", torch.version.cuda)\n",
    "print(\"Number of GPUs:\", torch.cuda.device_count())\n",
    "print(\"GPU Name:\", torch.cuda.get_device_name(0) if torch.cuda.is_available() else \"No GPU detected\")"
   ]
  },
  {
   "cell_type": "code",
   "execution_count": 5,
   "metadata": {},
   "outputs": [],
   "source": [
    "# Load environment variables from .env file\n",
    "load_dotenv()\n",
    "\n",
    "# Retrieve tokens from environment variables\n",
    "huggingface_token = os.getenv(\"HUGGINGFACE_TOKEN\")\n",
    "wandb_token = os.getenv(\"WANDB_API_KEY\")\n",
    "\n",
    "\n",
    "\n"
   ]
  },
  {
   "cell_type": "code",
   "execution_count": 6,
   "metadata": {},
   "outputs": [
    {
     "name": "stderr",
     "output_type": "stream",
     "text": [
      "\u001b[34m\u001b[1mwandb\u001b[0m: \u001b[33mWARNING\u001b[0m If you're specifying your api key in code, ensure this code is not shared publicly.\n",
      "\u001b[34m\u001b[1mwandb\u001b[0m: \u001b[33mWARNING\u001b[0m Consider setting the WANDB_API_KEY environment variable, or running `wandb login` from the command line.\n",
      "\u001b[34m\u001b[1mwandb\u001b[0m: Appending key for api.wandb.ai to your netrc file: //home/dswamina/.netrc\n",
      "\u001b[34m\u001b[1mwandb\u001b[0m: Currently logged in as: \u001b[33mbernicelau\u001b[0m (\u001b[33mai-text-summarizer\u001b[0m) to \u001b[32mhttps://api.wandb.ai\u001b[0m. Use \u001b[1m`wandb login --relogin`\u001b[0m to force relogin\n"
     ]
    },
    {
     "data": {
      "text/plain": [
       "True"
      ]
     },
     "execution_count": 6,
     "metadata": {},
     "output_type": "execute_result"
    }
   ],
   "source": [
    "# log in to wandb\n",
    "wandb.login(key=wandb_token)\n",
    "\n"
   ]
  },
  {
   "cell_type": "code",
   "execution_count": 7,
   "metadata": {},
   "outputs": [
    {
     "name": "stderr",
     "output_type": "stream",
     "text": [
      "\u001b[34m\u001b[1mwandb\u001b[0m: Using wandb-core as the SDK backend.  Please refer to https://wandb.me/wandb-core for more information.\n"
     ]
    },
    {
     "data": {
      "text/html": [
       "Tracking run with wandb version 0.19.6"
      ],
      "text/plain": [
       "<IPython.core.display.HTML object>"
      ]
     },
     "metadata": {},
     "output_type": "display_data"
    },
    {
     "data": {
      "text/html": [
       "Run data is saved locally in <code>/home/dswamina/ai-text-summarizer/wandb/run-20250212_145504-8g7zu0cp</code>"
      ],
      "text/plain": [
       "<IPython.core.display.HTML object>"
      ]
     },
     "metadata": {},
     "output_type": "display_data"
    },
    {
     "data": {
      "text/html": [
       "Syncing run <strong><a href='https://wandb.ai/ai-text-summarizer/ai-text_summmarizer/runs/8g7zu0cp' target=\"_blank\">worldly-silence-14</a></strong> to <a href='https://wandb.ai/ai-text-summarizer/ai-text_summmarizer' target=\"_blank\">Weights & Biases</a> (<a href='https://wandb.me/developer-guide' target=\"_blank\">docs</a>)<br>"
      ],
      "text/plain": [
       "<IPython.core.display.HTML object>"
      ]
     },
     "metadata": {},
     "output_type": "display_data"
    },
    {
     "data": {
      "text/html": [
       " View project at <a href='https://wandb.ai/ai-text-summarizer/ai-text_summmarizer' target=\"_blank\">https://wandb.ai/ai-text-summarizer/ai-text_summmarizer</a>"
      ],
      "text/plain": [
       "<IPython.core.display.HTML object>"
      ]
     },
     "metadata": {},
     "output_type": "display_data"
    },
    {
     "data": {
      "text/html": [
       " View run at <a href='https://wandb.ai/ai-text-summarizer/ai-text_summmarizer/runs/8g7zu0cp' target=\"_blank\">https://wandb.ai/ai-text-summarizer/ai-text_summmarizer/runs/8g7zu0cp</a>"
      ],
      "text/plain": [
       "<IPython.core.display.HTML object>"
      ]
     },
     "metadata": {},
     "output_type": "display_data"
    },
    {
     "data": {
      "text/html": [
       "<button onClick=\"this.nextSibling.style.display='block';this.style.display='none';\">Display W&B run</button><iframe src='https://wandb.ai/ai-text-summarizer/ai-text_summmarizer/runs/8g7zu0cp?jupyter=true' style='border:none;width:100%;height:420px;display:none;'></iframe>"
      ],
      "text/plain": [
       "<wandb.sdk.wandb_run.Run at 0x7ff7f856d9d0>"
      ]
     },
     "execution_count": 7,
     "metadata": {},
     "output_type": "execute_result"
    }
   ],
   "source": [
    "# initializing/creating wandb project \n",
    "#os.environ[\"WANDB_MODE\"] = \"offline\" # TODO: trouble connecting to wandb due to restricting network, so keeping it offline for now\n",
    "wandb.init(project=\"ai-text_summmarizer\")"
   ]
  },
  {
   "cell_type": "code",
   "execution_count": 8,
   "metadata": {},
   "outputs": [],
   "source": [
    "# log in to Hugging Face Hub\n",
    "huggingface_hub.login(token=huggingface_token)"
   ]
  },
  {
   "cell_type": "code",
   "execution_count": 9,
   "metadata": {},
   "outputs": [],
   "source": [
    "# Check if CUDA is available and set the device\n",
    "device = \"cuda\" if torch.cuda.is_available() else \"cpu\"\n",
    "\n",
    "\n",
    "# Model checkpoint\n",
    "model_ckpt = \"facebook/bart-base\"\n",
    "\n",
    "# Load the tokenizer and model\n",
    "tokenizer = AutoTokenizer.from_pretrained(model_ckpt)\n",
    "model = AutoModelForSeq2SeqLM.from_pretrained(model_ckpt).to(device)"
   ]
  },
  {
   "cell_type": "code",
   "execution_count": 10,
   "metadata": {},
   "outputs": [
    {
     "name": "stdout",
     "output_type": "stream",
     "text": [
      "Error reading file 199.txt with error 'utf-8' codec can't decode byte 0xa3 in position 257: invalid start byte\n"
     ]
    }
   ],
   "source": [
    "# Data Analysis\n",
    "dataset_paths = 'bbc-news-dataset'\n",
    "articles_path = 'news-articles'\n",
    "summaries_path = 'summaries'\n",
    "\n",
    "articles = []\n",
    "summaries = []\n",
    "file_arr = []\n",
    "\n",
    "\n",
    "\n",
    "folders = os.listdir(dataset_paths + '/' + articles_path)\n",
    "\n",
    "for folder in folders:\n",
    "    files = os.listdir(dataset_paths + '/' + articles_path + '/' + folder)\n",
    "    for file in files:\n",
    "        article_file_path = os.path.join(dataset_paths, articles_path, folder, file)\n",
    "        summary_file_path = os.path.join(dataset_paths, summaries_path, folder, file)\n",
    "\n",
    "        try:\n",
    "            with open (article_file_path,'r') as f:\n",
    "                articles.append('.'.join([line.rstrip() for line in f.readlines()]))\n",
    "            with open (summary_file_path,'r') as f:\n",
    "                summaries.append('.'.join([line.rstrip() for line in f.readlines()]))\n",
    "            file_arr.append(folder + '/' + file)\n",
    "        except Exception as e:\n",
    "            print(f\"Error reading file {file} with error {e}\")"
   ]
  },
  {
   "cell_type": "code",
   "execution_count": 11,
   "metadata": {},
   "outputs": [
    {
     "data": {
      "text/html": [
       "<div>\n",
       "<style scoped>\n",
       "    .dataframe tbody tr th:only-of-type {\n",
       "        vertical-align: middle;\n",
       "    }\n",
       "\n",
       "    .dataframe tbody tr th {\n",
       "        vertical-align: top;\n",
       "    }\n",
       "\n",
       "    .dataframe thead th {\n",
       "        text-align: right;\n",
       "    }\n",
       "</style>\n",
       "<table border=\"1\" class=\"dataframe\">\n",
       "  <thead>\n",
       "    <tr style=\"text-align: right;\">\n",
       "      <th></th>\n",
       "      <th>path</th>\n",
       "      <th>article</th>\n",
       "      <th>summary</th>\n",
       "    </tr>\n",
       "  </thead>\n",
       "  <tbody>\n",
       "    <tr>\n",
       "      <th>0</th>\n",
       "      <td>business/001.txt</td>\n",
       "      <td>Ad sales boost Time Warner profit..Quarterly p...</td>\n",
       "      <td>TimeWarner said fourth quarter sales rose 2% t...</td>\n",
       "    </tr>\n",
       "    <tr>\n",
       "      <th>1</th>\n",
       "      <td>business/002.txt</td>\n",
       "      <td>Dollar gains on Greenspan speech..The dollar h...</td>\n",
       "      <td>The dollar has hit its highest level against t...</td>\n",
       "    </tr>\n",
       "    <tr>\n",
       "      <th>2</th>\n",
       "      <td>business/003.txt</td>\n",
       "      <td>Yukos unit buyer faces loan claim..The owners ...</td>\n",
       "      <td>Yukos' owner Menatep Group says it will ask Ro...</td>\n",
       "    </tr>\n",
       "    <tr>\n",
       "      <th>3</th>\n",
       "      <td>business/004.txt</td>\n",
       "      <td>High fuel prices hit BA's profits..British Air...</td>\n",
       "      <td>Rod Eddington, BA's chief executive, said the ...</td>\n",
       "    </tr>\n",
       "    <tr>\n",
       "      <th>4</th>\n",
       "      <td>business/005.txt</td>\n",
       "      <td>Pernod takeover talk lifts Domecq..Shares in U...</td>\n",
       "      <td>Pernod has reduced the debt it took on to fund...</td>\n",
       "    </tr>\n",
       "  </tbody>\n",
       "</table>\n",
       "</div>"
      ],
      "text/plain": [
       "               path                                            article  \\\n",
       "0  business/001.txt  Ad sales boost Time Warner profit..Quarterly p...   \n",
       "1  business/002.txt  Dollar gains on Greenspan speech..The dollar h...   \n",
       "2  business/003.txt  Yukos unit buyer faces loan claim..The owners ...   \n",
       "3  business/004.txt  High fuel prices hit BA's profits..British Air...   \n",
       "4  business/005.txt  Pernod takeover talk lifts Domecq..Shares in U...   \n",
       "\n",
       "                                             summary  \n",
       "0  TimeWarner said fourth quarter sales rose 2% t...  \n",
       "1  The dollar has hit its highest level against t...  \n",
       "2  Yukos' owner Menatep Group says it will ask Ro...  \n",
       "3  Rod Eddington, BA's chief executive, said the ...  \n",
       "4  Pernod has reduced the debt it took on to fund...  "
      ]
     },
     "execution_count": 11,
     "metadata": {},
     "output_type": "execute_result"
    }
   ],
   "source": [
    "df = pd.DataFrame({'path':file_arr,'article': articles,'summary':summaries})\n",
    "df.head()"
   ]
  },
  {
   "cell_type": "code",
   "execution_count": 12,
   "metadata": {},
   "outputs": [
    {
     "data": {
      "text/plain": [
       "path       0\n",
       "article    0\n",
       "summary    0\n",
       "dtype: int64"
      ]
     },
     "execution_count": 12,
     "metadata": {},
     "output_type": "execute_result"
    }
   ],
   "source": [
    "# removing nans if any\n",
    "\n",
    "df.dropna(inplace=True)\n",
    "df.isnull().sum()"
   ]
  },
  {
   "cell_type": "code",
   "execution_count": 13,
   "metadata": {},
   "outputs": [],
   "source": [
    "# crating function to count the words in each sample\n",
    "\n",
    "def word_count(sentence):\n",
    "    sentences = sentence.split()\n",
    "    return len(sentences)"
   ]
  },
  {
   "cell_type": "code",
   "execution_count": 14,
   "metadata": {},
   "outputs": [
    {
     "data": {
      "text/html": [
       "<div>\n",
       "<style scoped>\n",
       "    .dataframe tbody tr th:only-of-type {\n",
       "        vertical-align: middle;\n",
       "    }\n",
       "\n",
       "    .dataframe tbody tr th {\n",
       "        vertical-align: top;\n",
       "    }\n",
       "\n",
       "    .dataframe thead th {\n",
       "        text-align: right;\n",
       "    }\n",
       "</style>\n",
       "<table border=\"1\" class=\"dataframe\">\n",
       "  <thead>\n",
       "    <tr style=\"text-align: right;\">\n",
       "      <th></th>\n",
       "      <th>path</th>\n",
       "      <th>article</th>\n",
       "      <th>summary</th>\n",
       "      <th>num_words_article</th>\n",
       "      <th>num_words_summary</th>\n",
       "    </tr>\n",
       "  </thead>\n",
       "  <tbody>\n",
       "    <tr>\n",
       "      <th>0</th>\n",
       "      <td>business/001.txt</td>\n",
       "      <td>Ad sales boost Time Warner profit..Quarterly p...</td>\n",
       "      <td>TimeWarner said fourth quarter sales rose 2% t...</td>\n",
       "      <td>416</td>\n",
       "      <td>134</td>\n",
       "    </tr>\n",
       "    <tr>\n",
       "      <th>1</th>\n",
       "      <td>business/002.txt</td>\n",
       "      <td>Dollar gains on Greenspan speech..The dollar h...</td>\n",
       "      <td>The dollar has hit its highest level against t...</td>\n",
       "      <td>381</td>\n",
       "      <td>158</td>\n",
       "    </tr>\n",
       "    <tr>\n",
       "      <th>2</th>\n",
       "      <td>business/003.txt</td>\n",
       "      <td>Yukos unit buyer faces loan claim..The owners ...</td>\n",
       "      <td>Yukos' owner Menatep Group says it will ask Ro...</td>\n",
       "      <td>261</td>\n",
       "      <td>121</td>\n",
       "    </tr>\n",
       "    <tr>\n",
       "      <th>3</th>\n",
       "      <td>business/004.txt</td>\n",
       "      <td>High fuel prices hit BA's profits..British Air...</td>\n",
       "      <td>Rod Eddington, BA's chief executive, said the ...</td>\n",
       "      <td>401</td>\n",
       "      <td>197</td>\n",
       "    </tr>\n",
       "    <tr>\n",
       "      <th>4</th>\n",
       "      <td>business/005.txt</td>\n",
       "      <td>Pernod takeover talk lifts Domecq..Shares in U...</td>\n",
       "      <td>Pernod has reduced the debt it took on to fund...</td>\n",
       "      <td>262</td>\n",
       "      <td>106</td>\n",
       "    </tr>\n",
       "  </tbody>\n",
       "</table>\n",
       "</div>"
      ],
      "text/plain": [
       "               path                                            article  \\\n",
       "0  business/001.txt  Ad sales boost Time Warner profit..Quarterly p...   \n",
       "1  business/002.txt  Dollar gains on Greenspan speech..The dollar h...   \n",
       "2  business/003.txt  Yukos unit buyer faces loan claim..The owners ...   \n",
       "3  business/004.txt  High fuel prices hit BA's profits..British Air...   \n",
       "4  business/005.txt  Pernod takeover talk lifts Domecq..Shares in U...   \n",
       "\n",
       "                                             summary  num_words_article  \\\n",
       "0  TimeWarner said fourth quarter sales rose 2% t...                416   \n",
       "1  The dollar has hit its highest level against t...                381   \n",
       "2  Yukos' owner Menatep Group says it will ask Ro...                261   \n",
       "3  Rod Eddington, BA's chief executive, said the ...                401   \n",
       "4  Pernod has reduced the debt it took on to fund...                262   \n",
       "\n",
       "   num_words_summary  \n",
       "0                134  \n",
       "1                158  \n",
       "2                121  \n",
       "3                197  \n",
       "4                106  "
      ]
     },
     "execution_count": 14,
     "metadata": {},
     "output_type": "execute_result"
    }
   ],
   "source": [
    "# creating new columns of word numbers\n",
    "\n",
    "df['num_words_article'] = df['article'].apply(word_count)\n",
    "df['num_words_summary'] = df['summary'].apply(word_count)\n",
    "df.head()"
   ]
  },
  {
   "cell_type": "code",
   "execution_count": 15,
   "metadata": {},
   "outputs": [
    {
     "data": {
      "text/html": [
       "<div>\n",
       "<style scoped>\n",
       "    .dataframe tbody tr th:only-of-type {\n",
       "        vertical-align: middle;\n",
       "    }\n",
       "\n",
       "    .dataframe tbody tr th {\n",
       "        vertical-align: top;\n",
       "    }\n",
       "\n",
       "    .dataframe thead th {\n",
       "        text-align: right;\n",
       "    }\n",
       "</style>\n",
       "<table border=\"1\" class=\"dataframe\">\n",
       "  <thead>\n",
       "    <tr style=\"text-align: right;\">\n",
       "      <th></th>\n",
       "      <th>num_words_article</th>\n",
       "      <th>num_words_summary</th>\n",
       "    </tr>\n",
       "  </thead>\n",
       "  <tbody>\n",
       "    <tr>\n",
       "      <th>count</th>\n",
       "      <td>2224.000000</td>\n",
       "      <td>2224.000000</td>\n",
       "    </tr>\n",
       "    <tr>\n",
       "      <th>mean</th>\n",
       "      <td>379.286871</td>\n",
       "      <td>165.151529</td>\n",
       "    </tr>\n",
       "    <tr>\n",
       "      <th>std</th>\n",
       "      <td>235.081995</td>\n",
       "      <td>108.678038</td>\n",
       "    </tr>\n",
       "    <tr>\n",
       "      <th>min</th>\n",
       "      <td>87.000000</td>\n",
       "      <td>38.000000</td>\n",
       "    </tr>\n",
       "    <tr>\n",
       "      <th>25%</th>\n",
       "      <td>242.000000</td>\n",
       "      <td>103.000000</td>\n",
       "    </tr>\n",
       "    <tr>\n",
       "      <th>50%</th>\n",
       "      <td>327.000000</td>\n",
       "      <td>142.000000</td>\n",
       "    </tr>\n",
       "    <tr>\n",
       "      <th>75%</th>\n",
       "      <td>465.250000</td>\n",
       "      <td>202.000000</td>\n",
       "    </tr>\n",
       "    <tr>\n",
       "      <th>max</th>\n",
       "      <td>4377.000000</td>\n",
       "      <td>2073.000000</td>\n",
       "    </tr>\n",
       "  </tbody>\n",
       "</table>\n",
       "</div>"
      ],
      "text/plain": [
       "       num_words_article  num_words_summary\n",
       "count        2224.000000        2224.000000\n",
       "mean          379.286871         165.151529\n",
       "std           235.081995         108.678038\n",
       "min            87.000000          38.000000\n",
       "25%           242.000000         103.000000\n",
       "50%           327.000000         142.000000\n",
       "75%           465.250000         202.000000\n",
       "max          4377.000000        2073.000000"
      ]
     },
     "execution_count": 15,
     "metadata": {},
     "output_type": "execute_result"
    }
   ],
   "source": [
    "# getting statistical info about the word lenghths\n",
    "\n",
    "df.describe()"
   ]
  },
  {
   "cell_type": "code",
   "execution_count": 16,
   "metadata": {},
   "outputs": [
    {
     "name": "stdout",
     "output_type": "stream",
     "text": [
      "Upper whisker: 799.0\n",
      "Q3: 465.25\n",
      "Q2: 327.0\n",
      "Q1: 242.0\n",
      "Lower whisker: 87.0\n"
     ]
    },
    {
     "data": {
      "image/png": "[encoded data removed]",
      "text/plain": [
       "<Figure size 640x480 with 1 Axes>"
      ]
     },
     "metadata": {},
     "output_type": "display_data"
    }
   ],
   "source": [
    "sns.boxplot(df[\"num_words_article\"])\n",
    "plt.ylabel(\"number of words\")\n",
    "plt.title(\"Boxplot of the articles number of words\")\n",
    "\n",
    "lines = plt.gca().lines[:6]\n",
    "all_lines = [lines[i].get_ydata()[0] for i in range(5)]\n",
    "\n",
    "Q1,Q3,article_lower_whisker,article_upper_whisker, Q2 = all_lines\n",
    "\n",
    "print(\"Upper whisker:\", article_upper_whisker)\n",
    "print(\"Q3:\", Q3)\n",
    "print(\"Q2:\", Q2)\n",
    "print(\"Q1:\", Q1)\n",
    "print(\"Lower whisker:\", article_lower_whisker)"
   ]
  },
  {
   "cell_type": "code",
   "execution_count": 17,
   "metadata": {},
   "outputs": [
    {
     "name": "stdout",
     "output_type": "stream",
     "text": [
      "Upper whisker: 350.0\n",
      "Q3: 202.0\n",
      "Q2: 142.0\n",
      "Q1: 103.0\n",
      "Lower whisker: 38.0\n"
     ]
    },
    {
     "data": {
      "image/png": "[encoded data removed]",
      "text/plain": [
       "<Figure size 640x480 with 1 Axes>"
      ]
     },
     "metadata": {},
     "output_type": "display_data"
    }
   ],
   "source": [
    "sns.boxplot(df[\"num_words_summary\"])\n",
    "plt.ylabel(\"number of words\")\n",
    "plt.title(\"Boxplot of the summaries number of words\")\n",
    "\n",
    "lines = plt.gca().lines[:6]\n",
    "all_lines = [lines[i].get_ydata()[0] for i in range(5)]\n",
    "\n",
    "Q1,Q3,summary_lower_whisker,summary_upper_whisker, Q2 = all_lines\n",
    "\n",
    "print(\"Upper whisker:\", summary_upper_whisker)\n",
    "print(\"Q3:\", Q3)\n",
    "print(\"Q2:\", Q2)\n",
    "print(\"Q1:\", Q1)\n",
    "print(\"Lower whisker:\", summary_lower_whisker)"
   ]
  },
  {
   "cell_type": "code",
   "execution_count": 18,
   "metadata": {},
   "outputs": [
    {
     "data": {
      "text/html": [
       "<div>\n",
       "<style scoped>\n",
       "    .dataframe tbody tr th:only-of-type {\n",
       "        vertical-align: middle;\n",
       "    }\n",
       "\n",
       "    .dataframe tbody tr th {\n",
       "        vertical-align: top;\n",
       "    }\n",
       "\n",
       "    .dataframe thead th {\n",
       "        text-align: right;\n",
       "    }\n",
       "</style>\n",
       "<table border=\"1\" class=\"dataframe\">\n",
       "  <thead>\n",
       "    <tr style=\"text-align: right;\">\n",
       "      <th></th>\n",
       "      <th>path</th>\n",
       "      <th>article</th>\n",
       "      <th>summary</th>\n",
       "      <th>num_words_article</th>\n",
       "      <th>num_words_summary</th>\n",
       "    </tr>\n",
       "  </thead>\n",
       "  <tbody>\n",
       "    <tr>\n",
       "      <th>0</th>\n",
       "      <td>business/001.txt</td>\n",
       "      <td>Ad sales boost Time Warner profit..Quarterly p...</td>\n",
       "      <td>TimeWarner said fourth quarter sales rose 2% t...</td>\n",
       "      <td>416</td>\n",
       "      <td>134</td>\n",
       "    </tr>\n",
       "    <tr>\n",
       "      <th>1</th>\n",
       "      <td>business/002.txt</td>\n",
       "      <td>Dollar gains on Greenspan speech..The dollar h...</td>\n",
       "      <td>The dollar has hit its highest level against t...</td>\n",
       "      <td>381</td>\n",
       "      <td>158</td>\n",
       "    </tr>\n",
       "    <tr>\n",
       "      <th>2</th>\n",
       "      <td>business/003.txt</td>\n",
       "      <td>Yukos unit buyer faces loan claim..The owners ...</td>\n",
       "      <td>Yukos' owner Menatep Group says it will ask Ro...</td>\n",
       "      <td>261</td>\n",
       "      <td>121</td>\n",
       "    </tr>\n",
       "    <tr>\n",
       "      <th>3</th>\n",
       "      <td>business/004.txt</td>\n",
       "      <td>High fuel prices hit BA's profits..British Air...</td>\n",
       "      <td>Rod Eddington, BA's chief executive, said the ...</td>\n",
       "      <td>401</td>\n",
       "      <td>197</td>\n",
       "    </tr>\n",
       "    <tr>\n",
       "      <th>4</th>\n",
       "      <td>business/005.txt</td>\n",
       "      <td>Pernod takeover talk lifts Domecq..Shares in U...</td>\n",
       "      <td>Pernod has reduced the debt it took on to fund...</td>\n",
       "      <td>262</td>\n",
       "      <td>106</td>\n",
       "    </tr>\n",
       "    <tr>\n",
       "      <th>...</th>\n",
       "      <td>...</td>\n",
       "      <td>...</td>\n",
       "      <td>...</td>\n",
       "      <td>...</td>\n",
       "      <td>...</td>\n",
       "    </tr>\n",
       "    <tr>\n",
       "      <th>2214</th>\n",
       "      <td>tech/392.txt</td>\n",
       "      <td>Broadband fuels online expression..Fast web ac...</td>\n",
       "      <td>More than five million households in the UK ha...</td>\n",
       "      <td>331</td>\n",
       "      <td>91</td>\n",
       "    </tr>\n",
       "    <tr>\n",
       "      <th>2215</th>\n",
       "      <td>tech/393.txt</td>\n",
       "      <td>Savvy searchers fail to spot ads..Internet sea...</td>\n",
       "      <td>Almost 50% of those questioned said they would...</td>\n",
       "      <td>496</td>\n",
       "      <td>199</td>\n",
       "    </tr>\n",
       "    <tr>\n",
       "      <th>2219</th>\n",
       "      <td>tech/397.txt</td>\n",
       "      <td>BT program to beat dialler scams..BT is introd...</td>\n",
       "      <td>BT is introducing two initiatives to help beat...</td>\n",
       "      <td>416</td>\n",
       "      <td>186</td>\n",
       "    </tr>\n",
       "    <tr>\n",
       "      <th>2220</th>\n",
       "      <td>tech/398.txt</td>\n",
       "      <td>Spam e-mails tempt net shoppers..Computer user...</td>\n",
       "      <td>A third of them read unsolicited junk e-mail a...</td>\n",
       "      <td>352</td>\n",
       "      <td>130</td>\n",
       "    </tr>\n",
       "    <tr>\n",
       "      <th>2222</th>\n",
       "      <td>tech/400.txt</td>\n",
       "      <td>US cyber security chief resigns..The man makin...</td>\n",
       "      <td>Amit Yoran was director of the National Cyber ...</td>\n",
       "      <td>375</td>\n",
       "      <td>137</td>\n",
       "    </tr>\n",
       "  </tbody>\n",
       "</table>\n",
       "<p>2145 rows × 5 columns</p>\n",
       "</div>"
      ],
      "text/plain": [
       "                  path                                            article  \\\n",
       "0     business/001.txt  Ad sales boost Time Warner profit..Quarterly p...   \n",
       "1     business/002.txt  Dollar gains on Greenspan speech..The dollar h...   \n",
       "2     business/003.txt  Yukos unit buyer faces loan claim..The owners ...   \n",
       "3     business/004.txt  High fuel prices hit BA's profits..British Air...   \n",
       "4     business/005.txt  Pernod takeover talk lifts Domecq..Shares in U...   \n",
       "...                ...                                                ...   \n",
       "2214      tech/392.txt  Broadband fuels online expression..Fast web ac...   \n",
       "2215      tech/393.txt  Savvy searchers fail to spot ads..Internet sea...   \n",
       "2219      tech/397.txt  BT program to beat dialler scams..BT is introd...   \n",
       "2220      tech/398.txt  Spam e-mails tempt net shoppers..Computer user...   \n",
       "2222      tech/400.txt  US cyber security chief resigns..The man makin...   \n",
       "\n",
       "                                                summary  num_words_article  \\\n",
       "0     TimeWarner said fourth quarter sales rose 2% t...                416   \n",
       "1     The dollar has hit its highest level against t...                381   \n",
       "2     Yukos' owner Menatep Group says it will ask Ro...                261   \n",
       "3     Rod Eddington, BA's chief executive, said the ...                401   \n",
       "4     Pernod has reduced the debt it took on to fund...                262   \n",
       "...                                                 ...                ...   \n",
       "2214  More than five million households in the UK ha...                331   \n",
       "2215  Almost 50% of those questioned said they would...                496   \n",
       "2219  BT is introducing two initiatives to help beat...                416   \n",
       "2220  A third of them read unsolicited junk e-mail a...                352   \n",
       "2222  Amit Yoran was director of the National Cyber ...                375   \n",
       "\n",
       "      num_words_summary  \n",
       "0                   134  \n",
       "1                   158  \n",
       "2                   121  \n",
       "3                   197  \n",
       "4                   106  \n",
       "...                 ...  \n",
       "2214                 91  \n",
       "2215                199  \n",
       "2219                186  \n",
       "2220                130  \n",
       "2222                137  \n",
       "\n",
       "[2145 rows x 5 columns]"
      ]
     },
     "execution_count": 18,
     "metadata": {},
     "output_type": "execute_result"
    }
   ],
   "source": [
    "# removing the samples of very long sequences\n",
    "\n",
    "new_df = df[(df['num_words_summary'] <= summary_upper_whisker) & (df['num_words_article'] <= article_upper_whisker)]\n",
    "new_df"
   ]
  },
  {
   "cell_type": "code",
   "execution_count": 19,
   "metadata": {},
   "outputs": [
    {
     "data": {
      "text/html": [
       "<div>\n",
       "<style scoped>\n",
       "    .dataframe tbody tr th:only-of-type {\n",
       "        vertical-align: middle;\n",
       "    }\n",
       "\n",
       "    .dataframe tbody tr th {\n",
       "        vertical-align: top;\n",
       "    }\n",
       "\n",
       "    .dataframe thead th {\n",
       "        text-align: right;\n",
       "    }\n",
       "</style>\n",
       "<table border=\"1\" class=\"dataframe\">\n",
       "  <thead>\n",
       "    <tr style=\"text-align: right;\">\n",
       "      <th></th>\n",
       "      <th>path</th>\n",
       "      <th>article</th>\n",
       "      <th>summary</th>\n",
       "      <th>num_words_article</th>\n",
       "      <th>num_words_summary</th>\n",
       "    </tr>\n",
       "  </thead>\n",
       "  <tbody>\n",
       "    <tr>\n",
       "      <th>0</th>\n",
       "      <td>tech/005.txt</td>\n",
       "      <td>Technology gets the creative bug..The hi-tech ...</td>\n",
       "      <td>\"We are hoping to understand the creative indu...</td>\n",
       "      <td>798</td>\n",
       "      <td>320</td>\n",
       "    </tr>\n",
       "    <tr>\n",
       "      <th>1</th>\n",
       "      <td>politics/252.txt</td>\n",
       "      <td>Blair 'said he would stand down'..Tony Blair p...</td>\n",
       "      <td>He said the prime minister should sack Mr Brow...</td>\n",
       "      <td>556</td>\n",
       "      <td>236</td>\n",
       "    </tr>\n",
       "    <tr>\n",
       "      <th>2</th>\n",
       "      <td>tech/121.txt</td>\n",
       "      <td>Robots learn 'robotiquette' rules..Robots are ...</td>\n",
       "      <td>\"And I want robots to treat humans as human be...</td>\n",
       "      <td>359</td>\n",
       "      <td>163</td>\n",
       "    </tr>\n",
       "    <tr>\n",
       "      <th>3</th>\n",
       "      <td>sport/426.txt</td>\n",
       "      <td>Young debut cut short by Ginepri..Fifteen-year...</td>\n",
       "      <td>Young, who beat two players ranked in the top ...</td>\n",
       "      <td>308</td>\n",
       "      <td>110</td>\n",
       "    </tr>\n",
       "    <tr>\n",
       "      <th>4</th>\n",
       "      <td>tech/304.txt</td>\n",
       "      <td>Format wars could 'confuse users'..Technology ...</td>\n",
       "      <td>Instead, said Mr Doctorow, DRM systems were in...</td>\n",
       "      <td>723</td>\n",
       "      <td>312</td>\n",
       "    </tr>\n",
       "    <tr>\n",
       "      <th>...</th>\n",
       "      <td>...</td>\n",
       "      <td>...</td>\n",
       "      <td>...</td>\n",
       "      <td>...</td>\n",
       "      <td>...</td>\n",
       "    </tr>\n",
       "    <tr>\n",
       "      <th>59</th>\n",
       "      <td>business/289.txt</td>\n",
       "      <td>UK economy facing 'major risks'..The UK manufa...</td>\n",
       "      <td>\"Despite some positive news for the export sec...</td>\n",
       "      <td>319</td>\n",
       "      <td>129</td>\n",
       "    </tr>\n",
       "    <tr>\n",
       "      <th>60</th>\n",
       "      <td>business/246.txt</td>\n",
       "      <td>Ebbers 'aware' of WorldCom fraud..Former World...</td>\n",
       "      <td>Mr Sullivan is at the centre of the government...</td>\n",
       "      <td>381</td>\n",
       "      <td>151</td>\n",
       "    </tr>\n",
       "    <tr>\n",
       "      <th>61</th>\n",
       "      <td>business/114.txt</td>\n",
       "      <td>WorldCom director admits lying..The former chi...</td>\n",
       "      <td>Mr Sullivan, 42, has already pleaded guilty to...</td>\n",
       "      <td>346</td>\n",
       "      <td>158</td>\n",
       "    </tr>\n",
       "    <tr>\n",
       "      <th>62</th>\n",
       "      <td>sport/435.txt</td>\n",
       "      <td>Mirza shocks Kuznetsova..Sania Mirza continued...</td>\n",
       "      <td>\"It was such a tough first-round match and I a...</td>\n",
       "      <td>288</td>\n",
       "      <td>96</td>\n",
       "    </tr>\n",
       "    <tr>\n",
       "      <th>63</th>\n",
       "      <td>business/083.txt</td>\n",
       "      <td>Yukos accused of lying to court..Russian oil f...</td>\n",
       "      <td>Russian oil firm Yukos lied to a US court in a...</td>\n",
       "      <td>528</td>\n",
       "      <td>229</td>\n",
       "    </tr>\n",
       "  </tbody>\n",
       "</table>\n",
       "<p>64 rows × 5 columns</p>\n",
       "</div>"
      ],
      "text/plain": [
       "                path                                            article  \\\n",
       "0       tech/005.txt  Technology gets the creative bug..The hi-tech ...   \n",
       "1   politics/252.txt  Blair 'said he would stand down'..Tony Blair p...   \n",
       "2       tech/121.txt  Robots learn 'robotiquette' rules..Robots are ...   \n",
       "3      sport/426.txt  Young debut cut short by Ginepri..Fifteen-year...   \n",
       "4       tech/304.txt  Format wars could 'confuse users'..Technology ...   \n",
       "..               ...                                                ...   \n",
       "59  business/289.txt  UK economy facing 'major risks'..The UK manufa...   \n",
       "60  business/246.txt  Ebbers 'aware' of WorldCom fraud..Former World...   \n",
       "61  business/114.txt  WorldCom director admits lying..The former chi...   \n",
       "62     sport/435.txt  Mirza shocks Kuznetsova..Sania Mirza continued...   \n",
       "63  business/083.txt  Yukos accused of lying to court..Russian oil f...   \n",
       "\n",
       "                                              summary  num_words_article  \\\n",
       "0   \"We are hoping to understand the creative indu...                798   \n",
       "1   He said the prime minister should sack Mr Brow...                556   \n",
       "2   \"And I want robots to treat humans as human be...                359   \n",
       "3   Young, who beat two players ranked in the top ...                308   \n",
       "4   Instead, said Mr Doctorow, DRM systems were in...                723   \n",
       "..                                                ...                ...   \n",
       "59  \"Despite some positive news for the export sec...                319   \n",
       "60  Mr Sullivan is at the centre of the government...                381   \n",
       "61  Mr Sullivan, 42, has already pleaded guilty to...                346   \n",
       "62  \"It was such a tough first-round match and I a...                288   \n",
       "63  Russian oil firm Yukos lied to a US court in a...                528   \n",
       "\n",
       "    num_words_summary  \n",
       "0                 320  \n",
       "1                 236  \n",
       "2                 163  \n",
       "3                 110  \n",
       "4                 312  \n",
       "..                ...  \n",
       "59                129  \n",
       "60                151  \n",
       "61                158  \n",
       "62                 96  \n",
       "63                229  \n",
       "\n",
       "[64 rows x 5 columns]"
      ]
     },
     "execution_count": 19,
     "metadata": {},
     "output_type": "execute_result"
    }
   ],
   "source": [
    "# preparing the data by training 0.03% of the dataset\n",
    "\n",
    "# deleting some columns and shuffling the rows\n",
    "\n",
    "new_df.drop(columns=[\"num_words_article\",\"num_words_summary\",\"path\"])\n",
    "new_df = new_df.sample(frac = 0.03)\n",
    "new_df.reset_index(drop=True, inplace=False)"
   ]
  },
  {
   "cell_type": "code",
   "execution_count": 20,
   "metadata": {},
   "outputs": [],
   "source": [
    "# splitting the data into train and test \n",
    "\n",
    "ratio = 0.8\n",
    "split = int(len(new_df)*ratio)\n",
    "\n",
    "train_df = new_df.iloc[:split]\n",
    "test_df = new_df.iloc[split:]"
   ]
  },
  {
   "cell_type": "code",
   "execution_count": 21,
   "metadata": {},
   "outputs": [
    {
     "data": {
      "text/plain": [
       "DatasetDict({\n",
       "    train: Dataset({\n",
       "        features: ['path', 'article', 'summary', 'num_words_article', 'num_words_summary'],\n",
       "        num_rows: 51\n",
       "    })\n",
       "    test: Dataset({\n",
       "        features: ['path', 'article', 'summary', 'num_words_article', 'num_words_summary'],\n",
       "        num_rows: 13\n",
       "    })\n",
       "})"
      ]
     },
     "execution_count": 21,
     "metadata": {},
     "output_type": "execute_result"
    }
   ],
   "source": [
    "# convert the DataFrame into DatasetDict\n",
    "\n",
    "train_dataset = Dataset.from_dict(train_df)\n",
    "test_dataset = Dataset.from_dict(test_df)\n",
    "dataset = datasets.DatasetDict({\"train\":train_dataset,\"test\":test_dataset})\n",
    "dataset"
   ]
  },
  {
   "cell_type": "code",
   "execution_count": 22,
   "metadata": {},
   "outputs": [],
   "source": [
    "max_input_length = int(article_upper_whisker)\n",
    "max_target_length = int(summary_upper_whisker)\n",
    "\n",
    "def preprocess_function(examples):\n",
    "    model_inputs = tokenizer(\n",
    "        examples[\"article\"],\n",
    "        max_length=max_input_length,\n",
    "        truncation=True,\n",
    "    )\n",
    "    labels = tokenizer(\n",
    "        examples[\"summary\"], max_length=max_target_length, truncation=True\n",
    "    )\n",
    "    model_inputs[\"labels\"] = labels[\"input_ids\"]\n",
    "    return model_inputs"
   ]
  },
  {
   "cell_type": "code",
   "execution_count": 23,
   "metadata": {},
   "outputs": [
    {
     "name": "stderr",
     "output_type": "stream",
     "text": [
      "Map: 100%|██████████| 51/51 [00:00<00:00, 895.53 examples/s]\n",
      "Map: 100%|██████████| 13/13 [00:00<00:00, 764.01 examples/s]\n"
     ]
    }
   ],
   "source": [
    "# initialize tokenizer\n",
    "tokenizer = AutoTokenizer.from_pretrained(model_ckpt)\n",
    "\n",
    "# define max input lengths\n",
    "max_input_length = int(article_upper_whisker)\n",
    "max_target_length = int(summary_upper_whisker)\n",
    "\n",
    "tokenized_datasets = dataset.map(preprocess_function, batched=True)"
   ]
  },
  {
   "cell_type": "code",
   "execution_count": 24,
   "metadata": {},
   "outputs": [],
   "source": [
    "# ROUGE metric for automatic summarization and machine translation software in Natural Language Processing\n",
    "\n",
    "rouge_score = evaluate.load(\"rouge\")"
   ]
  },
  {
   "cell_type": "code",
   "execution_count": 25,
   "metadata": {},
   "outputs": [
    {
     "data": {
      "text/plain": [
       "{'rouge1': np.float64(0.923076923076923),\n",
       " 'rouge2': np.float64(0.7272727272727272),\n",
       " 'rougeL': np.float64(0.923076923076923),\n",
       " 'rougeLsum': np.float64(0.923076923076923)}"
      ]
     },
     "execution_count": 25,
     "metadata": {},
     "output_type": "execute_result"
    }
   ],
   "source": [
    "# example on using rouge\n",
    "\n",
    "generated_summary = \"I absolutely loved reading the Hunger Games\"\n",
    "reference_summary = \"I loved reading the Hunger Games\"\n",
    "scores = rouge_score.compute(predictions=[generated_summary], references=[reference_summary])\n",
    "scores"
   ]
  },
  {
   "cell_type": "code",
   "execution_count": 26,
   "metadata": {},
   "outputs": [],
   "source": [
    "def compute_metrics(eval_pred):\n",
    "    predictions, labels = eval_pred\n",
    "    \n",
    "    # Decode generated summaries into text\n",
    "    decoded_preds = tokenizer.batch_decode(predictions, skip_special_tokens=True)\n",
    "    \n",
    "    # Replace -100 in the labels as we can't decode them\n",
    "    labels = np.where(labels != -100, labels, tokenizer.pad_token_id)\n",
    "    \n",
    "    # Decode reference summaries into text\n",
    "    decoded_labels = tokenizer.batch_decode(labels, skip_special_tokens=True)\n",
    "    \n",
    "    # ROUGE expects a newline after each sentence\n",
    "    decoded_preds = [\"\\n\".join(sent_tokenize(pred.strip())) for pred in decoded_preds]\n",
    "    decoded_labels = [\"\\n\".join(sent_tokenize(label.strip())) for label in decoded_labels]\n",
    "    \n",
    "    # Compute ROUGE scores\n",
    "    result = rouge_score.compute(predictions=decoded_preds, references=decoded_labels, use_stemmer=True)\n",
    "    \n",
    "    return {k: round(v, 4) for k, v in result.items()}"
   ]
  },
  {
   "cell_type": "code",
   "execution_count": 27,
   "metadata": {},
   "outputs": [
    {
     "name": "stderr",
     "output_type": "stream",
     "text": [
      "Device set to use cuda:0\n"
     ]
    },
    {
     "name": "stdout",
     "output_type": "stream",
     "text": [
      "'>>> Article: Moya sidesteps Davis Cup in 2005..Carlos Moya has chosen not to help Spain try and defend the Davis Cup crown they won in Seville in November...Moya led Spain to victory over the USA but wants to focus on the Grand Slams in 2005, although insists he will return to the Davis Cup in 2006. \"After two years of total commitment with the Davis Cup team... I have taken this difficult decision to concentrate on the regular circuit,\" said Moya. \"They know that after this season they can count on me again if they so wish.\" The 1998 French Open champion is determined to make an impact in the major events after spending much of the last eight years in the top 10. \"At the age of 29 I have set some tough goals in my professional career and this season I need to fix my objectives on specific dates and tournaments,\" he said. \"Since the Davis Cup in Seville I have been working on my condition as well as technical and medical aspects of my game which will allow me to come into the big events of the year in top form.\"..Moya began 2005 with victory in the Chennai Open on Sunday.'\n",
      "\n",
      "'>>> Summary: Moya led Spain to victory over the USA but wants to focus on the Grand Slams in 2005, although insists he will return to the Davis Cup in 2006.Carlos Moya has chosen not to help Spain try and defend the Davis Cup crown they won in Seville in November.\"Since the Davis Cup in Seville I have been working on my condition as well as technical and medical aspects of my game which will allow me to come into the big events of the year in top form.\"\"After two years of total commitment with the Davis Cup team...'\n",
      "\n",
      "'>>> Generated Summary: Moya sidesteps Davis Cup in 2005..Carlos Moya has chosen not to help Spain try and defend the Davis Cup crown they won in Seville in November...Moya led Spain to victory over the USA but wants to focus on the Grand Slams in 2005, although insists he will return to theDavis Cup in 2006. \"After two years of total commitment with the Davis cup team... I have taken this difficult decision to concentrate on the regular circuit,\" said Moya. \"They know that after this season they can count on me again if they so wish.\" The 1998 French Open champion is determined to make'\n",
      "\n",
      "'>>> ROUGE Score: {'rouge1': np.float64(0.6732), 'rouge2': np.float64(0.5714), 'rougeL': np.float64(0.4), 'rougeLsum': np.float64(0.4)}'\n"
     ]
    }
   ],
   "source": [
    "# generate summaries\n",
    "summarizer = pipeline(\"summarization\", model=model_ckpt)\n",
    "\n",
    "def print_summary(idx):\n",
    "    article = dataset[\"test\"][idx][\"article\"]\n",
    "    summary = dataset[\"test\"][idx][\"summary\"]\n",
    "    g_summary = summarizer(dataset[\"test\"][idx][\"article\"])[0][\"summary_text\"]\n",
    "    score = rouge_score.compute(predictions=[g_summary], references=[summary])\n",
    "    scores = {k: round(v, 4) for k, v in score.items()}\n",
    "    print(f\"'>>> Article: {article}'\")\n",
    "    print(f\"\\n'>>> Summary: {summary}'\")\n",
    "    print(f\"\\n'>>> Generated Summary: {g_summary}'\")\n",
    "    print(f\"\\n'>>> ROUGE Score: {scores}'\")\n",
    "    \n",
    "    \n",
    "print_summary(5)"
   ]
  },
  {
   "cell_type": "code",
   "execution_count": 28,
   "metadata": {},
   "outputs": [],
   "source": [
    "# fine tuning BART model\n",
    "\n",
    "# creating data_collator \n",
    "# A data_collator is a function that takes a batch of data and collates it into a format suitable for model training\n",
    "\n",
    "data_collator = DataCollatorForSeq2Seq(tokenizer, model=model)"
   ]
  },
  {
   "cell_type": "code",
   "execution_count": 29,
   "metadata": {},
   "outputs": [],
   "source": [
    "# removing the columns with strings because the collator won’t know how to pad these elements\n",
    "\n",
    "tokenized_datasets = tokenized_datasets.remove_columns(dataset[\"train\"].column_names)"
   ]
  },
  {
   "cell_type": "code",
   "execution_count": 30,
   "metadata": {},
   "outputs": [
    {
     "name": "stderr",
     "output_type": "stream",
     "text": [
      "huggingface/tokenizers: The current process just got forked, after parallelism has already been used. Disabling parallelism to avoid deadlocks...\n",
      "To disable this warning, you can either:\n",
      "\t- Avoid using `tokenizers` before the fork if possible\n",
      "\t- Explicitly set the environment variable TOKENIZERS_PARALLELISM=(true | false)\n"
     ]
    }
   ],
   "source": [
    "batch_size = 8\n",
    "num_train_epochs = 8\n",
    "# Show the training loss with every epoch\n",
    "logging_steps = len(tokenized_datasets[\"train\"]) // batch_size\n",
    "model_name = model_ckpt\n",
    "\n",
    "\n",
    "args = Seq2SeqTrainingArguments(\n",
    "    output_dir=f\"{model_name}-finetuned-BBC\",\n",
    "    evaluation_strategy=\"epoch\",\n",
    "    learning_rate=5.6e-5,\n",
    "    per_device_train_batch_size=batch_size,\n",
    "    per_device_eval_batch_size=batch_size,\n",
    "    weight_decay=0.01,\n",
    "    save_total_limit=3,\n",
    "    num_train_epochs=num_train_epochs,\n",
    "    predict_with_generate=True,\n",
    "    logging_steps=logging_steps,\n",
    "    push_to_hub=True,\n",
    "    run_name=\"text_summmarizer\",\n",
    "    report_to=\"wandb\", # ensures WandB logging is enabled\n",
    "    hub_token=huggingface_token,\n",
    "    )"
   ]
  },
  {
   "cell_type": "code",
   "execution_count": 31,
   "metadata": {},
   "outputs": [],
   "source": [
    "trainer = Seq2SeqTrainer(\n",
    "    model,\n",
    "    args,\n",
    "    train_dataset=tokenized_datasets[\"train\"],\n",
    "    eval_dataset=tokenized_datasets[\"test\"],\n",
    "    data_collator=data_collator,\n",
    "    tokenizer=tokenizer,\n",
    "    compute_metrics=compute_metrics,)"
   ]
  },
  {
   "cell_type": "code",
   "execution_count": 32,
   "metadata": {},
   "outputs": [
    {
     "data": {
      "text/html": [
       "\n",
       "    <div>\n",
       "      \n",
       "      <progress value='16' max='16' style='width:300px; height:20px; vertical-align: middle;'></progress>\n",
       "      [16/16 00:38, Epoch 8/8]\n",
       "    </div>\n",
       "    <table border=\"1\" class=\"dataframe\">\n",
       "  <thead>\n",
       " <tr style=\"text-align: left;\">\n",
       "      <th>Epoch</th>\n",
       "      <th>Training Loss</th>\n",
       "      <th>Validation Loss</th>\n",
       "      <th>Rouge1</th>\n",
       "      <th>Rouge2</th>\n",
       "      <th>Rougel</th>\n",
       "      <th>Rougelsum</th>\n",
       "    </tr>\n",
       "  </thead>\n",
       "  <tbody>\n",
       "    <tr>\n",
       "      <td>1</td>\n",
       "      <td>No log</td>\n",
       "      <td>0.565552</td>\n",
       "      <td>0.149900</td>\n",
       "      <td>0.091800</td>\n",
       "      <td>0.122100</td>\n",
       "      <td>0.122800</td>\n",
       "    </tr>\n",
       "    <tr>\n",
       "      <td>2</td>\n",
       "      <td>No log</td>\n",
       "      <td>0.422026</td>\n",
       "      <td>0.149900</td>\n",
       "      <td>0.091800</td>\n",
       "      <td>0.122100</td>\n",
       "      <td>0.122800</td>\n",
       "    </tr>\n",
       "    <tr>\n",
       "      <td>3</td>\n",
       "      <td>1.068600</td>\n",
       "      <td>0.356386</td>\n",
       "      <td>0.149900</td>\n",
       "      <td>0.091800</td>\n",
       "      <td>0.122100</td>\n",
       "      <td>0.122800</td>\n",
       "    </tr>\n",
       "    <tr>\n",
       "      <td>4</td>\n",
       "      <td>1.068600</td>\n",
       "      <td>0.296293</td>\n",
       "      <td>0.139300</td>\n",
       "      <td>0.081900</td>\n",
       "      <td>0.124800</td>\n",
       "      <td>0.127100</td>\n",
       "    </tr>\n",
       "    <tr>\n",
       "      <td>5</td>\n",
       "      <td>1.068600</td>\n",
       "      <td>0.271838</td>\n",
       "      <td>0.142500</td>\n",
       "      <td>0.086300</td>\n",
       "      <td>0.125100</td>\n",
       "      <td>0.129500</td>\n",
       "    </tr>\n",
       "    <tr>\n",
       "      <td>6</td>\n",
       "      <td>0.415200</td>\n",
       "      <td>0.260674</td>\n",
       "      <td>0.134000</td>\n",
       "      <td>0.076600</td>\n",
       "      <td>0.112900</td>\n",
       "      <td>0.118500</td>\n",
       "    </tr>\n",
       "    <tr>\n",
       "      <td>7</td>\n",
       "      <td>0.415200</td>\n",
       "      <td>0.255152</td>\n",
       "      <td>0.131400</td>\n",
       "      <td>0.076600</td>\n",
       "      <td>0.112800</td>\n",
       "      <td>0.117700</td>\n",
       "    </tr>\n",
       "    <tr>\n",
       "      <td>8</td>\n",
       "      <td>0.415200</td>\n",
       "      <td>0.253585</td>\n",
       "      <td>0.143300</td>\n",
       "      <td>0.097000</td>\n",
       "      <td>0.129600</td>\n",
       "      <td>0.132100</td>\n",
       "    </tr>\n",
       "  </tbody>\n",
       "</table><p>"
      ],
      "text/plain": [
       "<IPython.core.display.HTML object>"
      ]
     },
     "metadata": {},
     "output_type": "display_data"
    },
    {
     "data": {
      "text/plain": [
       "TrainOutput(global_step=16, training_loss=0.6469374820590019, metrics={'train_runtime': 43.5076, 'train_samples_per_second': 9.378, 'train_steps_per_second': 0.368, 'total_flos': 189788808867840.0, 'train_loss': 0.6469374820590019, 'epoch': 8.0})"
      ]
     },
     "execution_count": 32,
     "metadata": {},
     "output_type": "execute_result"
    }
   ],
   "source": [
    "trainer.train()"
   ]
  },
  {
   "cell_type": "code",
   "execution_count": null,
   "metadata": {},
   "outputs": [
    {
     "name": "stdout",
     "output_type": "stream",
     "text": [
      "Summary in Bullet Points: \n",
      "- The Amazon rainforest is often referred to as the \"lungs of the Earth\" because of its critical role in producing oxygen and absorbing carbon dioxide.\n",
      "- It spans across several countries in South America, including Brazil, Peru, and Colombia, and is home to an incredibly diverse array of wildlife, plants, and indigenous cultures.\n",
      "- Unfortunately, the Amazon is facing significant threats due to deforestation, illegal logging, mining, and agricultural expansion.\n",
      "- These activities are rapidly destroying large portions of the rainforest, which not only contributes to the loss of biodiversity but also accelerates climate change by releasing stored carbon into the atmosphere.\n"
     ]
    }
   ],
   "source": [
    "input_text = \"\"\"\n",
    "The Amazon rainforest is often referred to as the \"lungs of the Earth\" because of its critical role in producing oxygen and absorbing carbon dioxide. It spans across several countries in South America, including Brazil, Peru, and Colombia, and is home to an incredibly diverse array of wildlife, plants, and indigenous cultures. Unfortunately, the Amazon is facing significant threats due to deforestation, illegal logging, mining, and agricultural expansion. These activities are rapidly destroying large portions of the rainforest, which not only contributes to the loss of biodiversity but also accelerates climate change by releasing stored carbon into the atmosphere. \n",
    "\n",
    "In recent years, global efforts to protect the Amazon have intensified, with governments, NGOs, and international organizations working together to implement conservation strategies and policies. One such initiative is the creation of protected areas and indigenous territories that restrict harmful activities. However, enforcement of these measures remains a challenge, particularly in remote regions where illegal activities are rampant. \n",
    "\n",
    "Another important issue is the role of indigenous peoples in protecting the forest. Many indigenous communities have lived in the Amazon for centuries and possess a deep understanding of the ecosystem. These communities are often the first line of defense against environmental destruction and have been leading efforts to preserve their land and culture. Yet, they face increasing threats from outside forces seeking to exploit the land for economic gain. \n",
    "\n",
    "Climate change is exacerbating the situation, with rising temperatures and altered rainfall patterns putting additional pressure on the Amazon. Scientists have warned that if current trends continue, the rainforest could reach a tipping point where it can no longer function as a carbon sink, further accelerating global warming. Given its global significance, the fate of the Amazon is a pressing issue that requires urgent and coordinated action on a global scale.\n",
    "\"\"\"\n",
    "\n",
    "# Tokenize input text\n",
    "inputs = tokenizer(input_text, return_tensors=\"pt\", max_length=2048, truncation=True).to(device)\n",
    "\n",
    "# Generate summary\n",
    "summary_ids = model.generate(\n",
    "    inputs['input_ids'],\n",
    "    num_beams=8,\n",
    "    max_length=200,\n",
    "    min_length=100,\n",
    "    early_stopping=True,\n",
    "    temperature=0.8\n",
    ")\n",
    "\n",
    "# Decode the summary\n",
    "summary = tokenizer.decode(summary_ids[0], skip_special_tokens=True)\n",
    "\n",
    "# Post-process to format the summary in bullet points\n",
    "# Split the summary into sentences by splitting on '.'\n",
    "sentences = summary.split(\".\")\n",
    "\n",
    "# Remove any extra spaces or empty sentences\n",
    "sentences = [\"\\n- \" + sentence.strip() + \".\" for sentence in sentences if sentence.strip()]\n",
    "\n",
    "# Join sentences with bullet points\n",
    "# formatted_summary = \"\".join(sentences)\n",
    "formatted_summary = \"\"\n",
    "for sen in sentences:\n",
    "    formatted_summary = formatted_summary + sen\n",
    "\n",
    "# Print the formatted summary\n",
    "print(\"Summary in Bullet Points:\", formatted_summary)\n",
    "\n"
   ]
  }
 ],
 "metadata": {
  "kernelspec": {
   "display_name": "venv",
   "language": "python",
   "name": "python3"
  },
  "language_info": {
   "codemirror_mode": {
    "name": "ipython",
    "version": 3
   },
   "file_extension": ".py",
   "mimetype": "text/x-python",
   "name": "python",
   "nbconvert_exporter": "python",
   "pygments_lexer": "ipython3",
   "version": "3.9.21"
  }
 },
 "nbformat": 4,
 "nbformat_minor": 2
}
